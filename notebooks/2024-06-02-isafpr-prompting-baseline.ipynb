{
 "cells": [
  {
   "cell_type": "raw",
   "metadata": {
    "vscode": {
     "languageId": "raw"
    }
   },
   "source": [
    "---\n",
    "date: '2024-06-02'\n",
    "description: \"\"\n",
    "output-file: 2024-06-02-isafpr-prompting-baseline.html\n",
    "title: \"\"\n",
    "image: 'images/*.png'\n",
    "author: Alex Strick van Linschoten\n",
    "categories:\n",
    "  - nlp\n",
    "include-before-body: '<script defer data-domain=\"mlops.systems\" src=\"https://plausible.io/js/script.js\"></script>'\n",
    "toc: true\n",
    "layout: post\n",
    "comments:\n",
    "    utterances:\n",
    "        repo: strickvl/mlops-dot-systems\n",
    "---"
   ]
  },
  {
   "cell_type": "markdown",
   "metadata": {},
   "source": [
    "I'm currently participating in [the Maven LLM course /\n",
    "conference](https://maven.com/parlance-labs/fine-tuning). Originally focused on\n",
    "finetuning LLMs, it's since expanded to encompass a wide range of LLM-related\n",
    "topics. I thought I'd try to work through a small project alongside the course\n",
    "to get some practical experience with fine-tuning LLMs.\n",
    "\n",
    "I previously published a dataset from my time working in Afghanistan: the ISAF\n",
    "Press Releases dataset. (See\n",
    "[here](https://mlops.systems/posts/2024-03-24-publishing-afghanistan-dataset-huggingface.html)\n",
    "for a blogpost I wrote describing the dataset in more detail.) Even though it\n",
    "was not really intended as a dataset to be used for any kind of model training,\n",
    "I thought it might serve well to finetune an LLM on top of it. The dataset is\n",
    "made up of press releases from [the International Security Assistance Force\n",
    "(ISAF)](https://en.wikipedia.org/wiki/International_Security_Assistance_Force)\n",
    "and I had previously annotated them, extracting out metadata of interest.\n",
    "\n",
    "Here's an example:\n",
    "\n",
    "> \"2013-02-21 KABUL, Afghanistan, February 21, 2013 - An Afghan and coalition\n",
    "> security force arrested six insurgents during an operation in search of an\n",
    "> Islamic Movement of Uzbekistan leader in Kunduz district, Kunduz province,\n",
    "> today. The leader is allegedly instrumental in manufacturing, procuring and\n",
    "> distributing improvised explosive devices for use in attacks against Afghan\n",
    "> and coalition forces in the province. The security force also seized a shotgun\n",
    "> as a result of the operation.\"\n",
    "\n",
    "From this I extracted the following metadata:\n",
    "\n",
    "- the date\n",
    "- the type of event (detention)\n",
    "- the province where the even took place (Kunduz)\n",
    "- The city or district where the event took place (Kunduz)\n",
    "- the group that was targeted in the raid (IMU)\n",
    "- the minimum number of people killed (0)\n",
    "- the minimum number of people captured (6)\n",
    "- the phrase used to characterise the number captured (6)\n",
    "- whether anyone was killed or not (no)\n",
    "- whether anyone was captured or not (yes)\n",
    "- whether an airstrike was conducted or not (no)\n",
    "- whether any leaders were arrested or not (no)\n",
    "\n",
    "There were a few other pieces of metadata captured but you probably get the\n",
    "idea. Check out [the dataset's\n",
    "card](https://huggingface.co/datasets/strickvl/isafpressreleases) which gives\n",
    "full details.\n",
    "\n",
    "There are 4822 such events in the dataset and as you might imagine it took quite\n",
    "a long time to manually annotate all this data. An example like the one above is\n",
    "fairly straightforward but it's sometimes unclear exactly how many people were\n",
    "involved. Take this press release:\n",
    "\n",
    "> \"2012-12-S-025 KABUL, Afghanistan (Dec. 26, 2012) An Afghan- led security\n",
    "> force of more than 1,000 Afghan National Security Force soldiers and\n",
    "> policemen, concluded a five day coalition-supported operation in Baraki Barak\n",
    "> district, Logar province, yesterday. The operation was conducted by the\n",
    "> Provincial Response Company Laghman, along with elements of the Afghan Local\n",
    "> Police, the Afghan Uniformed Police, and the Afghan National Army. During the\n",
    "> operation, the Afghan-led force killed multiple insurgents and detained dozens\n",
    "> of suspected insurgents. The security force also seized improvised explosive\n",
    "> device materials, suicide vests, weapons, ammunition, and a quantity of\n",
    "> illicit drugs.\"\n",
    "\n",
    "The number of people killed is specified as \"multiple\" and the number of those\n",
    "captured is specified as \"dozens\". So that means a minimum of 3 killed and a\n",
    "minimum of 24 captured. But you have to be reading fairly closely to pick all of\n",
    "this up, and it gets even more complicated when they refer to multiple events in\n",
    "the same press release (and so on).\n",
    "\n",
    "It occurred to me recently that it might make for an interesting test of an\n",
    "LLM's ability to extract this data out of the raw text in a structured format.\n",
    "So ideally I'd input the press release and I'd get out a JSON object (or\n",
    "Pydantic or whatever) which populates all the various fields.\n",
    "\n",
    "I'm lucky in that I've already lovingly labeled such a large dataset so I can be\n",
    "really confident in the quality which will allow me to focus on the task of\n",
    "finetuning an LLM to do this task."
   ]
  },
  {
   "cell_type": "markdown",
   "metadata": {},
   "source": [
    "So my learning goals from this project are to:\n",
    "\n",
    "- get more familiar with the practical flow of finetuning an LLM, particularly\n",
    "  given hardware constraints and seeing how much can be done on my local machine\n",
    "  vs needing cloud hardware.\n",
    "- understand the best use cases for finetuning LLMs\n",
    "- get some experience with deploying the finetuned LLMs (and seeing how that\n",
    "  compares to the popular LLMs available via API (Anthropic / OpenAI etc))\n",
    "- understand the limits of structured data extraction using LLMs\n",
    "- get a sense of the effort needed to finetune LLMs for a focused task like this\n",
    "- see how much can be done with local and open-source LLMs\n",
    "\n",
    "For the project itself, I keep reading (and [watching](https://www.youtube.com/watch?v=kFdfDJ1fQxY)) that you can get GPT-4 level performance\n",
    "on specific focused tasks by finetuning LLMs and I wanted to see how much can be\n",
    "done with limited resources (or just how cherry-picked those public examples\n",
    "actually are.)\n",
    "\n",
    "I have [a 'complete' dataset](https://huggingface.co/datasets/strickvl/isafpressreleasescomplete) which includes press releases published after I\n",
    "finished working on my report, so ideally I'll be able to use the model to label\n",
    "the remaining data (if it's good enough in terms of accuracy). I'd also like to see\n",
    "how the speed of a finetuned model compares to using something like GPT-4."
   ]
  },
  {
   "cell_type": "markdown",
   "metadata": {},
   "source": [
    "Let's try this out with a simple prompt and a single example to see how it\n",
    "performs out of the box! We load the dataset first:"
   ]
  },
  {
   "cell_type": "code",
   "execution_count": 1,
   "metadata": {},
   "outputs": [
    {
     "name": "stderr",
     "output_type": "stream",
     "text": [
      "/home/strickvl/.pyenv/versions/3.10.14/envs/isafpr/lib/python3.10/site-packages/tqdm/auto.py:21: TqdmWarning: IProgress not found. Please update jupyter and ipywidgets. See https://ipywidgets.readthedocs.io/en/stable/user_install.html\n",
      "  from .autonotebook import tqdm as notebook_tqdm\n"
     ]
    },
    {
     "data": {
      "text/html": [
       "<pre style=\"white-space:pre;overflow-x:auto;line-height:normal;font-family:Menlo,'DejaVu Sans Mono',consolas,'Courier New',monospace\">                              name  eventrefnumber  \\\n",
       "<span style=\"color: #008080; text-decoration-color: #008080; font-weight: bold\">0</span>          Taliban Compound Struck  <span style=\"color: #008080; text-decoration-color: #008080; font-weight: bold\">2009</span>-<span style=\"color: #008080; text-decoration-color: #008080; font-weight: bold\">11</span>-CA-<span style=\"color: #008080; text-decoration-color: #008080; font-weight: bold\">056</span>   \n",
       "<span style=\"color: #008080; text-decoration-color: #008080; font-weight: bold\">1</span>   Militants Detained in Kandahar  <span style=\"color: #008080; text-decoration-color: #008080; font-weight: bold\">2009</span>-<span style=\"color: #008080; text-decoration-color: #008080; font-weight: bold\">11</span>-CA-<span style=\"color: #008080; text-decoration-color: #008080; font-weight: bold\">056</span>   \n",
       "<span style=\"color: #008080; text-decoration-color: #008080; font-weight: bold\">2</span>      Militants Detained in Khost  <span style=\"color: #008080; text-decoration-color: #008080; font-weight: bold\">2009</span>-<span style=\"color: #008080; text-decoration-color: #008080; font-weight: bold\">12</span>-CA–<span style=\"color: #008080; text-decoration-color: #008080; font-weight: bold\">057</span>   \n",
       "<span style=\"color: #008080; text-decoration-color: #008080; font-weight: bold\">3</span>     Militants Detained in Wardak  <span style=\"color: #008080; text-decoration-color: #008080; font-weight: bold\">2009</span>-<span style=\"color: #008080; text-decoration-color: #008080; font-weight: bold\">12</span>-CA–<span style=\"color: #008080; text-decoration-color: #008080; font-weight: bold\">057</span>   \n",
       "<span style=\"color: #008080; text-decoration-color: #008080; font-weight: bold\">4</span>  Insurgents Detained in Kandahar  <span style=\"color: #008080; text-decoration-color: #008080; font-weight: bold\">2009</span>-<span style=\"color: #008080; text-decoration-color: #008080; font-weight: bold\">12</span>-CA-<span style=\"color: #008080; text-decoration-color: #008080; font-weight: bold\">058</span>   \n",
       "\n",
       "                                                text  StartDate  eventtype  \\\n",
       "<span style=\"color: #008080; text-decoration-color: #008080; font-weight: bold\">0</span>  Dec. <span style=\"color: #008080; text-decoration-color: #008080; font-weight: bold\">2</span>: Taliban Compound Struck\\n\\nNEWS RELEAS<span style=\"color: #808000; text-decoration-color: #808000\">...</span> <span style=\"color: #008080; text-decoration-color: #008080; font-weight: bold\">2009</span>-<span style=\"color: #008080; text-decoration-color: #008080; font-weight: bold\">12</span>-<span style=\"color: #008080; text-decoration-color: #008080; font-weight: bold\">01</span>  airstrike   \n",
       "<span style=\"color: #008080; text-decoration-color: #008080; font-weight: bold\">1</span>  Militants Detained in Kandahar\\nNEWS RELEASE I<span style=\"color: #808000; text-decoration-color: #808000\">...</span> <span style=\"color: #008080; text-decoration-color: #008080; font-weight: bold\">2009</span>-<span style=\"color: #008080; text-decoration-color: #008080; font-weight: bold\">12</span>-<span style=\"color: #008080; text-decoration-color: #008080; font-weight: bold\">02</span>  detention   \n",
       "<span style=\"color: #008080; text-decoration-color: #008080; font-weight: bold\">2</span>  Dec. <span style=\"color: #008080; text-decoration-color: #008080; font-weight: bold\">3</span>: Militants Detained in Khwost\\nNEWS REL<span style=\"color: #808000; text-decoration-color: #808000\">...</span> <span style=\"color: #008080; text-decoration-color: #008080; font-weight: bold\">2009</span>-<span style=\"color: #008080; text-decoration-color: #008080; font-weight: bold\">12</span>-<span style=\"color: #008080; text-decoration-color: #008080; font-weight: bold\">02</span>  detention   \n",
       "<span style=\"color: #008080; text-decoration-color: #008080; font-weight: bold\">3</span>  Dec. <span style=\"color: #008080; text-decoration-color: #008080; font-weight: bold\">3</span>: Militants Detained in Wardak\\n\\n\\n\\nNE<span style=\"color: #808000; text-decoration-color: #808000\">...</span> <span style=\"color: #008080; text-decoration-color: #008080; font-weight: bold\">2009</span>-<span style=\"color: #008080; text-decoration-color: #008080; font-weight: bold\">12</span>-<span style=\"color: #008080; text-decoration-color: #008080; font-weight: bold\">03</span>  detention   \n",
       "<span style=\"color: #008080; text-decoration-color: #008080; font-weight: bold\">4</span>  Dec. <span style=\"color: #008080; text-decoration-color: #008080; font-weight: bold\">4</span>: Insurgents Detained in Kandahar\\nISAF <span style=\"color: #808000; text-decoration-color: #808000\">...</span> <span style=\"color: #008080; text-decoration-color: #008080; font-weight: bold\">2009</span>-<span style=\"color: #008080; text-decoration-color: #008080; font-weight: bold\">12</span>-<span style=\"color: #008080; text-decoration-color: #008080; font-weight: bold\">04</span>  detention   \n",
       "\n",
       "   province     citydistrict       village targetgroup commander  <span style=\"color: #808000; text-decoration-color: #808000\">...</span>  \\\n",
       "<span style=\"color: #008080; text-decoration-color: #008080; font-weight: bold\">0</span>     Kunar     Dara-ye Noor                   Taliban            <span style=\"color: #808000; text-decoration-color: #808000\">...</span>   \n",
       "<span style=\"color: #008080; text-decoration-color: #008080; font-weight: bold\">1</span>  Kandahar    Kandahar City                   Taliban            <span style=\"color: #808000; text-decoration-color: #808000\">...</span>   \n",
       "<span style=\"color: #008080; text-decoration-color: #008080; font-weight: bold\">2</span>     Khost  Sabari district      Khatekah     Taliban            <span style=\"color: #808000; text-decoration-color: #808000\">...</span>   \n",
       "<span style=\"color: #008080; text-decoration-color: #008080; font-weight: bold\">3</span>    Wardak       Sayyedabad    Jamad Khel     Taliban            <span style=\"color: #808000; text-decoration-color: #808000\">...</span>   \n",
       "<span style=\"color: #008080; text-decoration-color: #008080; font-weight: bold\">4</span>  Kandahar        Arghandab  Nurayo Kariz     Taliban            <span style=\"color: #808000; text-decoration-color: #808000\">...</span>   \n",
       "\n",
       "  airstrike noshotsfired dataprocessed flagged glossarymeta minleaderskilled  \\\n",
       "<span style=\"color: #008080; text-decoration-color: #008080; font-weight: bold\">0</span>      true        false          true   false        false                <span style=\"color: #008080; text-decoration-color: #008080; font-weight: bold\">0</span>   \n",
       "<span style=\"color: #008080; text-decoration-color: #008080; font-weight: bold\">1</span>     false         true          true   false        false                <span style=\"color: #008080; text-decoration-color: #008080; font-weight: bold\">0</span>   \n",
       "<span style=\"color: #008080; text-decoration-color: #008080; font-weight: bold\">2</span>     false         true          true   false        false                <span style=\"color: #008080; text-decoration-color: #008080; font-weight: bold\">0</span>   \n",
       "<span style=\"color: #008080; text-decoration-color: #008080; font-weight: bold\">3</span>     false         true          true   false        false                <span style=\"color: #008080; text-decoration-color: #008080; font-weight: bold\">0</span>   \n",
       "<span style=\"color: #008080; text-decoration-color: #008080; font-weight: bold\">4</span>     false         true          true   false        false                <span style=\"color: #008080; text-decoration-color: #008080; font-weight: bold\">0</span>   \n",
       "\n",
       "  minfacilitatorskilled minleaderscaptured minfacilitatorscaptured leaderq  \n",
       "<span style=\"color: #008080; text-decoration-color: #008080; font-weight: bold\">0</span>                     <span style=\"color: #008080; text-decoration-color: #008080; font-weight: bold\">0</span>                  <span style=\"color: #008080; text-decoration-color: #008080; font-weight: bold\">0</span>                       <span style=\"color: #008080; text-decoration-color: #008080; font-weight: bold\">0</span>   false  \n",
       "<span style=\"color: #008080; text-decoration-color: #008080; font-weight: bold\">1</span>                     <span style=\"color: #008080; text-decoration-color: #008080; font-weight: bold\">0</span>                  <span style=\"color: #008080; text-decoration-color: #008080; font-weight: bold\">0</span>                       <span style=\"color: #008080; text-decoration-color: #008080; font-weight: bold\">0</span>   false  \n",
       "<span style=\"color: #008080; text-decoration-color: #008080; font-weight: bold\">2</span>                     <span style=\"color: #008080; text-decoration-color: #008080; font-weight: bold\">0</span>                  <span style=\"color: #008080; text-decoration-color: #008080; font-weight: bold\">0</span>                       <span style=\"color: #008080; text-decoration-color: #008080; font-weight: bold\">1</span>   false  \n",
       "<span style=\"color: #008080; text-decoration-color: #008080; font-weight: bold\">3</span>                     <span style=\"color: #008080; text-decoration-color: #008080; font-weight: bold\">0</span>                  <span style=\"color: #008080; text-decoration-color: #008080; font-weight: bold\">0</span>                       <span style=\"color: #008080; text-decoration-color: #008080; font-weight: bold\">0</span>   false  \n",
       "<span style=\"color: #008080; text-decoration-color: #008080; font-weight: bold\">4</span>                     <span style=\"color: #008080; text-decoration-color: #008080; font-weight: bold\">0</span>                  <span style=\"color: #008080; text-decoration-color: #008080; font-weight: bold\">0</span>                       <span style=\"color: #008080; text-decoration-color: #008080; font-weight: bold\">1</span>   false  \n",
       "\n",
       "<span style=\"font-weight: bold\">[</span><span style=\"color: #008080; text-decoration-color: #008080; font-weight: bold\">5</span> rows x <span style=\"color: #008080; text-decoration-color: #008080; font-weight: bold\">28</span> columns<span style=\"font-weight: bold\">]</span>\n",
       "</pre>\n"
      ],
      "text/plain": [
       "                              name  eventrefnumber  \\\n",
       "\u001b[1;36m0\u001b[0m          Taliban Compound Struck  \u001b[1;36m2009\u001b[0m-\u001b[1;36m11\u001b[0m-CA-\u001b[1;36m056\u001b[0m   \n",
       "\u001b[1;36m1\u001b[0m   Militants Detained in Kandahar  \u001b[1;36m2009\u001b[0m-\u001b[1;36m11\u001b[0m-CA-\u001b[1;36m056\u001b[0m   \n",
       "\u001b[1;36m2\u001b[0m      Militants Detained in Khost  \u001b[1;36m2009\u001b[0m-\u001b[1;36m12\u001b[0m-CA–\u001b[1;36m057\u001b[0m   \n",
       "\u001b[1;36m3\u001b[0m     Militants Detained in Wardak  \u001b[1;36m2009\u001b[0m-\u001b[1;36m12\u001b[0m-CA–\u001b[1;36m057\u001b[0m   \n",
       "\u001b[1;36m4\u001b[0m  Insurgents Detained in Kandahar  \u001b[1;36m2009\u001b[0m-\u001b[1;36m12\u001b[0m-CA-\u001b[1;36m058\u001b[0m   \n",
       "\n",
       "                                                text  StartDate  eventtype  \\\n",
       "\u001b[1;36m0\u001b[0m  Dec. \u001b[1;36m2\u001b[0m: Taliban Compound Struck\\n\\nNEWS RELEAS\u001b[33m...\u001b[0m \u001b[1;36m2009\u001b[0m-\u001b[1;36m12\u001b[0m-\u001b[1;36m01\u001b[0m  airstrike   \n",
       "\u001b[1;36m1\u001b[0m  Militants Detained in Kandahar\\nNEWS RELEASE I\u001b[33m...\u001b[0m \u001b[1;36m2009\u001b[0m-\u001b[1;36m12\u001b[0m-\u001b[1;36m02\u001b[0m  detention   \n",
       "\u001b[1;36m2\u001b[0m  Dec. \u001b[1;36m3\u001b[0m: Militants Detained in Khwost\\nNEWS REL\u001b[33m...\u001b[0m \u001b[1;36m2009\u001b[0m-\u001b[1;36m12\u001b[0m-\u001b[1;36m02\u001b[0m  detention   \n",
       "\u001b[1;36m3\u001b[0m  Dec. \u001b[1;36m3\u001b[0m: Militants Detained in Wardak\\n\\n\\n\\nNE\u001b[33m...\u001b[0m \u001b[1;36m2009\u001b[0m-\u001b[1;36m12\u001b[0m-\u001b[1;36m03\u001b[0m  detention   \n",
       "\u001b[1;36m4\u001b[0m  Dec. \u001b[1;36m4\u001b[0m: Insurgents Detained in Kandahar\\nISAF \u001b[33m...\u001b[0m \u001b[1;36m2009\u001b[0m-\u001b[1;36m12\u001b[0m-\u001b[1;36m04\u001b[0m  detention   \n",
       "\n",
       "   province     citydistrict       village targetgroup commander  \u001b[33m...\u001b[0m  \\\n",
       "\u001b[1;36m0\u001b[0m     Kunar     Dara-ye Noor                   Taliban            \u001b[33m...\u001b[0m   \n",
       "\u001b[1;36m1\u001b[0m  Kandahar    Kandahar City                   Taliban            \u001b[33m...\u001b[0m   \n",
       "\u001b[1;36m2\u001b[0m     Khost  Sabari district      Khatekah     Taliban            \u001b[33m...\u001b[0m   \n",
       "\u001b[1;36m3\u001b[0m    Wardak       Sayyedabad    Jamad Khel     Taliban            \u001b[33m...\u001b[0m   \n",
       "\u001b[1;36m4\u001b[0m  Kandahar        Arghandab  Nurayo Kariz     Taliban            \u001b[33m...\u001b[0m   \n",
       "\n",
       "  airstrike noshotsfired dataprocessed flagged glossarymeta minleaderskilled  \\\n",
       "\u001b[1;36m0\u001b[0m      true        false          true   false        false                \u001b[1;36m0\u001b[0m   \n",
       "\u001b[1;36m1\u001b[0m     false         true          true   false        false                \u001b[1;36m0\u001b[0m   \n",
       "\u001b[1;36m2\u001b[0m     false         true          true   false        false                \u001b[1;36m0\u001b[0m   \n",
       "\u001b[1;36m3\u001b[0m     false         true          true   false        false                \u001b[1;36m0\u001b[0m   \n",
       "\u001b[1;36m4\u001b[0m     false         true          true   false        false                \u001b[1;36m0\u001b[0m   \n",
       "\n",
       "  minfacilitatorskilled minleaderscaptured minfacilitatorscaptured leaderq  \n",
       "\u001b[1;36m0\u001b[0m                     \u001b[1;36m0\u001b[0m                  \u001b[1;36m0\u001b[0m                       \u001b[1;36m0\u001b[0m   false  \n",
       "\u001b[1;36m1\u001b[0m                     \u001b[1;36m0\u001b[0m                  \u001b[1;36m0\u001b[0m                       \u001b[1;36m0\u001b[0m   false  \n",
       "\u001b[1;36m2\u001b[0m                     \u001b[1;36m0\u001b[0m                  \u001b[1;36m0\u001b[0m                       \u001b[1;36m1\u001b[0m   false  \n",
       "\u001b[1;36m3\u001b[0m                     \u001b[1;36m0\u001b[0m                  \u001b[1;36m0\u001b[0m                       \u001b[1;36m0\u001b[0m   false  \n",
       "\u001b[1;36m4\u001b[0m                     \u001b[1;36m0\u001b[0m                  \u001b[1;36m0\u001b[0m                       \u001b[1;36m1\u001b[0m   false  \n",
       "\n",
       "\u001b[1m[\u001b[0m\u001b[1;36m5\u001b[0m rows x \u001b[1;36m28\u001b[0m columns\u001b[1m]\u001b[0m\n"
      ]
     },
     "metadata": {},
     "output_type": "display_data"
    }
   ],
   "source": [
    "# get data from datasets\n",
    "from datasets import load_dataset\n",
    "import pandas as pd\n",
    "from rich import print\n",
    "import tqdm as notebook_tqdm\n",
    "\n",
    "# Load the dataset\n",
    "dataset = load_dataset(\"strickvl/isafpressreleases\", split=\"train\")\n",
    "\n",
    "# Convert the dataset to a pandas DataFrame\n",
    "df = pd.DataFrame(dataset)\n",
    "\n",
    "# Print the first few rows of the DataFrame\n",
    "print(df.head())"
   ]
  },
  {
   "cell_type": "markdown",
   "metadata": {},
   "source": [
    "We can take a peek at the columns in the dataset:"
   ]
  },
  {
   "cell_type": "code",
   "execution_count": 2,
   "metadata": {},
   "outputs": [
    {
     "data": {
      "text/plain": [
       "Index(['name', 'eventrefnumber', 'text', 'StartDate', 'eventtype', 'province',\n",
       "       'citydistrict', 'village', 'targetgroup', 'commander', 'position',\n",
       "       'minkilled', 'mincaptured', 'capturedcharacterisation',\n",
       "       'killedcharacterisation', 'killq', 'captureq', 'killcaptureraid',\n",
       "       'airstrike', 'noshotsfired', 'dataprocessed', 'flagged', 'glossarymeta',\n",
       "       'minleaderskilled', 'minfacilitatorskilled', 'minleaderscaptured',\n",
       "       'minfacilitatorscaptured', 'leaderq'],\n",
       "      dtype='object')"
      ]
     },
     "execution_count": 2,
     "metadata": {},
     "output_type": "execute_result"
    }
   ],
   "source": [
    "df.columns"
   ]
  },
  {
   "cell_type": "markdown",
   "metadata": {},
   "source": [
    "If we look at the options for the 'eventtype' column, you'll see that we have\n",
    "some single-word event types at the top, but also some semi-colon-separated\n",
    "event types. We'll need to handle these a bit differently when we get to\n",
    "finetuning but perhaps let's ignore that for now."
   ]
  },
  {
   "cell_type": "code",
   "execution_count": 3,
   "metadata": {},
   "outputs": [
    {
     "data": {
      "text/html": [
       "<pre style=\"white-space:pre;overflow-x:auto;line-height:normal;font-family:Menlo,'DejaVu Sans Mono',consolas,'Courier New',monospace\"><span style=\"font-weight: bold\">[</span>\n",
       "    <span style=\"color: #008000; text-decoration-color: #008000\">'airstrike'</span>,\n",
       "    <span style=\"color: #008000; text-decoration-color: #008000\">'detention'</span>,\n",
       "    <span style=\"color: #008000; text-decoration-color: #008000\">'captureandkill'</span>,\n",
       "    <span style=\"color: #008000; text-decoration-color: #008000\">'insurgentskilled'</span>,\n",
       "    <span style=\"color: #008000; text-decoration-color: #008000\">'exchangeoffire'</span>,\n",
       "    <span style=\"color: #008000; text-decoration-color: #008000\">''</span>,\n",
       "    <span style=\"color: #008000; text-decoration-color: #008000\">'civiliancasualty'</span>,\n",
       "    <span style=\"color: #008000; text-decoration-color: #008000\">'2010-07-CA-124'</span>,\n",
       "    <span style=\"color: #008000; text-decoration-color: #008000\">'insurgentskilled;civiliancasualty'</span>,\n",
       "    <span style=\"color: #008000; text-decoration-color: #008000\">'airstrike;detention'</span>,\n",
       "    <span style=\"color: #008000; text-decoration-color: #008000\">'detention;airstrike'</span>,\n",
       "    <span style=\"color: #008000; text-decoration-color: #008000\">'civiliancasualty;airstrike'</span>,\n",
       "    <span style=\"color: #008000; text-decoration-color: #008000\">'airstrike;civiliancasualty'</span>,\n",
       "    <span style=\"color: #008000; text-decoration-color: #008000\">'insurgentskilled;detention'</span>,\n",
       "    <span style=\"color: #008000; text-decoration-color: #008000\">'detention;insurgentskilled'</span>\n",
       "<span style=\"font-weight: bold\">]</span>\n",
       "</pre>\n"
      ],
      "text/plain": [
       "\u001b[1m[\u001b[0m\n",
       "    \u001b[32m'airstrike'\u001b[0m,\n",
       "    \u001b[32m'detention'\u001b[0m,\n",
       "    \u001b[32m'captureandkill'\u001b[0m,\n",
       "    \u001b[32m'insurgentskilled'\u001b[0m,\n",
       "    \u001b[32m'exchangeoffire'\u001b[0m,\n",
       "    \u001b[32m''\u001b[0m,\n",
       "    \u001b[32m'civiliancasualty'\u001b[0m,\n",
       "    \u001b[32m'2010-07-CA-124'\u001b[0m,\n",
       "    \u001b[32m'insurgentskilled;civiliancasualty'\u001b[0m,\n",
       "    \u001b[32m'airstrike;detention'\u001b[0m,\n",
       "    \u001b[32m'detention;airstrike'\u001b[0m,\n",
       "    \u001b[32m'civiliancasualty;airstrike'\u001b[0m,\n",
       "    \u001b[32m'airstrike;civiliancasualty'\u001b[0m,\n",
       "    \u001b[32m'insurgentskilled;detention'\u001b[0m,\n",
       "    \u001b[32m'detention;insurgentskilled'\u001b[0m\n",
       "\u001b[1m]\u001b[0m\n"
      ]
     },
     "metadata": {},
     "output_type": "display_data"
    }
   ],
   "source": [
    "eventtype_options = df[\"eventtype\"].unique().tolist()\n",
    "\n",
    "print(eventtype_options)"
   ]
  },
  {
   "cell_type": "markdown",
   "metadata": {},
   "source": [
    "We have everything we need to set up the task and the data structures that will\n",
    "be filled by our LLM. Let's start with the event type where we just create an\n",
    "enum to store the options:"
   ]
  },
  {
   "cell_type": "code",
   "execution_count": 4,
   "metadata": {},
   "outputs": [],
   "source": [
    "from pydantic import BaseModel, Field\n",
    "from datetime import date\n",
    "from enum import Enum\n",
    "\n",
    "\n",
    "class EventType(str, Enum):\n",
    "    airstrike = \"airstrike\"\n",
    "    detention = \"detention\"\n",
    "    captureandkill = \"captureandkill\"\n",
    "    insurgentskilled = \"insurgentskilled\"\n",
    "    exchangeoffire = \"exchangeoffire\"\n",
    "    civiliancasualty = \"civiliancasualty\""
   ]
  },
  {
   "cell_type": "markdown",
   "metadata": {},
   "source": [
    "We can create a similar enum to store the provinces in Afghanistan:"
   ]
  },
  {
   "cell_type": "code",
   "execution_count": 5,
   "metadata": {},
   "outputs": [],
   "source": [
    "class Province(str, Enum):\n",
    "    badakhshan = \"badakhshan\"\n",
    "    badghis = \"badghis\"\n",
    "    baghlan = \"baghlan\"\n",
    "    balkh = \"balkh\"\n",
    "    bamyan = \"bamyan\"\n",
    "    day_kundi = \"day_kundi\"\n",
    "    farah = \"farah\"\n",
    "    faryab = \"faryab\"\n",
    "    ghazni = \"ghazni\"\n",
    "    ghor = \"ghor\"\n",
    "    helmand = \"helmand\"\n",
    "    herat = \"herat\"\n",
    "    jawzjan = \"jawzjan\"\n",
    "    kabul = \"kabul\"\n",
    "    kandahar = \"kandahar\"\n",
    "    kapisa = \"kapisa\"\n",
    "    khost = \"khost\"\n",
    "    kunar = \"kunar\"\n",
    "    kunduz = \"kunduz\"\n",
    "    laghman = \"laghman\"\n",
    "    logar = \"logar\"\n",
    "    nangarhar = \"nangarhar\"\n",
    "    nimroz = \"nimroz\"\n",
    "    nuristan = \"nuristan\"\n",
    "    paktia = \"paktia\"\n",
    "    paktika = \"paktika\"\n",
    "    panjshir = \"panjshir\"\n",
    "    parwan = \"parwan\"\n",
    "    samangan = \"samangan\"\n",
    "    sar_e_pol = \"sar_e_pol\"\n",
    "    takhar = \"takhar\"\n",
    "    uruzgan = \"uruzgan\"\n",
    "    wardak = \"wardak\"\n",
    "    zabul = \"zabul\""
   ]
  },
  {
   "cell_type": "markdown",
   "metadata": {},
   "source": [
    "Finally we can create an `IsafEvent` which is a Pydantic model where we'll store\n",
    "all the various pieces of data we're interested in. We include descriptions of\n",
    "the different fields which will help our LLM to understand the data it's working\n",
    "with."
   ]
  },
  {
   "cell_type": "code",
   "execution_count": 6,
   "metadata": {},
   "outputs": [],
   "source": [
    "class IsafEvent(BaseModel):\n",
    "    name: str = Field(description=\"A title or name for the event\")\n",
    "    start_date: date = Field(\n",
    "        description=\"The start date of the event in YYYY-MM-DD format\"\n",
    "    )\n",
    "    end_date: date = Field(description=\"The end date of the event in YYYY-MM-DD format\")\n",
    "    event_type: EventType = Field(description=\"The event type\")\n",
    "    province: Province = Field(description=\"The province in which the event occurred\")\n",
    "    target_group: str = Field(\n",
    "        description=\"The group that was targetted during the event.\"\n",
    "    )\n",
    "    min_killed: int = Field(\n",
    "        description=\"The minimum number of people killed during the event\"\n",
    "    )\n",
    "    min_captured: int = Field(\n",
    "        description=\"The minimum number of people captured during the event\"\n",
    "    )\n",
    "    killq: bool = Field(\n",
    "        description=\"Whether someone was killed or not during the event\"\n",
    "    )\n",
    "    captureq: bool = Field(\n",
    "        description=\"Whether someone was captured or not during the event\"\n",
    "    )\n",
    "    killcaptureraid: bool = Field(\n",
    "        description=\"Whether the event was a so-called 'kill-capture raid'.\"\n",
    "    )\n",
    "    airstrike: bool = Field(\n",
    "        description=\"Whether an airstrike was used during the event\"\n",
    "    )\n",
    "    noshotsfired: bool = Field(\n",
    "        description=\"Whether no shots were fired during the event\"\n",
    "    )\n",
    "    min_leaders_killed: int = Field(\n",
    "        description=\"The minimum number of leaders killed during the event\"\n",
    "    )\n",
    "    min_leaders_captured: int = Field(\n",
    "        description=\"The minimum number of leaders captured during the event\"\n",
    "    )\n",
    "\n",
    "    class Config:\n",
    "        arbitrary_types_allowed = True"
   ]
  },
  {
   "cell_type": "markdown",
   "metadata": {},
   "source": [
    "Now let's get a sample article to work with:"
   ]
  },
  {
   "cell_type": "code",
   "execution_count": 7,
   "metadata": {},
   "outputs": [
    {
     "data": {
      "text/html": [
       "<pre style=\"white-space:pre;overflow-x:auto;line-height:normal;font-family:Menlo,'DejaVu Sans Mono',consolas,'Courier New',monospace\">Dec. <span style=\"color: #008080; text-decoration-color: #008080; font-weight: bold\">11</span>: Haqqani Facilitator Detained in Khowst; Security Discussed in Farah\n",
       "NEWS RELEASE ISAF Joint Command - Afghanistan   <span style=\"color: #008080; text-decoration-color: #008080; font-weight: bold\">2009</span>-<span style=\"color: #008080; text-decoration-color: #008080; font-weight: bold\">12</span>-CA-<span style=\"color: #008080; text-decoration-color: #008080; font-weight: bold\">065</span> For Immediate Release  KABUL, Afghanistan <span style=\"font-weight: bold\">(</span>Dec. <span style=\"color: #008080; text-decoration-color: #008080; font-weight: bold\">11</span><span style=\"font-weight: bold\">)</span> - An\n",
       "Afghan-international security force detained a couple of militants in Khowst province today, one of whom was a \n",
       "sought-after Haqqani facilitator.  The facilitator is responsible for the shipment and distribution of weapons to \n",
       "other militant elements in the area.\n",
       " The joint security force searched a compound near the village of Badal Kalay in the Nader Shakhot district where \n",
       "intelligence sources indicated the facilitator was located.  The facilitator identified himself and surrendered \n",
       "without incident.  No shots were fired and no one was injured.\n",
       "</pre>\n"
      ],
      "text/plain": [
       "Dec. \u001b[1;36m11\u001b[0m: Haqqani Facilitator Detained in Khowst; Security Discussed in Farah\n",
       "NEWS RELEASE ISAF Joint Command - Afghanistan   \u001b[1;36m2009\u001b[0m-\u001b[1;36m12\u001b[0m-CA-\u001b[1;36m065\u001b[0m For Immediate Release  KABUL, Afghanistan \u001b[1m(\u001b[0mDec. \u001b[1;36m11\u001b[0m\u001b[1m)\u001b[0m - An\n",
       "Afghan-international security force detained a couple of militants in Khowst province today, one of whom was a \n",
       "sought-after Haqqani facilitator.  The facilitator is responsible for the shipment and distribution of weapons to \n",
       "other militant elements in the area.\n",
       " The joint security force searched a compound near the village of Badal Kalay in the Nader Shakhot district where \n",
       "intelligence sources indicated the facilitator was located.  The facilitator identified himself and surrendered \n",
       "without incident.  No shots were fired and no one was injured.\n"
      ]
     },
     "metadata": {},
     "output_type": "display_data"
    }
   ],
   "source": [
    "article_id = 15\n",
    "article_text = df[\"text\"][article_id]\n",
    "print(article_text)"
   ]
  },
  {
   "cell_type": "markdown",
   "metadata": {},
   "source": [
    "Now we can construct a simple prompt to help guide the LLM to extract the right data:"
   ]
  },
  {
   "cell_type": "code",
   "execution_count": 8,
   "metadata": {},
   "outputs": [],
   "source": [
    "query = f\"\"\"\n",
    "The following is a press release issued by ISAF (formerly operating in Afghanistan):\n",
    "{article_text}\n",
    "\n",
    "Please extract the following information from the press release:\n",
    "- The name of the event\n",
    "- The start date of the event\n",
    "- The end date of the event\n",
    "- The event type\n",
    "- The province in which the event occurred\n",
    "- The target group of the event\n",
    "- The minimum number of people killed during the event\n",
    "- The minimum number of people captured during the event\n",
    "- Whether someone was killed or not during the event\n",
    "- Whether someone was captured or not during the event\n",
    "- Whether the event was a so-called 'kill-capture raid'\n",
    "- Whether an airstrike was used during the event\n",
    "- Whether no shots were fired during the event\n",
    "- The minimum number of leaders killed during the event\n",
    "- The minimum number of leaders captured during the event\n",
    "\"\"\""
   ]
  },
  {
   "cell_type": "markdown",
   "metadata": {},
   "source": [
    "## Structured data extraction with Instructor"
   ]
  },
  {
   "cell_type": "markdown",
   "metadata": {},
   "source": [
    "Now we can use [Instructor](https://python.useinstructor.com/) to help ensure\n",
    "that our data is extracted out according to our Pydantic model and just use\n",
    "GPT-3.5 to see how it performs:"
   ]
  },
  {
   "cell_type": "code",
   "execution_count": 9,
   "metadata": {},
   "outputs": [
    {
     "data": {
      "text/html": [
       "<pre style=\"white-space:pre;overflow-x:auto;line-height:normal;font-family:Menlo,'DejaVu Sans Mono',consolas,'Courier New',monospace\"><span style=\"color: #800080; text-decoration-color: #800080; font-weight: bold\">IsafEvent</span><span style=\"font-weight: bold\">(</span>\n",
       "    <span style=\"color: #808000; text-decoration-color: #808000\">name</span>=<span style=\"color: #008000; text-decoration-color: #008000\">'Haqqani Facilitator Detained in Khowst'</span>,\n",
       "    <span style=\"color: #808000; text-decoration-color: #808000\">start_date</span>=<span style=\"color: #800080; text-decoration-color: #800080; font-weight: bold\">datetime</span><span style=\"color: #800080; text-decoration-color: #800080; font-weight: bold\">.date</span><span style=\"font-weight: bold\">(</span><span style=\"color: #008080; text-decoration-color: #008080; font-weight: bold\">2009</span>, <span style=\"color: #008080; text-decoration-color: #008080; font-weight: bold\">12</span>, <span style=\"color: #008080; text-decoration-color: #008080; font-weight: bold\">11</span><span style=\"font-weight: bold\">)</span>,\n",
       "    <span style=\"color: #808000; text-decoration-color: #808000\">end_date</span>=<span style=\"color: #800080; text-decoration-color: #800080; font-weight: bold\">datetime</span><span style=\"color: #800080; text-decoration-color: #800080; font-weight: bold\">.date</span><span style=\"font-weight: bold\">(</span><span style=\"color: #008080; text-decoration-color: #008080; font-weight: bold\">2009</span>, <span style=\"color: #008080; text-decoration-color: #008080; font-weight: bold\">12</span>, <span style=\"color: #008080; text-decoration-color: #008080; font-weight: bold\">11</span><span style=\"font-weight: bold\">)</span>,\n",
       "    <span style=\"color: #808000; text-decoration-color: #808000\">event_type</span>=<span style=\"font-weight: bold\">&lt;</span><span style=\"color: #ff00ff; text-decoration-color: #ff00ff; font-weight: bold\">EventType.detention:</span><span style=\"color: #000000; text-decoration-color: #000000\"> </span><span style=\"color: #008000; text-decoration-color: #008000\">'detention'</span><span style=\"color: #000000; text-decoration-color: #000000\">&gt;,</span>\n",
       "<span style=\"color: #000000; text-decoration-color: #000000\">    </span><span style=\"color: #808000; text-decoration-color: #808000\">province</span><span style=\"color: #000000; text-decoration-color: #000000\">=&lt;Province.khost: </span><span style=\"color: #008000; text-decoration-color: #008000\">'khost'</span><span style=\"font-weight: bold\">&gt;</span>,\n",
       "    <span style=\"color: #808000; text-decoration-color: #808000\">target_group</span>=<span style=\"color: #008000; text-decoration-color: #008000\">'Haqqani facilitator'</span>,\n",
       "    <span style=\"color: #808000; text-decoration-color: #808000\">min_killed</span>=<span style=\"color: #008080; text-decoration-color: #008080; font-weight: bold\">0</span>,\n",
       "    <span style=\"color: #808000; text-decoration-color: #808000\">min_captured</span>=<span style=\"color: #008080; text-decoration-color: #008080; font-weight: bold\">2</span>,\n",
       "    <span style=\"color: #808000; text-decoration-color: #808000\">killq</span>=<span style=\"color: #ff0000; text-decoration-color: #ff0000; font-style: italic\">False</span>,\n",
       "    <span style=\"color: #808000; text-decoration-color: #808000\">captureq</span>=<span style=\"color: #00ff00; text-decoration-color: #00ff00; font-style: italic\">True</span>,\n",
       "    <span style=\"color: #808000; text-decoration-color: #808000\">killcaptureraid</span>=<span style=\"color: #ff0000; text-decoration-color: #ff0000; font-style: italic\">False</span>,\n",
       "    <span style=\"color: #808000; text-decoration-color: #808000\">airstrike</span>=<span style=\"color: #ff0000; text-decoration-color: #ff0000; font-style: italic\">False</span>,\n",
       "    <span style=\"color: #808000; text-decoration-color: #808000\">noshotsfired</span>=<span style=\"color: #00ff00; text-decoration-color: #00ff00; font-style: italic\">True</span>,\n",
       "    <span style=\"color: #808000; text-decoration-color: #808000\">min_leaders_killed</span>=<span style=\"color: #008080; text-decoration-color: #008080; font-weight: bold\">0</span>,\n",
       "    <span style=\"color: #808000; text-decoration-color: #808000\">min_leaders_captured</span>=<span style=\"color: #008080; text-decoration-color: #008080; font-weight: bold\">0</span>\n",
       "<span style=\"font-weight: bold\">)</span>\n",
       "</pre>\n"
      ],
      "text/plain": [
       "\u001b[1;35mIsafEvent\u001b[0m\u001b[1m(\u001b[0m\n",
       "    \u001b[33mname\u001b[0m=\u001b[32m'Haqqani Facilitator Detained in Khowst'\u001b[0m,\n",
       "    \u001b[33mstart_date\u001b[0m=\u001b[1;35mdatetime\u001b[0m\u001b[1;35m.date\u001b[0m\u001b[1m(\u001b[0m\u001b[1;36m2009\u001b[0m, \u001b[1;36m12\u001b[0m, \u001b[1;36m11\u001b[0m\u001b[1m)\u001b[0m,\n",
       "    \u001b[33mend_date\u001b[0m=\u001b[1;35mdatetime\u001b[0m\u001b[1;35m.date\u001b[0m\u001b[1m(\u001b[0m\u001b[1;36m2009\u001b[0m, \u001b[1;36m12\u001b[0m, \u001b[1;36m11\u001b[0m\u001b[1m)\u001b[0m,\n",
       "    \u001b[33mevent_type\u001b[0m=\u001b[1m<\u001b[0m\u001b[1;95mEventType.detention:\u001b[0m\u001b[39m \u001b[0m\u001b[32m'detention'\u001b[0m\u001b[39m>,\u001b[0m\n",
       "\u001b[39m    \u001b[0m\u001b[33mprovince\u001b[0m\u001b[39m=<Province.khost: \u001b[0m\u001b[32m'khost'\u001b[0m\u001b[1m>\u001b[0m,\n",
       "    \u001b[33mtarget_group\u001b[0m=\u001b[32m'Haqqani facilitator'\u001b[0m,\n",
       "    \u001b[33mmin_killed\u001b[0m=\u001b[1;36m0\u001b[0m,\n",
       "    \u001b[33mmin_captured\u001b[0m=\u001b[1;36m2\u001b[0m,\n",
       "    \u001b[33mkillq\u001b[0m=\u001b[3;91mFalse\u001b[0m,\n",
       "    \u001b[33mcaptureq\u001b[0m=\u001b[3;92mTrue\u001b[0m,\n",
       "    \u001b[33mkillcaptureraid\u001b[0m=\u001b[3;91mFalse\u001b[0m,\n",
       "    \u001b[33mairstrike\u001b[0m=\u001b[3;91mFalse\u001b[0m,\n",
       "    \u001b[33mnoshotsfired\u001b[0m=\u001b[3;92mTrue\u001b[0m,\n",
       "    \u001b[33mmin_leaders_killed\u001b[0m=\u001b[1;36m0\u001b[0m,\n",
       "    \u001b[33mmin_leaders_captured\u001b[0m=\u001b[1;36m0\u001b[0m\n",
       "\u001b[1m)\u001b[0m\n"
      ]
     },
     "metadata": {},
     "output_type": "display_data"
    }
   ],
   "source": [
    "import instructor\n",
    "from openai import OpenAI\n",
    "\n",
    "# patch the client to add `response_model` to the `create` method\n",
    "client = instructor.patch(OpenAI(), mode=instructor.Mode.MD_JSON)\n",
    "\n",
    "openai_resp = client.chat.completions.create(\n",
    "    model=\"gpt-3.5-turbo\",\n",
    "    messages=[\n",
    "        {\n",
    "            \"role\": \"user\",\n",
    "            \"content\": query,\n",
    "        },\n",
    "    ],\n",
    "    response_model=IsafEvent,\n",
    ")\n",
    "\n",
    "print(openai_resp)"
   ]
  },
  {
   "cell_type": "markdown",
   "metadata": {},
   "source": [
    "As you can see, GPT-3.5 did pretty well! It was able to extract all the data\n",
    "more or less as I'd have hoped. It was able to determine that \"Khowst\" province\n",
    "in the article was \"Khost\" province in the schema, and it correctly determined\n",
    "that two individuals were detained. The only thing where I would have done\n",
    "things differently was to state that a minimum of one leader was captured. In\n",
    "this project I didn't consider a 'faciliator' to be a leader so in the original\n",
    "dataset this would have been a 0:"
   ]
  },
  {
   "cell_type": "code",
   "execution_count": 10,
   "metadata": {},
   "outputs": [
    {
     "data": {
      "text/plain": [
       "'0'"
      ]
     },
     "execution_count": 10,
     "metadata": {},
     "output_type": "execute_result"
    }
   ],
   "source": [
    "df[\"minleaderscaptured\"][article_id]"
   ]
  },
  {
   "cell_type": "markdown",
   "metadata": {},
   "source": [
    "It's hard for the LLM to have known that we're taking that approach without\n",
    "having specified it in the prompt, but we can try again, updating the prompt\n",
    "with that rule:"
   ]
  },
  {
   "cell_type": "code",
   "execution_count": 11,
   "metadata": {},
   "outputs": [],
   "source": [
    "updated_query = f\"\"\"\n",
    "The following is a press release issued by ISAF (formerly operating in Afghanistan):\n",
    "{article_text}\n",
    "\n",
    "Please extract the following information from the press release:\n",
    "- The name of the event\n",
    "- The start date of the event\n",
    "- The end date of the event\n",
    "- The event type\n",
    "- The province in which the event occurred\n",
    "- The target group of the event\n",
    "- The minimum number of people killed during the event\n",
    "- The minimum number of people captured during the event\n",
    "- Whether someone was killed or not during the event\n",
    "- Whether someone was captured or not during the event\n",
    "- Whether the event was a so-called 'kill-capture raid'\n",
    "- Whether an airstrike was used during the event\n",
    "- Whether no shots were fired during the event\n",
    "- The minimum number of leaders killed during the event\n",
    "- The minimum number of leaders captured during the event\n",
    "\n",
    "So-called 'facilitators' aren't considered leaders in this task.\n",
    "\"\"\""
   ]
  },
  {
   "cell_type": "code",
   "execution_count": 12,
   "metadata": {},
   "outputs": [
    {
     "data": {
      "text/html": [
       "<pre style=\"white-space:pre;overflow-x:auto;line-height:normal;font-family:Menlo,'DejaVu Sans Mono',consolas,'Courier New',monospace\"><span style=\"color: #800080; text-decoration-color: #800080; font-weight: bold\">IsafEvent</span><span style=\"font-weight: bold\">(</span>\n",
       "    <span style=\"color: #808000; text-decoration-color: #808000\">name</span>=<span style=\"color: #008000; text-decoration-color: #008000\">'Haqqani Facilitator Detained in Khowst'</span>,\n",
       "    <span style=\"color: #808000; text-decoration-color: #808000\">start_date</span>=<span style=\"color: #800080; text-decoration-color: #800080; font-weight: bold\">datetime</span><span style=\"color: #800080; text-decoration-color: #800080; font-weight: bold\">.date</span><span style=\"font-weight: bold\">(</span><span style=\"color: #008080; text-decoration-color: #008080; font-weight: bold\">2009</span>, <span style=\"color: #008080; text-decoration-color: #008080; font-weight: bold\">12</span>, <span style=\"color: #008080; text-decoration-color: #008080; font-weight: bold\">11</span><span style=\"font-weight: bold\">)</span>,\n",
       "    <span style=\"color: #808000; text-decoration-color: #808000\">end_date</span>=<span style=\"color: #800080; text-decoration-color: #800080; font-weight: bold\">datetime</span><span style=\"color: #800080; text-decoration-color: #800080; font-weight: bold\">.date</span><span style=\"font-weight: bold\">(</span><span style=\"color: #008080; text-decoration-color: #008080; font-weight: bold\">2009</span>, <span style=\"color: #008080; text-decoration-color: #008080; font-weight: bold\">12</span>, <span style=\"color: #008080; text-decoration-color: #008080; font-weight: bold\">11</span><span style=\"font-weight: bold\">)</span>,\n",
       "    <span style=\"color: #808000; text-decoration-color: #808000\">event_type</span>=<span style=\"font-weight: bold\">&lt;</span><span style=\"color: #ff00ff; text-decoration-color: #ff00ff; font-weight: bold\">EventType.detention:</span><span style=\"color: #000000; text-decoration-color: #000000\"> </span><span style=\"color: #008000; text-decoration-color: #008000\">'detention'</span><span style=\"color: #000000; text-decoration-color: #000000\">&gt;,</span>\n",
       "<span style=\"color: #000000; text-decoration-color: #000000\">    </span><span style=\"color: #808000; text-decoration-color: #808000\">province</span><span style=\"color: #000000; text-decoration-color: #000000\">=&lt;Province.khost: </span><span style=\"color: #008000; text-decoration-color: #008000\">'khost'</span><span style=\"font-weight: bold\">&gt;</span>,\n",
       "    <span style=\"color: #808000; text-decoration-color: #808000\">target_group</span>=<span style=\"color: #008000; text-decoration-color: #008000\">'Haqqani facilitator'</span>,\n",
       "    <span style=\"color: #808000; text-decoration-color: #808000\">min_killed</span>=<span style=\"color: #008080; text-decoration-color: #008080; font-weight: bold\">0</span>,\n",
       "    <span style=\"color: #808000; text-decoration-color: #808000\">min_captured</span>=<span style=\"color: #008080; text-decoration-color: #008080; font-weight: bold\">2</span>,\n",
       "    <span style=\"color: #808000; text-decoration-color: #808000\">killq</span>=<span style=\"color: #ff0000; text-decoration-color: #ff0000; font-style: italic\">False</span>,\n",
       "    <span style=\"color: #808000; text-decoration-color: #808000\">captureq</span>=<span style=\"color: #00ff00; text-decoration-color: #00ff00; font-style: italic\">True</span>,\n",
       "    <span style=\"color: #808000; text-decoration-color: #808000\">killcaptureraid</span>=<span style=\"color: #00ff00; text-decoration-color: #00ff00; font-style: italic\">True</span>,\n",
       "    <span style=\"color: #808000; text-decoration-color: #808000\">airstrike</span>=<span style=\"color: #ff0000; text-decoration-color: #ff0000; font-style: italic\">False</span>,\n",
       "    <span style=\"color: #808000; text-decoration-color: #808000\">noshotsfired</span>=<span style=\"color: #00ff00; text-decoration-color: #00ff00; font-style: italic\">True</span>,\n",
       "    <span style=\"color: #808000; text-decoration-color: #808000\">min_leaders_killed</span>=<span style=\"color: #008080; text-decoration-color: #008080; font-weight: bold\">0</span>,\n",
       "    <span style=\"color: #808000; text-decoration-color: #808000\">min_leaders_captured</span>=<span style=\"color: #008080; text-decoration-color: #008080; font-weight: bold\">0</span>\n",
       "<span style=\"font-weight: bold\">)</span>\n",
       "</pre>\n"
      ],
      "text/plain": [
       "\u001b[1;35mIsafEvent\u001b[0m\u001b[1m(\u001b[0m\n",
       "    \u001b[33mname\u001b[0m=\u001b[32m'Haqqani Facilitator Detained in Khowst'\u001b[0m,\n",
       "    \u001b[33mstart_date\u001b[0m=\u001b[1;35mdatetime\u001b[0m\u001b[1;35m.date\u001b[0m\u001b[1m(\u001b[0m\u001b[1;36m2009\u001b[0m, \u001b[1;36m12\u001b[0m, \u001b[1;36m11\u001b[0m\u001b[1m)\u001b[0m,\n",
       "    \u001b[33mend_date\u001b[0m=\u001b[1;35mdatetime\u001b[0m\u001b[1;35m.date\u001b[0m\u001b[1m(\u001b[0m\u001b[1;36m2009\u001b[0m, \u001b[1;36m12\u001b[0m, \u001b[1;36m11\u001b[0m\u001b[1m)\u001b[0m,\n",
       "    \u001b[33mevent_type\u001b[0m=\u001b[1m<\u001b[0m\u001b[1;95mEventType.detention:\u001b[0m\u001b[39m \u001b[0m\u001b[32m'detention'\u001b[0m\u001b[39m>,\u001b[0m\n",
       "\u001b[39m    \u001b[0m\u001b[33mprovince\u001b[0m\u001b[39m=<Province.khost: \u001b[0m\u001b[32m'khost'\u001b[0m\u001b[1m>\u001b[0m,\n",
       "    \u001b[33mtarget_group\u001b[0m=\u001b[32m'Haqqani facilitator'\u001b[0m,\n",
       "    \u001b[33mmin_killed\u001b[0m=\u001b[1;36m0\u001b[0m,\n",
       "    \u001b[33mmin_captured\u001b[0m=\u001b[1;36m2\u001b[0m,\n",
       "    \u001b[33mkillq\u001b[0m=\u001b[3;91mFalse\u001b[0m,\n",
       "    \u001b[33mcaptureq\u001b[0m=\u001b[3;92mTrue\u001b[0m,\n",
       "    \u001b[33mkillcaptureraid\u001b[0m=\u001b[3;92mTrue\u001b[0m,\n",
       "    \u001b[33mairstrike\u001b[0m=\u001b[3;91mFalse\u001b[0m,\n",
       "    \u001b[33mnoshotsfired\u001b[0m=\u001b[3;92mTrue\u001b[0m,\n",
       "    \u001b[33mmin_leaders_killed\u001b[0m=\u001b[1;36m0\u001b[0m,\n",
       "    \u001b[33mmin_leaders_captured\u001b[0m=\u001b[1;36m0\u001b[0m\n",
       "\u001b[1m)\u001b[0m\n"
      ]
     },
     "metadata": {},
     "output_type": "display_data"
    }
   ],
   "source": [
    "import instructor\n",
    "from openai import OpenAI\n",
    "\n",
    "# patch the client to add `response_model` to the `create` method\n",
    "client = instructor.patch(OpenAI(), mode=instructor.Mode.MD_JSON)\n",
    "\n",
    "openai_resp = client.chat.completions.create(\n",
    "    model=\"gpt-3.5-turbo\",\n",
    "    messages=[\n",
    "        {\n",
    "            \"role\": \"user\",\n",
    "            \"content\": query,\n",
    "        },\n",
    "    ],\n",
    "    response_model=IsafEvent,\n",
    ")\n",
    "\n",
    "print(openai_resp)"
   ]
  },
  {
   "cell_type": "markdown",
   "metadata": {},
   "source": [
    "Unfortunately it's still getting it wrong. Let's try with GPT-4 this time and\n",
    "hope that it's better at following instructions:"
   ]
  },
  {
   "cell_type": "code",
   "execution_count": 14,
   "metadata": {},
   "outputs": [
    {
     "data": {
      "text/html": [
       "<pre style=\"white-space:pre;overflow-x:auto;line-height:normal;font-family:Menlo,'DejaVu Sans Mono',consolas,'Courier New',monospace\"><span style=\"color: #800080; text-decoration-color: #800080; font-weight: bold\">IsafEvent</span><span style=\"font-weight: bold\">(</span>\n",
       "    <span style=\"color: #808000; text-decoration-color: #808000\">name</span>=<span style=\"color: #008000; text-decoration-color: #008000\">'Haqqani Facilitator Detained in Khowst'</span>,\n",
       "    <span style=\"color: #808000; text-decoration-color: #808000\">start_date</span>=<span style=\"color: #800080; text-decoration-color: #800080; font-weight: bold\">datetime</span><span style=\"color: #800080; text-decoration-color: #800080; font-weight: bold\">.date</span><span style=\"font-weight: bold\">(</span><span style=\"color: #008080; text-decoration-color: #008080; font-weight: bold\">2009</span>, <span style=\"color: #008080; text-decoration-color: #008080; font-weight: bold\">12</span>, <span style=\"color: #008080; text-decoration-color: #008080; font-weight: bold\">11</span><span style=\"font-weight: bold\">)</span>,\n",
       "    <span style=\"color: #808000; text-decoration-color: #808000\">end_date</span>=<span style=\"color: #800080; text-decoration-color: #800080; font-weight: bold\">datetime</span><span style=\"color: #800080; text-decoration-color: #800080; font-weight: bold\">.date</span><span style=\"font-weight: bold\">(</span><span style=\"color: #008080; text-decoration-color: #008080; font-weight: bold\">2009</span>, <span style=\"color: #008080; text-decoration-color: #008080; font-weight: bold\">12</span>, <span style=\"color: #008080; text-decoration-color: #008080; font-weight: bold\">11</span><span style=\"font-weight: bold\">)</span>,\n",
       "    <span style=\"color: #808000; text-decoration-color: #808000\">event_type</span>=<span style=\"font-weight: bold\">&lt;</span><span style=\"color: #ff00ff; text-decoration-color: #ff00ff; font-weight: bold\">EventType.detention:</span><span style=\"color: #000000; text-decoration-color: #000000\"> </span><span style=\"color: #008000; text-decoration-color: #008000\">'detention'</span><span style=\"color: #000000; text-decoration-color: #000000\">&gt;,</span>\n",
       "<span style=\"color: #000000; text-decoration-color: #000000\">    </span><span style=\"color: #808000; text-decoration-color: #808000\">province</span><span style=\"color: #000000; text-decoration-color: #000000\">=&lt;Province.khost: </span><span style=\"color: #008000; text-decoration-color: #008000\">'khost'</span><span style=\"font-weight: bold\">&gt;</span>,\n",
       "    <span style=\"color: #808000; text-decoration-color: #808000\">target_group</span>=<span style=\"color: #008000; text-decoration-color: #008000\">'Haqqani'</span>,\n",
       "    <span style=\"color: #808000; text-decoration-color: #808000\">min_killed</span>=<span style=\"color: #008080; text-decoration-color: #008080; font-weight: bold\">0</span>,\n",
       "    <span style=\"color: #808000; text-decoration-color: #808000\">min_captured</span>=<span style=\"color: #008080; text-decoration-color: #008080; font-weight: bold\">2</span>,\n",
       "    <span style=\"color: #808000; text-decoration-color: #808000\">killq</span>=<span style=\"color: #ff0000; text-decoration-color: #ff0000; font-style: italic\">False</span>,\n",
       "    <span style=\"color: #808000; text-decoration-color: #808000\">captureq</span>=<span style=\"color: #00ff00; text-decoration-color: #00ff00; font-style: italic\">True</span>,\n",
       "    <span style=\"color: #808000; text-decoration-color: #808000\">killcaptureraid</span>=<span style=\"color: #ff0000; text-decoration-color: #ff0000; font-style: italic\">False</span>,\n",
       "    <span style=\"color: #808000; text-decoration-color: #808000\">airstrike</span>=<span style=\"color: #ff0000; text-decoration-color: #ff0000; font-style: italic\">False</span>,\n",
       "    <span style=\"color: #808000; text-decoration-color: #808000\">noshotsfired</span>=<span style=\"color: #00ff00; text-decoration-color: #00ff00; font-style: italic\">True</span>,\n",
       "    <span style=\"color: #808000; text-decoration-color: #808000\">min_leaders_killed</span>=<span style=\"color: #008080; text-decoration-color: #008080; font-weight: bold\">0</span>,\n",
       "    <span style=\"color: #808000; text-decoration-color: #808000\">min_leaders_captured</span>=<span style=\"color: #008080; text-decoration-color: #008080; font-weight: bold\">1</span>\n",
       "<span style=\"font-weight: bold\">)</span>\n",
       "</pre>\n"
      ],
      "text/plain": [
       "\u001b[1;35mIsafEvent\u001b[0m\u001b[1m(\u001b[0m\n",
       "    \u001b[33mname\u001b[0m=\u001b[32m'Haqqani Facilitator Detained in Khowst'\u001b[0m,\n",
       "    \u001b[33mstart_date\u001b[0m=\u001b[1;35mdatetime\u001b[0m\u001b[1;35m.date\u001b[0m\u001b[1m(\u001b[0m\u001b[1;36m2009\u001b[0m, \u001b[1;36m12\u001b[0m, \u001b[1;36m11\u001b[0m\u001b[1m)\u001b[0m,\n",
       "    \u001b[33mend_date\u001b[0m=\u001b[1;35mdatetime\u001b[0m\u001b[1;35m.date\u001b[0m\u001b[1m(\u001b[0m\u001b[1;36m2009\u001b[0m, \u001b[1;36m12\u001b[0m, \u001b[1;36m11\u001b[0m\u001b[1m)\u001b[0m,\n",
       "    \u001b[33mevent_type\u001b[0m=\u001b[1m<\u001b[0m\u001b[1;95mEventType.detention:\u001b[0m\u001b[39m \u001b[0m\u001b[32m'detention'\u001b[0m\u001b[39m>,\u001b[0m\n",
       "\u001b[39m    \u001b[0m\u001b[33mprovince\u001b[0m\u001b[39m=<Province.khost: \u001b[0m\u001b[32m'khost'\u001b[0m\u001b[1m>\u001b[0m,\n",
       "    \u001b[33mtarget_group\u001b[0m=\u001b[32m'Haqqani'\u001b[0m,\n",
       "    \u001b[33mmin_killed\u001b[0m=\u001b[1;36m0\u001b[0m,\n",
       "    \u001b[33mmin_captured\u001b[0m=\u001b[1;36m2\u001b[0m,\n",
       "    \u001b[33mkillq\u001b[0m=\u001b[3;91mFalse\u001b[0m,\n",
       "    \u001b[33mcaptureq\u001b[0m=\u001b[3;92mTrue\u001b[0m,\n",
       "    \u001b[33mkillcaptureraid\u001b[0m=\u001b[3;91mFalse\u001b[0m,\n",
       "    \u001b[33mairstrike\u001b[0m=\u001b[3;91mFalse\u001b[0m,\n",
       "    \u001b[33mnoshotsfired\u001b[0m=\u001b[3;92mTrue\u001b[0m,\n",
       "    \u001b[33mmin_leaders_killed\u001b[0m=\u001b[1;36m0\u001b[0m,\n",
       "    \u001b[33mmin_leaders_captured\u001b[0m=\u001b[1;36m1\u001b[0m\n",
       "\u001b[1m)\u001b[0m\n"
      ]
     },
     "metadata": {},
     "output_type": "display_data"
    }
   ],
   "source": [
    "openai_resp = client.chat.completions.create(\n",
    "    model=\"gpt-4\",\n",
    "    messages=[\n",
    "        {\n",
    "            \"role\": \"user\",\n",
    "            \"content\": query,\n",
    "        },\n",
    "    ],\n",
    "    response_model=IsafEvent,\n",
    ")\n",
    "\n",
    "print(openai_resp)"
   ]
  },
  {
   "cell_type": "markdown",
   "metadata": {},
   "source": [
    "Unfortunately we're still getting the same response. I could fiddle around with\n",
    "the prompt a bit more to get the result I wanted, but you can see that this\n",
    "approach of encoding all these edge cases into the prompt isn't going to scale\n",
    "very well. It's also going to overfit a little to the training data and really\n",
    "what we want is a model that can do well at any new articles we pass into it."
   ]
  },
  {
   "cell_type": "markdown",
   "metadata": {},
   "source": [
    "Even when we try Claude's Opus model we get the same result, which tells us that\n",
    "for sure we'd have to amend this in the prompt to fix the problem."
   ]
  },
  {
   "cell_type": "code",
   "execution_count": 17,
   "metadata": {},
   "outputs": [
    {
     "data": {
      "text/html": [
       "<pre style=\"white-space:pre;overflow-x:auto;line-height:normal;font-family:Menlo,'DejaVu Sans Mono',consolas,'Courier New',monospace\"><span style=\"color: #800080; text-decoration-color: #800080; font-weight: bold\">IsafEvent</span><span style=\"font-weight: bold\">(</span>\n",
       "    <span style=\"color: #808000; text-decoration-color: #808000\">name</span>=<span style=\"color: #008000; text-decoration-color: #008000\">'Haqqani Facilitator Detained in Khowst'</span>,\n",
       "    <span style=\"color: #808000; text-decoration-color: #808000\">start_date</span>=<span style=\"color: #800080; text-decoration-color: #800080; font-weight: bold\">datetime</span><span style=\"color: #800080; text-decoration-color: #800080; font-weight: bold\">.date</span><span style=\"font-weight: bold\">(</span><span style=\"color: #008080; text-decoration-color: #008080; font-weight: bold\">2009</span>, <span style=\"color: #008080; text-decoration-color: #008080; font-weight: bold\">12</span>, <span style=\"color: #008080; text-decoration-color: #008080; font-weight: bold\">11</span><span style=\"font-weight: bold\">)</span>,\n",
       "    <span style=\"color: #808000; text-decoration-color: #808000\">end_date</span>=<span style=\"color: #800080; text-decoration-color: #800080; font-weight: bold\">datetime</span><span style=\"color: #800080; text-decoration-color: #800080; font-weight: bold\">.date</span><span style=\"font-weight: bold\">(</span><span style=\"color: #008080; text-decoration-color: #008080; font-weight: bold\">2009</span>, <span style=\"color: #008080; text-decoration-color: #008080; font-weight: bold\">12</span>, <span style=\"color: #008080; text-decoration-color: #008080; font-weight: bold\">11</span><span style=\"font-weight: bold\">)</span>,\n",
       "    <span style=\"color: #808000; text-decoration-color: #808000\">event_type</span>=<span style=\"font-weight: bold\">&lt;</span><span style=\"color: #ff00ff; text-decoration-color: #ff00ff; font-weight: bold\">EventType.detention:</span><span style=\"color: #000000; text-decoration-color: #000000\"> </span><span style=\"color: #008000; text-decoration-color: #008000\">'detention'</span><span style=\"color: #000000; text-decoration-color: #000000\">&gt;,</span>\n",
       "<span style=\"color: #000000; text-decoration-color: #000000\">    </span><span style=\"color: #808000; text-decoration-color: #808000\">province</span><span style=\"color: #000000; text-decoration-color: #000000\">=&lt;Province.khost: </span><span style=\"color: #008000; text-decoration-color: #008000\">'khost'</span><span style=\"font-weight: bold\">&gt;</span>,\n",
       "    <span style=\"color: #808000; text-decoration-color: #808000\">target_group</span>=<span style=\"color: #008000; text-decoration-color: #008000\">'Haqqani'</span>,\n",
       "    <span style=\"color: #808000; text-decoration-color: #808000\">min_killed</span>=<span style=\"color: #008080; text-decoration-color: #008080; font-weight: bold\">0</span>,\n",
       "    <span style=\"color: #808000; text-decoration-color: #808000\">min_captured</span>=<span style=\"color: #008080; text-decoration-color: #008080; font-weight: bold\">2</span>,\n",
       "    <span style=\"color: #808000; text-decoration-color: #808000\">killq</span>=<span style=\"color: #ff0000; text-decoration-color: #ff0000; font-style: italic\">False</span>,\n",
       "    <span style=\"color: #808000; text-decoration-color: #808000\">captureq</span>=<span style=\"color: #00ff00; text-decoration-color: #00ff00; font-style: italic\">True</span>,\n",
       "    <span style=\"color: #808000; text-decoration-color: #808000\">killcaptureraid</span>=<span style=\"color: #ff0000; text-decoration-color: #ff0000; font-style: italic\">False</span>,\n",
       "    <span style=\"color: #808000; text-decoration-color: #808000\">airstrike</span>=<span style=\"color: #ff0000; text-decoration-color: #ff0000; font-style: italic\">False</span>,\n",
       "    <span style=\"color: #808000; text-decoration-color: #808000\">noshotsfired</span>=<span style=\"color: #00ff00; text-decoration-color: #00ff00; font-style: italic\">True</span>,\n",
       "    <span style=\"color: #808000; text-decoration-color: #808000\">min_leaders_killed</span>=<span style=\"color: #008080; text-decoration-color: #008080; font-weight: bold\">0</span>,\n",
       "    <span style=\"color: #808000; text-decoration-color: #808000\">min_leaders_captured</span>=<span style=\"color: #008080; text-decoration-color: #008080; font-weight: bold\">1</span>\n",
       "<span style=\"font-weight: bold\">)</span>\n",
       "</pre>\n"
      ],
      "text/plain": [
       "\u001b[1;35mIsafEvent\u001b[0m\u001b[1m(\u001b[0m\n",
       "    \u001b[33mname\u001b[0m=\u001b[32m'Haqqani Facilitator Detained in Khowst'\u001b[0m,\n",
       "    \u001b[33mstart_date\u001b[0m=\u001b[1;35mdatetime\u001b[0m\u001b[1;35m.date\u001b[0m\u001b[1m(\u001b[0m\u001b[1;36m2009\u001b[0m, \u001b[1;36m12\u001b[0m, \u001b[1;36m11\u001b[0m\u001b[1m)\u001b[0m,\n",
       "    \u001b[33mend_date\u001b[0m=\u001b[1;35mdatetime\u001b[0m\u001b[1;35m.date\u001b[0m\u001b[1m(\u001b[0m\u001b[1;36m2009\u001b[0m, \u001b[1;36m12\u001b[0m, \u001b[1;36m11\u001b[0m\u001b[1m)\u001b[0m,\n",
       "    \u001b[33mevent_type\u001b[0m=\u001b[1m<\u001b[0m\u001b[1;95mEventType.detention:\u001b[0m\u001b[39m \u001b[0m\u001b[32m'detention'\u001b[0m\u001b[39m>,\u001b[0m\n",
       "\u001b[39m    \u001b[0m\u001b[33mprovince\u001b[0m\u001b[39m=<Province.khost: \u001b[0m\u001b[32m'khost'\u001b[0m\u001b[1m>\u001b[0m,\n",
       "    \u001b[33mtarget_group\u001b[0m=\u001b[32m'Haqqani'\u001b[0m,\n",
       "    \u001b[33mmin_killed\u001b[0m=\u001b[1;36m0\u001b[0m,\n",
       "    \u001b[33mmin_captured\u001b[0m=\u001b[1;36m2\u001b[0m,\n",
       "    \u001b[33mkillq\u001b[0m=\u001b[3;91mFalse\u001b[0m,\n",
       "    \u001b[33mcaptureq\u001b[0m=\u001b[3;92mTrue\u001b[0m,\n",
       "    \u001b[33mkillcaptureraid\u001b[0m=\u001b[3;91mFalse\u001b[0m,\n",
       "    \u001b[33mairstrike\u001b[0m=\u001b[3;91mFalse\u001b[0m,\n",
       "    \u001b[33mnoshotsfired\u001b[0m=\u001b[3;92mTrue\u001b[0m,\n",
       "    \u001b[33mmin_leaders_killed\u001b[0m=\u001b[1;36m0\u001b[0m,\n",
       "    \u001b[33mmin_leaders_captured\u001b[0m=\u001b[1;36m1\u001b[0m\n",
       "\u001b[1m)\u001b[0m\n"
      ]
     },
     "metadata": {},
     "output_type": "display_data"
    }
   ],
   "source": [
    "from anthropic import Anthropic\n",
    "import instructor\n",
    "\n",
    "client = instructor.from_anthropic(Anthropic())\n",
    "\n",
    "# note that client.chat.completions.create will also work\n",
    "claude_opus_resp = client.messages.create(\n",
    "    model=\"claude-3-opus-20240229\",\n",
    "    messages=[\n",
    "        {\n",
    "            \"role\": \"user\",\n",
    "            \"content\": query,\n",
    "        },\n",
    "    ],\n",
    "    max_tokens=4096,\n",
    "    response_model=IsafEvent,\n",
    ")\n",
    "\n",
    "print(claude_opus_resp)"
   ]
  },
  {
   "cell_type": "markdown",
   "metadata": {},
   "source": [
    "And again, using Ollama locally with their `mixtral` model we get the same result:"
   ]
  },
  {
   "cell_type": "code",
   "execution_count": 18,
   "metadata": {},
   "outputs": [
    {
     "data": {
      "text/html": [
       "<pre style=\"white-space:pre;overflow-x:auto;line-height:normal;font-family:Menlo,'DejaVu Sans Mono',consolas,'Courier New',monospace\"><span style=\"color: #800080; text-decoration-color: #800080; font-weight: bold\">IsafEvent</span><span style=\"font-weight: bold\">(</span>\n",
       "    <span style=\"color: #808000; text-decoration-color: #808000\">name</span>=<span style=\"color: #008000; text-decoration-color: #008000\">'Haqqani Facilitator Detention in Khowst'</span>,\n",
       "    <span style=\"color: #808000; text-decoration-color: #808000\">start_date</span>=<span style=\"color: #800080; text-decoration-color: #800080; font-weight: bold\">datetime</span><span style=\"color: #800080; text-decoration-color: #800080; font-weight: bold\">.date</span><span style=\"font-weight: bold\">(</span><span style=\"color: #008080; text-decoration-color: #008080; font-weight: bold\">2009</span>, <span style=\"color: #008080; text-decoration-color: #008080; font-weight: bold\">12</span>, <span style=\"color: #008080; text-decoration-color: #008080; font-weight: bold\">11</span><span style=\"font-weight: bold\">)</span>,\n",
       "    <span style=\"color: #808000; text-decoration-color: #808000\">end_date</span>=<span style=\"color: #800080; text-decoration-color: #800080; font-weight: bold\">datetime</span><span style=\"color: #800080; text-decoration-color: #800080; font-weight: bold\">.date</span><span style=\"font-weight: bold\">(</span><span style=\"color: #008080; text-decoration-color: #008080; font-weight: bold\">2009</span>, <span style=\"color: #008080; text-decoration-color: #008080; font-weight: bold\">12</span>, <span style=\"color: #008080; text-decoration-color: #008080; font-weight: bold\">11</span><span style=\"font-weight: bold\">)</span>,\n",
       "    <span style=\"color: #808000; text-decoration-color: #808000\">event_type</span>=<span style=\"font-weight: bold\">&lt;</span><span style=\"color: #ff00ff; text-decoration-color: #ff00ff; font-weight: bold\">EventType.detention:</span><span style=\"color: #000000; text-decoration-color: #000000\"> </span><span style=\"color: #008000; text-decoration-color: #008000\">'detention'</span><span style=\"color: #000000; text-decoration-color: #000000\">&gt;,</span>\n",
       "<span style=\"color: #000000; text-decoration-color: #000000\">    </span><span style=\"color: #808000; text-decoration-color: #808000\">province</span><span style=\"color: #000000; text-decoration-color: #000000\">=&lt;Province.khost: </span><span style=\"color: #008000; text-decoration-color: #008000\">'khost'</span><span style=\"font-weight: bold\">&gt;</span>,\n",
       "    <span style=\"color: #808000; text-decoration-color: #808000\">target_group</span>=<span style=\"color: #008000; text-decoration-color: #008000\">'Haqqani militants'</span>,\n",
       "    <span style=\"color: #808000; text-decoration-color: #808000\">min_killed</span>=<span style=\"color: #008080; text-decoration-color: #008080; font-weight: bold\">0</span>,\n",
       "    <span style=\"color: #808000; text-decoration-color: #808000\">min_captured</span>=<span style=\"color: #008080; text-decoration-color: #008080; font-weight: bold\">2</span>,\n",
       "    <span style=\"color: #808000; text-decoration-color: #808000\">killq</span>=<span style=\"color: #ff0000; text-decoration-color: #ff0000; font-style: italic\">False</span>,\n",
       "    <span style=\"color: #808000; text-decoration-color: #808000\">captureq</span>=<span style=\"color: #00ff00; text-decoration-color: #00ff00; font-style: italic\">True</span>,\n",
       "    <span style=\"color: #808000; text-decoration-color: #808000\">killcaptureraid</span>=<span style=\"color: #ff0000; text-decoration-color: #ff0000; font-style: italic\">False</span>,\n",
       "    <span style=\"color: #808000; text-decoration-color: #808000\">airstrike</span>=<span style=\"color: #ff0000; text-decoration-color: #ff0000; font-style: italic\">False</span>,\n",
       "    <span style=\"color: #808000; text-decoration-color: #808000\">noshotsfired</span>=<span style=\"color: #00ff00; text-decoration-color: #00ff00; font-style: italic\">True</span>,\n",
       "    <span style=\"color: #808000; text-decoration-color: #808000\">min_leaders_killed</span>=<span style=\"color: #008080; text-decoration-color: #008080; font-weight: bold\">0</span>,\n",
       "    <span style=\"color: #808000; text-decoration-color: #808000\">min_leaders_captured</span>=<span style=\"color: #008080; text-decoration-color: #008080; font-weight: bold\">1</span>\n",
       "<span style=\"font-weight: bold\">)</span>\n",
       "</pre>\n"
      ],
      "text/plain": [
       "\u001b[1;35mIsafEvent\u001b[0m\u001b[1m(\u001b[0m\n",
       "    \u001b[33mname\u001b[0m=\u001b[32m'Haqqani Facilitator Detention in Khowst'\u001b[0m,\n",
       "    \u001b[33mstart_date\u001b[0m=\u001b[1;35mdatetime\u001b[0m\u001b[1;35m.date\u001b[0m\u001b[1m(\u001b[0m\u001b[1;36m2009\u001b[0m, \u001b[1;36m12\u001b[0m, \u001b[1;36m11\u001b[0m\u001b[1m)\u001b[0m,\n",
       "    \u001b[33mend_date\u001b[0m=\u001b[1;35mdatetime\u001b[0m\u001b[1;35m.date\u001b[0m\u001b[1m(\u001b[0m\u001b[1;36m2009\u001b[0m, \u001b[1;36m12\u001b[0m, \u001b[1;36m11\u001b[0m\u001b[1m)\u001b[0m,\n",
       "    \u001b[33mevent_type\u001b[0m=\u001b[1m<\u001b[0m\u001b[1;95mEventType.detention:\u001b[0m\u001b[39m \u001b[0m\u001b[32m'detention'\u001b[0m\u001b[39m>,\u001b[0m\n",
       "\u001b[39m    \u001b[0m\u001b[33mprovince\u001b[0m\u001b[39m=<Province.khost: \u001b[0m\u001b[32m'khost'\u001b[0m\u001b[1m>\u001b[0m,\n",
       "    \u001b[33mtarget_group\u001b[0m=\u001b[32m'Haqqani militants'\u001b[0m,\n",
       "    \u001b[33mmin_killed\u001b[0m=\u001b[1;36m0\u001b[0m,\n",
       "    \u001b[33mmin_captured\u001b[0m=\u001b[1;36m2\u001b[0m,\n",
       "    \u001b[33mkillq\u001b[0m=\u001b[3;91mFalse\u001b[0m,\n",
       "    \u001b[33mcaptureq\u001b[0m=\u001b[3;92mTrue\u001b[0m,\n",
       "    \u001b[33mkillcaptureraid\u001b[0m=\u001b[3;91mFalse\u001b[0m,\n",
       "    \u001b[33mairstrike\u001b[0m=\u001b[3;91mFalse\u001b[0m,\n",
       "    \u001b[33mnoshotsfired\u001b[0m=\u001b[3;92mTrue\u001b[0m,\n",
       "    \u001b[33mmin_leaders_killed\u001b[0m=\u001b[1;36m0\u001b[0m,\n",
       "    \u001b[33mmin_leaders_captured\u001b[0m=\u001b[1;36m1\u001b[0m\n",
       "\u001b[1m)\u001b[0m\n"
      ]
     },
     "metadata": {},
     "output_type": "display_data"
    }
   ],
   "source": [
    "# enables `response_model` in create call\n",
    "client = instructor.from_openai(\n",
    "    OpenAI(\n",
    "        base_url=\"http://localhost:11434/v1\",\n",
    "        api_key=\"ollama\",  # required, but unused\n",
    "    ),\n",
    "    mode=instructor.Mode.JSON,\n",
    ")\n",
    "\n",
    "mixtral_resp = client.chat.completions.create(\n",
    "    model=\"mixtral\",\n",
    "    messages=[\n",
    "        {\n",
    "            \"role\": \"user\",\n",
    "            \"content\": query,\n",
    "        }\n",
    "    ],\n",
    "    response_model=IsafEvent,\n",
    ")\n",
    "print(mixtral_resp)"
   ]
  },
  {
   "cell_type": "markdown",
   "metadata": {},
   "source": [
    "## Next steps\n",
    "\n",
    "If there's one thing the Maven conference has done well it's to emphasise the\n",
    "importance of getting a solid sense of an initial baseline from which you can\n",
    "(measureably) improve. So what I'd like to do next is to make a simple\n",
    "evaluation of the performance of the different models on this task.\n",
    "\n",
    "Coming up with a score will be interesting as there are multiple pieces of\n",
    "information to compare. Numbers to numbers is an easy comparison, but what\n",
    "happens when it gets the wrong category? Do I subtract a mark from the score, or\n",
    "do I keep scores for all the different attributes? It isn't clear to me how best\n",
    "to construct this score.\n",
    "\n",
    "It also occurred to me while writing the above code that when I was doing the\n",
    "annotation I did so in 'passes'. So I'd read the article and I'd be reading it\n",
    "looking only for the numbers of killed and captured individuals and nothing\n",
    "else. Then I'd reread the article and extract the data and location, and so on\n",
    "with multiple passes. This is to keep me focused on small details as if I tried\n",
    "to make note of everything at a single pass then I'd certainly miss things or\n",
    "get things wrong. So extrapolating out to LLMs (which, to be clear, don't work\n",
    "like humans when they read text) I'm wondering whether it might make sense to\n",
    "finetune multiple specialised LLMs to be really best in class at extracting one\n",
    "or two data points instead of expecting it to do what I was unable (i.e.\n",
    "extracting everything at a single pass). Obviously it'd be preferable to have a\n",
    "single model, but I'm wondering whether we might push the limits of what an LLM\n",
    "can do at some of the longer or more complex articles. We'll have to keep that\n",
    "in mind going forward.\n",
    "\n",
    "The one thing I'll have to make sure to do before I run the evaluation is to\n",
    "make sure that my data structures are set up to match the original dataset.\n",
    "You'll remember that above we ignored the fact the `eventtype` field could have\n",
    "multiple types separated by a semicolon. So I'll have to make sure that my\n",
    "data structures are set up to handle that. I'll also improve the descriptions of\n",
    "the fields where possible and try to make the prompt a bit more performant.\n",
    "\n",
    "In the next blog I'll show the results of evaluating some of our baseline LLMs\n",
    "(proprietary and open-source) to see how they perform for this task. Once we\n",
    "have that baseline then we can continue to the task of actually finetuning an LLM."
   ]
  }
 ],
 "metadata": {
  "kernelspec": {
   "display_name": "isafpr",
   "language": "python",
   "name": "python3"
  },
  "language_info": {
   "codemirror_mode": {
    "name": "ipython",
    "version": 3
   },
   "file_extension": ".py",
   "mimetype": "text/x-python",
   "name": "python",
   "nbconvert_exporter": "python",
   "pygments_lexer": "ipython3",
   "version": "3.10.14"
  }
 },
 "nbformat": 4,
 "nbformat_minor": 2
}
