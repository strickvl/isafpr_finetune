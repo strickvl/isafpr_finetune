{
 "cells": [
  {
   "cell_type": "code",
   "execution_count": 1,
   "metadata": {},
   "outputs": [
    {
     "data": {
      "application/vnd.jupyter.widget-view+json": {
       "model_id": "bcc4aa48e8df4576afd439344849bede",
       "version_major": 2,
       "version_minor": 0
      },
      "text/plain": [
       "Resolving data files:   0%|          | 0/4823 [00:00<?, ?it/s]"
      ]
     },
     "metadata": {},
     "output_type": "display_data"
    },
    {
     "data": {
      "text/html": [
       "<pre style=\"white-space:pre;overflow-x:auto;line-height:normal;font-family:Menlo,'DejaVu Sans Mono',consolas,'Courier New',monospace\">                              name  eventrefnumber  \\\n",
       "<span style=\"color: #008080; text-decoration-color: #008080; font-weight: bold\">0</span>          Taliban Compound Struck  <span style=\"color: #008080; text-decoration-color: #008080; font-weight: bold\">2009</span>-<span style=\"color: #008080; text-decoration-color: #008080; font-weight: bold\">11</span>-CA-<span style=\"color: #008080; text-decoration-color: #008080; font-weight: bold\">056</span>   \n",
       "<span style=\"color: #008080; text-decoration-color: #008080; font-weight: bold\">1</span>   Militants Detained in Kandahar  <span style=\"color: #008080; text-decoration-color: #008080; font-weight: bold\">2009</span>-<span style=\"color: #008080; text-decoration-color: #008080; font-weight: bold\">11</span>-CA-<span style=\"color: #008080; text-decoration-color: #008080; font-weight: bold\">056</span>   \n",
       "<span style=\"color: #008080; text-decoration-color: #008080; font-weight: bold\">2</span>      Militants Detained in Khost  <span style=\"color: #008080; text-decoration-color: #008080; font-weight: bold\">2009</span>-<span style=\"color: #008080; text-decoration-color: #008080; font-weight: bold\">12</span>-CA–<span style=\"color: #008080; text-decoration-color: #008080; font-weight: bold\">057</span>   \n",
       "<span style=\"color: #008080; text-decoration-color: #008080; font-weight: bold\">3</span>     Militants Detained in Wardak  <span style=\"color: #008080; text-decoration-color: #008080; font-weight: bold\">2009</span>-<span style=\"color: #008080; text-decoration-color: #008080; font-weight: bold\">12</span>-CA–<span style=\"color: #008080; text-decoration-color: #008080; font-weight: bold\">057</span>   \n",
       "<span style=\"color: #008080; text-decoration-color: #008080; font-weight: bold\">4</span>  Insurgents Detained in Kandahar  <span style=\"color: #008080; text-decoration-color: #008080; font-weight: bold\">2009</span>-<span style=\"color: #008080; text-decoration-color: #008080; font-weight: bold\">12</span>-CA-<span style=\"color: #008080; text-decoration-color: #008080; font-weight: bold\">058</span>   \n",
       "\n",
       "                                                text  StartDate  eventtype  \\\n",
       "<span style=\"color: #008080; text-decoration-color: #008080; font-weight: bold\">0</span>  Dec. <span style=\"color: #008080; text-decoration-color: #008080; font-weight: bold\">2</span>: Taliban Compound Struck\\n\\nNEWS RELEAS<span style=\"color: #808000; text-decoration-color: #808000\">...</span> <span style=\"color: #008080; text-decoration-color: #008080; font-weight: bold\">2009</span>-<span style=\"color: #008080; text-decoration-color: #008080; font-weight: bold\">12</span>-<span style=\"color: #008080; text-decoration-color: #008080; font-weight: bold\">01</span>  airstrike   \n",
       "<span style=\"color: #008080; text-decoration-color: #008080; font-weight: bold\">1</span>  Militants Detained in Kandahar\\nNEWS RELEASE I<span style=\"color: #808000; text-decoration-color: #808000\">...</span> <span style=\"color: #008080; text-decoration-color: #008080; font-weight: bold\">2009</span>-<span style=\"color: #008080; text-decoration-color: #008080; font-weight: bold\">12</span>-<span style=\"color: #008080; text-decoration-color: #008080; font-weight: bold\">02</span>  detention   \n",
       "<span style=\"color: #008080; text-decoration-color: #008080; font-weight: bold\">2</span>  Dec. <span style=\"color: #008080; text-decoration-color: #008080; font-weight: bold\">3</span>: Militants Detained in Khwost\\nNEWS REL<span style=\"color: #808000; text-decoration-color: #808000\">...</span> <span style=\"color: #008080; text-decoration-color: #008080; font-weight: bold\">2009</span>-<span style=\"color: #008080; text-decoration-color: #008080; font-weight: bold\">12</span>-<span style=\"color: #008080; text-decoration-color: #008080; font-weight: bold\">02</span>  detention   \n",
       "<span style=\"color: #008080; text-decoration-color: #008080; font-weight: bold\">3</span>  Dec. <span style=\"color: #008080; text-decoration-color: #008080; font-weight: bold\">3</span>: Militants Detained in Wardak\\n\\n\\n\\nNE<span style=\"color: #808000; text-decoration-color: #808000\">...</span> <span style=\"color: #008080; text-decoration-color: #008080; font-weight: bold\">2009</span>-<span style=\"color: #008080; text-decoration-color: #008080; font-weight: bold\">12</span>-<span style=\"color: #008080; text-decoration-color: #008080; font-weight: bold\">03</span>  detention   \n",
       "<span style=\"color: #008080; text-decoration-color: #008080; font-weight: bold\">4</span>  Dec. <span style=\"color: #008080; text-decoration-color: #008080; font-weight: bold\">4</span>: Insurgents Detained in Kandahar\\nISAF <span style=\"color: #808000; text-decoration-color: #808000\">...</span> <span style=\"color: #008080; text-decoration-color: #008080; font-weight: bold\">2009</span>-<span style=\"color: #008080; text-decoration-color: #008080; font-weight: bold\">12</span>-<span style=\"color: #008080; text-decoration-color: #008080; font-weight: bold\">04</span>  detention   \n",
       "\n",
       "   province     citydistrict       village targetgroup commander  <span style=\"color: #808000; text-decoration-color: #808000\">...</span>  \\\n",
       "<span style=\"color: #008080; text-decoration-color: #008080; font-weight: bold\">0</span>     Kunar     Dara-ye Noor                   Taliban            <span style=\"color: #808000; text-decoration-color: #808000\">...</span>   \n",
       "<span style=\"color: #008080; text-decoration-color: #008080; font-weight: bold\">1</span>  Kandahar    Kandahar City                   Taliban            <span style=\"color: #808000; text-decoration-color: #808000\">...</span>   \n",
       "<span style=\"color: #008080; text-decoration-color: #008080; font-weight: bold\">2</span>     Khost  Sabari district      Khatekah     Taliban            <span style=\"color: #808000; text-decoration-color: #808000\">...</span>   \n",
       "<span style=\"color: #008080; text-decoration-color: #008080; font-weight: bold\">3</span>    Wardak       Sayyedabad    Jamad Khel     Taliban            <span style=\"color: #808000; text-decoration-color: #808000\">...</span>   \n",
       "<span style=\"color: #008080; text-decoration-color: #008080; font-weight: bold\">4</span>  Kandahar        Arghandab  Nurayo Kariz     Taliban            <span style=\"color: #808000; text-decoration-color: #808000\">...</span>   \n",
       "\n",
       "  airstrike noshotsfired dataprocessed flagged glossarymeta minleaderskilled  \\\n",
       "<span style=\"color: #008080; text-decoration-color: #008080; font-weight: bold\">0</span>      true        false          true   false        false                <span style=\"color: #008080; text-decoration-color: #008080; font-weight: bold\">0</span>   \n",
       "<span style=\"color: #008080; text-decoration-color: #008080; font-weight: bold\">1</span>     false         true          true   false        false                <span style=\"color: #008080; text-decoration-color: #008080; font-weight: bold\">0</span>   \n",
       "<span style=\"color: #008080; text-decoration-color: #008080; font-weight: bold\">2</span>     false         true          true   false        false                <span style=\"color: #008080; text-decoration-color: #008080; font-weight: bold\">0</span>   \n",
       "<span style=\"color: #008080; text-decoration-color: #008080; font-weight: bold\">3</span>     false         true          true   false        false                <span style=\"color: #008080; text-decoration-color: #008080; font-weight: bold\">0</span>   \n",
       "<span style=\"color: #008080; text-decoration-color: #008080; font-weight: bold\">4</span>     false         true          true   false        false                <span style=\"color: #008080; text-decoration-color: #008080; font-weight: bold\">0</span>   \n",
       "\n",
       "  minfacilitatorskilled minleaderscaptured minfacilitatorscaptured leaderq  \n",
       "<span style=\"color: #008080; text-decoration-color: #008080; font-weight: bold\">0</span>                     <span style=\"color: #008080; text-decoration-color: #008080; font-weight: bold\">0</span>                  <span style=\"color: #008080; text-decoration-color: #008080; font-weight: bold\">0</span>                       <span style=\"color: #008080; text-decoration-color: #008080; font-weight: bold\">0</span>   false  \n",
       "<span style=\"color: #008080; text-decoration-color: #008080; font-weight: bold\">1</span>                     <span style=\"color: #008080; text-decoration-color: #008080; font-weight: bold\">0</span>                  <span style=\"color: #008080; text-decoration-color: #008080; font-weight: bold\">0</span>                       <span style=\"color: #008080; text-decoration-color: #008080; font-weight: bold\">0</span>   false  \n",
       "<span style=\"color: #008080; text-decoration-color: #008080; font-weight: bold\">2</span>                     <span style=\"color: #008080; text-decoration-color: #008080; font-weight: bold\">0</span>                  <span style=\"color: #008080; text-decoration-color: #008080; font-weight: bold\">0</span>                       <span style=\"color: #008080; text-decoration-color: #008080; font-weight: bold\">1</span>   false  \n",
       "<span style=\"color: #008080; text-decoration-color: #008080; font-weight: bold\">3</span>                     <span style=\"color: #008080; text-decoration-color: #008080; font-weight: bold\">0</span>                  <span style=\"color: #008080; text-decoration-color: #008080; font-weight: bold\">0</span>                       <span style=\"color: #008080; text-decoration-color: #008080; font-weight: bold\">0</span>   false  \n",
       "<span style=\"color: #008080; text-decoration-color: #008080; font-weight: bold\">4</span>                     <span style=\"color: #008080; text-decoration-color: #008080; font-weight: bold\">0</span>                  <span style=\"color: #008080; text-decoration-color: #008080; font-weight: bold\">0</span>                       <span style=\"color: #008080; text-decoration-color: #008080; font-weight: bold\">1</span>   false  \n",
       "\n",
       "<span style=\"font-weight: bold\">[</span><span style=\"color: #008080; text-decoration-color: #008080; font-weight: bold\">5</span> rows x <span style=\"color: #008080; text-decoration-color: #008080; font-weight: bold\">28</span> columns<span style=\"font-weight: bold\">]</span>\n",
       "</pre>\n"
      ],
      "text/plain": [
       "                              name  eventrefnumber  \\\n",
       "\u001b[1;36m0\u001b[0m          Taliban Compound Struck  \u001b[1;36m2009\u001b[0m-\u001b[1;36m11\u001b[0m-CA-\u001b[1;36m056\u001b[0m   \n",
       "\u001b[1;36m1\u001b[0m   Militants Detained in Kandahar  \u001b[1;36m2009\u001b[0m-\u001b[1;36m11\u001b[0m-CA-\u001b[1;36m056\u001b[0m   \n",
       "\u001b[1;36m2\u001b[0m      Militants Detained in Khost  \u001b[1;36m2009\u001b[0m-\u001b[1;36m12\u001b[0m-CA–\u001b[1;36m057\u001b[0m   \n",
       "\u001b[1;36m3\u001b[0m     Militants Detained in Wardak  \u001b[1;36m2009\u001b[0m-\u001b[1;36m12\u001b[0m-CA–\u001b[1;36m057\u001b[0m   \n",
       "\u001b[1;36m4\u001b[0m  Insurgents Detained in Kandahar  \u001b[1;36m2009\u001b[0m-\u001b[1;36m12\u001b[0m-CA-\u001b[1;36m058\u001b[0m   \n",
       "\n",
       "                                                text  StartDate  eventtype  \\\n",
       "\u001b[1;36m0\u001b[0m  Dec. \u001b[1;36m2\u001b[0m: Taliban Compound Struck\\n\\nNEWS RELEAS\u001b[33m...\u001b[0m \u001b[1;36m2009\u001b[0m-\u001b[1;36m12\u001b[0m-\u001b[1;36m01\u001b[0m  airstrike   \n",
       "\u001b[1;36m1\u001b[0m  Militants Detained in Kandahar\\nNEWS RELEASE I\u001b[33m...\u001b[0m \u001b[1;36m2009\u001b[0m-\u001b[1;36m12\u001b[0m-\u001b[1;36m02\u001b[0m  detention   \n",
       "\u001b[1;36m2\u001b[0m  Dec. \u001b[1;36m3\u001b[0m: Militants Detained in Khwost\\nNEWS REL\u001b[33m...\u001b[0m \u001b[1;36m2009\u001b[0m-\u001b[1;36m12\u001b[0m-\u001b[1;36m02\u001b[0m  detention   \n",
       "\u001b[1;36m3\u001b[0m  Dec. \u001b[1;36m3\u001b[0m: Militants Detained in Wardak\\n\\n\\n\\nNE\u001b[33m...\u001b[0m \u001b[1;36m2009\u001b[0m-\u001b[1;36m12\u001b[0m-\u001b[1;36m03\u001b[0m  detention   \n",
       "\u001b[1;36m4\u001b[0m  Dec. \u001b[1;36m4\u001b[0m: Insurgents Detained in Kandahar\\nISAF \u001b[33m...\u001b[0m \u001b[1;36m2009\u001b[0m-\u001b[1;36m12\u001b[0m-\u001b[1;36m04\u001b[0m  detention   \n",
       "\n",
       "   province     citydistrict       village targetgroup commander  \u001b[33m...\u001b[0m  \\\n",
       "\u001b[1;36m0\u001b[0m     Kunar     Dara-ye Noor                   Taliban            \u001b[33m...\u001b[0m   \n",
       "\u001b[1;36m1\u001b[0m  Kandahar    Kandahar City                   Taliban            \u001b[33m...\u001b[0m   \n",
       "\u001b[1;36m2\u001b[0m     Khost  Sabari district      Khatekah     Taliban            \u001b[33m...\u001b[0m   \n",
       "\u001b[1;36m3\u001b[0m    Wardak       Sayyedabad    Jamad Khel     Taliban            \u001b[33m...\u001b[0m   \n",
       "\u001b[1;36m4\u001b[0m  Kandahar        Arghandab  Nurayo Kariz     Taliban            \u001b[33m...\u001b[0m   \n",
       "\n",
       "  airstrike noshotsfired dataprocessed flagged glossarymeta minleaderskilled  \\\n",
       "\u001b[1;36m0\u001b[0m      true        false          true   false        false                \u001b[1;36m0\u001b[0m   \n",
       "\u001b[1;36m1\u001b[0m     false         true          true   false        false                \u001b[1;36m0\u001b[0m   \n",
       "\u001b[1;36m2\u001b[0m     false         true          true   false        false                \u001b[1;36m0\u001b[0m   \n",
       "\u001b[1;36m3\u001b[0m     false         true          true   false        false                \u001b[1;36m0\u001b[0m   \n",
       "\u001b[1;36m4\u001b[0m     false         true          true   false        false                \u001b[1;36m0\u001b[0m   \n",
       "\n",
       "  minfacilitatorskilled minleaderscaptured minfacilitatorscaptured leaderq  \n",
       "\u001b[1;36m0\u001b[0m                     \u001b[1;36m0\u001b[0m                  \u001b[1;36m0\u001b[0m                       \u001b[1;36m0\u001b[0m   false  \n",
       "\u001b[1;36m1\u001b[0m                     \u001b[1;36m0\u001b[0m                  \u001b[1;36m0\u001b[0m                       \u001b[1;36m0\u001b[0m   false  \n",
       "\u001b[1;36m2\u001b[0m                     \u001b[1;36m0\u001b[0m                  \u001b[1;36m0\u001b[0m                       \u001b[1;36m1\u001b[0m   false  \n",
       "\u001b[1;36m3\u001b[0m                     \u001b[1;36m0\u001b[0m                  \u001b[1;36m0\u001b[0m                       \u001b[1;36m0\u001b[0m   false  \n",
       "\u001b[1;36m4\u001b[0m                     \u001b[1;36m0\u001b[0m                  \u001b[1;36m0\u001b[0m                       \u001b[1;36m1\u001b[0m   false  \n",
       "\n",
       "\u001b[1m[\u001b[0m\u001b[1;36m5\u001b[0m rows x \u001b[1;36m28\u001b[0m columns\u001b[1m]\u001b[0m\n"
      ]
     },
     "metadata": {},
     "output_type": "display_data"
    }
   ],
   "source": [
    "# get data from datasets\n",
    "from datasets import load_dataset\n",
    "import pandas as pd\n",
    "from rich import print\n",
    "\n",
    "# Load the dataset\n",
    "dataset = load_dataset(\"strickvl/isafpressreleases\", split=\"train\")\n",
    "\n",
    "# Convert the dataset to a pandas DataFrame\n",
    "df = pd.DataFrame(dataset)\n",
    "\n",
    "# Print the first few rows of the DataFrame\n",
    "print(df.head())"
   ]
  },
  {
   "cell_type": "code",
   "execution_count": 25,
   "metadata": {},
   "outputs": [
    {
     "data": {
      "text/plain": [
       "Index(['name', 'eventrefnumber', 'text', 'StartDate', 'eventtype', 'province',\n",
       "       'citydistrict', 'village', 'targetgroup', 'commander', 'position',\n",
       "       'minkilled', 'mincaptured', 'capturedcharacterisation',\n",
       "       'killedcharacterisation', 'killq', 'captureq', 'killcaptureraid',\n",
       "       'airstrike', 'noshotsfired', 'dataprocessed', 'flagged', 'glossarymeta',\n",
       "       'minleaderskilled', 'minfacilitatorskilled', 'minleaderscaptured',\n",
       "       'minfacilitatorscaptured', 'leaderq'],\n",
       "      dtype='object')"
      ]
     },
     "execution_count": 25,
     "metadata": {},
     "output_type": "execute_result"
    }
   ],
   "source": [
    "df.columns"
   ]
  },
  {
   "cell_type": "code",
   "execution_count": null,
   "metadata": {},
   "outputs": [],
   "source": [
    "eventtype_options = df['eventtype'].unique().tolist()\n",
    "\n",
    "print(eventtype_options)"
   ]
  },
  {
   "cell_type": "code",
   "execution_count": 3,
   "metadata": {},
   "outputs": [
    {
     "data": {
      "text/plain": [
       "Dataset({\n",
       "    features: ['name', 'eventrefnumber', 'text', 'StartDate', 'eventtype', 'province', 'citydistrict', 'village', 'targetgroup', 'commander', 'position', 'minkilled', 'mincaptured', 'capturedcharacterisation', 'killedcharacterisation', 'killq', 'captureq', 'killcaptureraid', 'airstrike', 'noshotsfired', 'dataprocessed', 'flagged', 'glossarymeta', 'minleaderskilled', 'minfacilitatorskilled', 'minleaderscaptured', 'minfacilitatorscaptured', 'leaderq'],\n",
       "    num_rows: 4822\n",
       "})"
      ]
     },
     "execution_count": 3,
     "metadata": {},
     "output_type": "execute_result"
    }
   ],
   "source": [
    "dataset"
   ]
  },
  {
   "cell_type": "code",
   "execution_count": 12,
   "metadata": {},
   "outputs": [
    {
     "data": {
      "text/html": [
       "<pre style=\"white-space:pre;overflow-x:auto;line-height:normal;font-family:Menlo,'DejaVu Sans Mono',consolas,'Courier New',monospace\"><span style=\"font-weight: bold\">[</span>\n",
       "    <span style=\"color: #008000; text-decoration-color: #008000\">''</span>,\n",
       "    <span style=\"color: #008000; text-decoration-color: #008000\">'??'</span>,\n",
       "    <span style=\"color: #008000; text-decoration-color: #008000\">'???'</span>,\n",
       "    <span style=\"color: #008000; text-decoration-color: #008000\">'Badakhshan'</span>,\n",
       "    <span style=\"color: #008000; text-decoration-color: #008000\">'Badghis'</span>,\n",
       "    <span style=\"color: #008000; text-decoration-color: #008000\">'Baghlan'</span>,\n",
       "    <span style=\"color: #008000; text-decoration-color: #008000\">'Balkh'</span>,\n",
       "    <span style=\"color: #008000; text-decoration-color: #008000\">'Dai Kundi'</span>,\n",
       "    <span style=\"color: #008000; text-decoration-color: #008000\">'Eastern Afghanistan'</span>,\n",
       "    <span style=\"color: #008000; text-decoration-color: #008000\">'Farah'</span>,\n",
       "    <span style=\"color: #008000; text-decoration-color: #008000\">'Faryab'</span>,\n",
       "    <span style=\"color: #008000; text-decoration-color: #008000\">'Ghazni'</span>,\n",
       "    <span style=\"color: #008000; text-decoration-color: #008000\">'Ghor'</span>,\n",
       "    <span style=\"color: #008000; text-decoration-color: #008000\">'Helmand'</span>,\n",
       "    <span style=\"color: #008000; text-decoration-color: #008000\">'Helmand;Kunar'</span>,\n",
       "    <span style=\"color: #008000; text-decoration-color: #008000\">'Herat'</span>,\n",
       "    <span style=\"color: #008000; text-decoration-color: #008000\">'Jowzjan'</span>,\n",
       "    <span style=\"color: #008000; text-decoration-color: #008000\">'Kabul'</span>,\n",
       "    <span style=\"color: #008000; text-decoration-color: #008000\">'Kandahar'</span>,\n",
       "    <span style=\"color: #008000; text-decoration-color: #008000\">'Kapisa'</span>,\n",
       "    <span style=\"color: #008000; text-decoration-color: #008000\">'Khost'</span>,\n",
       "    <span style=\"color: #008000; text-decoration-color: #008000\">'Kunar'</span>,\n",
       "    <span style=\"color: #008000; text-decoration-color: #008000\">'Kunduz'</span>,\n",
       "    <span style=\"color: #008000; text-decoration-color: #008000\">'Laghman'</span>,\n",
       "    <span style=\"color: #008000; text-decoration-color: #008000\">'Logar'</span>,\n",
       "    <span style=\"color: #008000; text-decoration-color: #008000\">'Nangarhar'</span>,\n",
       "    <span style=\"color: #008000; text-decoration-color: #008000\">'Nimroz'</span>,\n",
       "    <span style=\"color: #008000; text-decoration-color: #008000\">'Nuristan'</span>,\n",
       "    <span style=\"color: #008000; text-decoration-color: #008000\">'Paktika'</span>,\n",
       "    <span style=\"color: #008000; text-decoration-color: #008000\">'Paktya'</span>,\n",
       "    <span style=\"color: #008000; text-decoration-color: #008000\">'Parwan'</span>,\n",
       "    <span style=\"color: #008000; text-decoration-color: #008000\">'Samangan'</span>,\n",
       "    <span style=\"color: #008000; text-decoration-color: #008000\">'Sar-e Pul'</span>,\n",
       "    <span style=\"color: #008000; text-decoration-color: #008000\">'South-East Afghanistan'</span>,\n",
       "    <span style=\"color: #008000; text-decoration-color: #008000\">'Southern Afghanistan'</span>,\n",
       "    <span style=\"color: #008000; text-decoration-color: #008000\">'Takhar'</span>,\n",
       "    <span style=\"color: #008000; text-decoration-color: #008000\">'Uruzgan'</span>,\n",
       "    <span style=\"color: #008000; text-decoration-color: #008000\">'Wardak'</span>,\n",
       "    <span style=\"color: #008000; text-decoration-color: #008000\">'Zabul'</span>\n",
       "<span style=\"font-weight: bold\">]</span>\n",
       "</pre>\n"
      ],
      "text/plain": [
       "\u001b[1m[\u001b[0m\n",
       "    \u001b[32m''\u001b[0m,\n",
       "    \u001b[32m'??'\u001b[0m,\n",
       "    \u001b[32m'???'\u001b[0m,\n",
       "    \u001b[32m'Badakhshan'\u001b[0m,\n",
       "    \u001b[32m'Badghis'\u001b[0m,\n",
       "    \u001b[32m'Baghlan'\u001b[0m,\n",
       "    \u001b[32m'Balkh'\u001b[0m,\n",
       "    \u001b[32m'Dai Kundi'\u001b[0m,\n",
       "    \u001b[32m'Eastern Afghanistan'\u001b[0m,\n",
       "    \u001b[32m'Farah'\u001b[0m,\n",
       "    \u001b[32m'Faryab'\u001b[0m,\n",
       "    \u001b[32m'Ghazni'\u001b[0m,\n",
       "    \u001b[32m'Ghor'\u001b[0m,\n",
       "    \u001b[32m'Helmand'\u001b[0m,\n",
       "    \u001b[32m'Helmand;Kunar'\u001b[0m,\n",
       "    \u001b[32m'Herat'\u001b[0m,\n",
       "    \u001b[32m'Jowzjan'\u001b[0m,\n",
       "    \u001b[32m'Kabul'\u001b[0m,\n",
       "    \u001b[32m'Kandahar'\u001b[0m,\n",
       "    \u001b[32m'Kapisa'\u001b[0m,\n",
       "    \u001b[32m'Khost'\u001b[0m,\n",
       "    \u001b[32m'Kunar'\u001b[0m,\n",
       "    \u001b[32m'Kunduz'\u001b[0m,\n",
       "    \u001b[32m'Laghman'\u001b[0m,\n",
       "    \u001b[32m'Logar'\u001b[0m,\n",
       "    \u001b[32m'Nangarhar'\u001b[0m,\n",
       "    \u001b[32m'Nimroz'\u001b[0m,\n",
       "    \u001b[32m'Nuristan'\u001b[0m,\n",
       "    \u001b[32m'Paktika'\u001b[0m,\n",
       "    \u001b[32m'Paktya'\u001b[0m,\n",
       "    \u001b[32m'Parwan'\u001b[0m,\n",
       "    \u001b[32m'Samangan'\u001b[0m,\n",
       "    \u001b[32m'Sar-e Pul'\u001b[0m,\n",
       "    \u001b[32m'South-East Afghanistan'\u001b[0m,\n",
       "    \u001b[32m'Southern Afghanistan'\u001b[0m,\n",
       "    \u001b[32m'Takhar'\u001b[0m,\n",
       "    \u001b[32m'Uruzgan'\u001b[0m,\n",
       "    \u001b[32m'Wardak'\u001b[0m,\n",
       "    \u001b[32m'Zabul'\u001b[0m\n",
       "\u001b[1m]\u001b[0m\n"
      ]
     },
     "metadata": {},
     "output_type": "display_data"
    }
   ],
   "source": [
    "province_options = df['province'].unique().tolist()\n",
    "print(sorted(province_options))\n",
    "\n"
   ]
  },
  {
   "cell_type": "markdown",
   "metadata": {},
   "source": [
    "# Split the dataset into train/test"
   ]
  },
  {
   "cell_type": "code",
   "execution_count": 5,
   "metadata": {},
   "outputs": [
    {
     "data": {
      "application/vnd.jupyter.widget-view+json": {
       "model_id": "0210ee520d6848a3b14eaa00183659e7",
       "version_major": 2,
       "version_minor": 0
      },
      "text/plain": [
       "Resolving data files:   0%|          | 0/4823 [00:00<?, ?it/s]"
      ]
     },
     "metadata": {},
     "output_type": "display_data"
    },
    {
     "data": {
      "application/vnd.jupyter.widget-view+json": {
       "model_id": "4f035e8b91904c18a02fd52f4ee0d9e0",
       "version_major": 2,
       "version_minor": 0
      },
      "text/plain": [
       "Uploading the dataset shards:   0%|          | 0/1 [00:00<?, ?it/s]"
      ]
     },
     "metadata": {},
     "output_type": "display_data"
    },
    {
     "data": {
      "application/vnd.jupyter.widget-view+json": {
       "model_id": "1ad4ba511bd5416fafd40bd7a0300488",
       "version_major": 2,
       "version_minor": 0
      },
      "text/plain": [
       "Creating parquet from Arrow format:   0%|          | 0/4 [00:00<?, ?ba/s]"
      ]
     },
     "metadata": {},
     "output_type": "display_data"
    },
    {
     "data": {
      "application/vnd.jupyter.widget-view+json": {
       "model_id": "3833dc9324b14ffeadbadffe6677a6b4",
       "version_major": 2,
       "version_minor": 0
      },
      "text/plain": [
       "Uploading the dataset shards:   0%|          | 0/1 [00:00<?, ?it/s]"
      ]
     },
     "metadata": {},
     "output_type": "display_data"
    },
    {
     "data": {
      "application/vnd.jupyter.widget-view+json": {
       "model_id": "397b2d56a0164af4845be7abb3af193e",
       "version_major": 2,
       "version_minor": 0
      },
      "text/plain": [
       "Creating parquet from Arrow format:   0%|          | 0/2 [00:00<?, ?ba/s]"
      ]
     },
     "metadata": {},
     "output_type": "display_data"
    },
    {
     "data": {
      "application/vnd.jupyter.widget-view+json": {
       "model_id": "93f595ecb8a04c1f8043ece580d2ece8",
       "version_major": 2,
       "version_minor": 0
      },
      "text/plain": [
       "README.md:   0%|          | 0.00/14.1k [00:00<?, ?B/s]"
      ]
     },
     "metadata": {},
     "output_type": "display_data"
    },
    {
     "data": {
      "text/plain": [
       "CommitInfo(commit_url='https://huggingface.co/datasets/strickvl/isafpressreleases/commit/1d7154c648657896a1ccddbd13e3074cd97536f6', commit_message='Upload dataset', commit_description='', oid='1d7154c648657896a1ccddbd13e3074cd97536f6', pr_url='https://huggingface.co/datasets/strickvl/isafpressreleases/discussions/2', pr_revision='refs/pr/2', pr_num=2)"
      ]
     },
     "execution_count": 5,
     "metadata": {},
     "output_type": "execute_result"
    }
   ],
   "source": [
    "import datasets\n",
    "\n",
    "dataset = load_dataset(\"strickvl/isafpressreleases\")\n",
    "# Perform the train-test split\n",
    "train_test_split = dataset[\"train\"].train_test_split(test_size=0.25)\n",
    "\n",
    "# Create a new dataset with the train and test splits\n",
    "new_dataset = datasets.DatasetDict({\n",
    "    \"train\": train_test_split[\"train\"],\n",
    "    \"test\": train_test_split[\"test\"]\n",
    "})\n",
    "\n",
    "# Push the new dataset to the Hugging Face Hub\n",
    "new_dataset.push_to_hub(\"strickvl/isafpressreleases\", create_pr=True)"
   ]
  },
  {
   "cell_type": "markdown",
   "metadata": {},
   "source": [
    "# Shift the train-test split a bit"
   ]
  },
  {
   "cell_type": "code",
   "execution_count": 2,
   "metadata": {},
   "outputs": [
    {
     "data": {
      "application/vnd.jupyter.widget-view+json": {
       "model_id": "ef4adeb216444e4bbca89a37974aeec6",
       "version_major": 2,
       "version_minor": 0
      },
      "text/plain": [
       "Uploading the dataset shards:   0%|          | 0/1 [00:00<?, ?it/s]"
      ]
     },
     "metadata": {},
     "output_type": "display_data"
    },
    {
     "data": {
      "application/vnd.jupyter.widget-view+json": {
       "model_id": "9cbf6de6928b41dbb56979125b556e80",
       "version_major": 2,
       "version_minor": 0
      },
      "text/plain": [
       "Creating parquet from Arrow format:   0%|          | 0/5 [00:00<?, ?ba/s]"
      ]
     },
     "metadata": {},
     "output_type": "display_data"
    },
    {
     "data": {
      "application/vnd.jupyter.widget-view+json": {
       "model_id": "3b90bcf756e14344a01ed54b7a141d69",
       "version_major": 2,
       "version_minor": 0
      },
      "text/plain": [
       "Uploading the dataset shards:   0%|          | 0/1 [00:00<?, ?it/s]"
      ]
     },
     "metadata": {},
     "output_type": "display_data"
    },
    {
     "data": {
      "application/vnd.jupyter.widget-view+json": {
       "model_id": "75546c164e7b401c8b7b92e0b4ba3e06",
       "version_major": 2,
       "version_minor": 0
      },
      "text/plain": [
       "Creating parquet from Arrow format:   0%|          | 0/1 [00:00<?, ?ba/s]"
      ]
     },
     "metadata": {},
     "output_type": "display_data"
    },
    {
     "data": {
      "application/vnd.jupyter.widget-view+json": {
       "model_id": "5d4a81f1bcbf4c65ac2be0457d8febf0",
       "version_major": 2,
       "version_minor": 0
      },
      "text/plain": [
       "README.md:   0%|          | 0.00/15.6k [00:00<?, ?B/s]"
      ]
     },
     "metadata": {},
     "output_type": "display_data"
    },
    {
     "data": {
      "text/plain": [
       "CommitInfo(commit_url='https://huggingface.co/datasets/strickvl/isafpressreleases/commit/28fe9c2ecae245b0af29675ad8b9056938caee85', commit_message='Upload dataset', commit_description='', oid='28fe9c2ecae245b0af29675ad8b9056938caee85', pr_url='https://huggingface.co/datasets/strickvl/isafpressreleases/discussions/3', pr_revision='refs/pr/3', pr_num=3)"
      ]
     },
     "execution_count": 2,
     "metadata": {},
     "output_type": "execute_result"
    }
   ],
   "source": [
    "import datasets\n",
    "from datasets import load_dataset\n",
    "\n",
    "dataset = load_dataset(\"strickvl/isafpressreleases\")\n",
    "train_dataset = dataset[\"train\"]\n",
    "test_dataset = dataset[\"test\"]\n",
    "\n",
    "# merge these two datasets\n",
    "merged_dataset = datasets.concatenate_datasets([train_dataset, test_dataset])\n",
    "\n",
    "# Perform the train-test split\n",
    "train_test_split = merged_dataset.train_test_split(test_size=0.15)\n",
    "\n",
    "# Create a new dataset with the train and test splits\n",
    "new_dataset = datasets.DatasetDict({\n",
    "    \"train\": train_test_split[\"train\"],\n",
    "    \"test\": train_test_split[\"test\"]\n",
    "})\n",
    "\n",
    "# Push the new dataset to the Hugging Face Hub\n",
    "new_dataset.push_to_hub(\"strickvl/isafpressreleases\", create_pr=True)"
   ]
  },
  {
   "cell_type": "markdown",
   "metadata": {},
   "source": [
    "# Load dataset into Pydantic models"
   ]
  },
  {
   "cell_type": "code",
   "execution_count": 7,
   "metadata": {},
   "outputs": [
    {
     "data": {
      "application/vnd.jupyter.widget-view+json": {
       "model_id": "f66631a8eb1044ed861337e96f3ab8d5",
       "version_major": 2,
       "version_minor": 0
      },
      "text/plain": [
       "Downloading readme:   0%|          | 0.00/15.6k [00:00<?, ?B/s]"
      ]
     },
     "metadata": {},
     "output_type": "display_data"
    },
    {
     "data": {
      "application/vnd.jupyter.widget-view+json": {
       "model_id": "51dc3ab816fd4178bd11d238dde48b0d",
       "version_major": 2,
       "version_minor": 0
      },
      "text/plain": [
       "Downloading data:   0%|          | 0.00/1.33M [00:00<?, ?B/s]"
      ]
     },
     "metadata": {},
     "output_type": "display_data"
    },
    {
     "data": {
      "application/vnd.jupyter.widget-view+json": {
       "model_id": "a52bc6061c6b45b2bb2f695aff02c12d",
       "version_major": 2,
       "version_minor": 0
      },
      "text/plain": [
       "Downloading data:   0%|          | 0.00/453k [00:00<?, ?B/s]"
      ]
     },
     "metadata": {},
     "output_type": "display_data"
    },
    {
     "data": {
      "application/vnd.jupyter.widget-view+json": {
       "model_id": "7a88a57a18bc40caad79edfe9371e113",
       "version_major": 2,
       "version_minor": 0
      },
      "text/plain": [
       "Generating train split:   0%|          | 0/3616 [00:00<?, ? examples/s]"
      ]
     },
     "metadata": {},
     "output_type": "display_data"
    },
    {
     "data": {
      "application/vnd.jupyter.widget-view+json": {
       "model_id": "1d4a7d184c8e4826b04da14ee0d0ce59",
       "version_major": 2,
       "version_minor": 0
      },
      "text/plain": [
       "Generating test split:   0%|          | 0/1206 [00:00<?, ? examples/s]"
      ]
     },
     "metadata": {},
     "output_type": "display_data"
    }
   ],
   "source": [
    "# get data from datasets\n",
    "from datasets import load_dataset\n",
    "import pandas as pd\n",
    "from rich import print\n",
    "\n",
    "# Load the dataset\n",
    "dataset = load_dataset(\"strickvl/isafpressreleases\", split=\"train\")\n",
    "\n",
    "# Convert the dataset to a pandas DataFrame\n",
    "df = pd.DataFrame(dataset)"
   ]
  },
  {
   "cell_type": "code",
   "execution_count": 8,
   "metadata": {},
   "outputs": [
    {
     "data": {
      "text/plain": [
       "Dataset({\n",
       "    features: ['name', 'eventrefnumber', 'text', 'StartDate', 'eventtype', 'province', 'citydistrict', 'village', 'targetgroup', 'commander', 'position', 'minkilled', 'mincaptured', 'capturedcharacterisation', 'killedcharacterisation', 'killq', 'captureq', 'killcaptureraid', 'airstrike', 'noshotsfired', 'dataprocessed', 'flagged', 'glossarymeta', 'minleaderskilled', 'minfacilitatorskilled', 'minleaderscaptured', 'minfacilitatorscaptured', 'leaderq'],\n",
       "    num_rows: 3616\n",
       "})"
      ]
     },
     "execution_count": 8,
     "metadata": {},
     "output_type": "execute_result"
    }
   ],
   "source": [
    "dataset"
   ]
  },
  {
   "cell_type": "markdown",
   "metadata": {},
   "source": [
    "## Pydantic models"
   ]
  },
  {
   "cell_type": "code",
   "execution_count": 13,
   "metadata": {},
   "outputs": [],
   "source": [
    "from pydantic import BaseModel, Field\n",
    "from datetime import date\n",
    "from enum import Enum\n",
    "\n",
    "class EventType(str, Enum):\n",
    "    airstrike = \"airstrike\"\n",
    "    detention = \"detention\"\n",
    "    captureandkill = \"captureandkill\"\n",
    "    insurgentskilled = \"insurgentskilled\"\n",
    "    exchangeoffire = \"exchangeoffire\"\n",
    "    civiliancasualty = \"civiliancasualty\"\n",
    "\n",
    "class Province(str, Enum):\n",
    "    badakhshan = \"badakhshan\"\n",
    "    badghis = \"badghis\"\n",
    "    baghlan = \"baghlan\"\n",
    "    balkh = \"balkh\"\n",
    "    bamyan = \"bamyan\"\n",
    "    day_kundi = \"day_kundi\"\n",
    "    farah = \"farah\"\n",
    "    faryab = \"faryab\"\n",
    "    ghazni = \"ghazni\"\n",
    "    ghor = \"ghor\"\n",
    "    helmand = \"helmand\"\n",
    "    herat = \"herat\"\n",
    "    jowzjan = \"jowzjan\"\n",
    "    kabul = \"kabul\"\n",
    "    kandahar = \"kandahar\"\n",
    "    kapisa = \"kapisa\"\n",
    "    khost = \"khost\"\n",
    "    kunar = \"kunar\"\n",
    "    kunduz = \"kunduz\"\n",
    "    laghman = \"laghman\"\n",
    "    logar = \"logar\"\n",
    "    nangarhar = \"nangarhar\"\n",
    "    nimroz = \"nimroz\"\n",
    "    nuristan = \"nuristan\"\n",
    "    paktya = \"paktya\"\n",
    "    paktika = \"paktika\"\n",
    "    panjshir = \"panjshir\"\n",
    "    parwan = \"parwan\"\n",
    "    samangan = \"samangan\"\n",
    "    sar_e_pul = \"sar_e_pul\"\n",
    "    takhar = \"takhar\"\n",
    "    uruzgan = \"uruzgan\"\n",
    "    wardak = \"wardak\"\n",
    "    zabul = \"zabul\"\n",
    "\n",
    "class IsafEvent(BaseModel):\n",
    "    name: str = Field(description=\"A title or name for the event\")\n",
    "    start_date: date = Field(description=\"The start date of the event in YYYY-MM-DD format\")\n",
    "    end_date: date = Field(description=\"The end date of the event in YYYY-MM-DD format\")\n",
    "    event_type: EventType = Field(description=\"The event type\")\n",
    "    province: Province = Field(description=\"The province in which the event occurred\")\n",
    "    target_group: str = Field(description=\"The group that was targetted during the event.\")\n",
    "    min_killed: int = Field(description=\"The minimum number of people killed during the event\")\n",
    "    min_captured: int = Field(description=\"The minimum number of people captured during the event\")\n",
    "    killq: bool = Field(description=\"Whether someone was killed or not during the event\")\n",
    "    captureq: bool = Field(description=\"Whether someone was captured or not during the event\")\n",
    "    killcaptureraid: bool = Field(description=\"Whether the event was a so-called 'kill-capture raid'.\")\n",
    "    airstrike: bool = Field(description=\"Whether an airstrike was used during the event\")\n",
    "    noshotsfired: bool = Field(description=\"Whether no shots were fired during the event\")\n",
    "    min_leaders_killed: int = Field(description=\"The minimum number of leaders killed during the event\")\n",
    "    min_leaders_captured: int = Field(description=\"The minimum number of leaders captured during the event\")\n",
    "\n",
    "    class Config:\n",
    "        arbitrary_types_allowed = True\n"
   ]
  },
  {
   "cell_type": "code",
   "execution_count": 10,
   "metadata": {},
   "outputs": [
    {
     "data": {
      "text/plain": [
       "'ISAF Joint Command- Afghanistan\\n2011-07-S-060\\nFor Immediate Release\\n\\nFinally, in Ghazni district, Ghazni province, an Afghan-led security force detained several suspected insurgents while searching for a Taliban facilitator. The facilitator is responsible for procuring and disseminating weapons and supplies to insurgents in the area. The security force also confiscated vehicle-born improvised explosive device materials, grenades, an AK-47 assault rifle with several magazines and a chest rack.'"
      ]
     },
     "execution_count": 10,
     "metadata": {},
     "output_type": "execute_result"
    }
   ],
   "source": [
    "article_text = df['text'][0]\n",
    "article_text"
   ]
  },
  {
   "cell_type": "markdown",
   "metadata": {},
   "source": [
    "## Populating the data as Pydantic models"
   ]
  },
  {
   "cell_type": "code",
   "execution_count": 29,
   "metadata": {},
   "outputs": [
    {
     "data": {
      "text/plain": [
       "datetime.date(2011, 7, 18)"
      ]
     },
     "execution_count": 29,
     "metadata": {},
     "output_type": "execute_result"
    }
   ],
   "source": [
    "df.iloc[0]['StartDate']\n",
    "\n",
    "df.iloc[0]['StartDate'].to_pydatetime().date()"
   ]
  },
  {
   "cell_type": "code",
   "execution_count": null,
   "metadata": {},
   "outputs": [],
   "source": [
    "from typing import List\n",
    "\n",
    "events: List[IsafEvent] = []\n",
    "\n",
    "for i, row in list(df.iterrows())[:3]:\n",
    "    events.append(\n",
    "        IsafEvent(\n",
    "            name=row['name'],\n",
    "            start_date=row['StartDate'].to_pydatetime().date(),\n",
    "            end_date=row['EndDate'].to_pydatetime().date(),\n",
    "            event_type=row['eventtype'],\n",
    "            province=row['province'],\n",
    "            target_group=row['target_group'],\n",
    "            min_killed=row['min_killed'],\n",
    "            min_captured=row['min_captured'],\n",
    "            killq=row['killq'],\n",
    "            captureq=row['captureq'],\n",
    "            killcaptureraid=row['killcaptureraid'],\n",
    "            airstrike=row['airstrike'],\n",
    "            noshotsfired=row['noshotsfired'],\n",
    "            min_leaders_killed=row['min_leaders_killed'],\n",
    "            min_leaders_captured=row['min_leaders_captured'],\n",
    "        )\n",
    "    )\n",
    "\n",
    "print(events)"
   ]
  },
  {
   "cell_type": "code",
   "execution_count": null,
   "metadata": {},
   "outputs": [],
   "source": [
    "query = f\"\"\"\n",
    "The following is a press release issued by ISAF (formerly operating in Afghanistan):\n",
    "{article_text}\n",
    "\n",
    "Please extract the following information from the press release:\n",
    "- The name of the event\n",
    "- The start date of the event\n",
    "- The end date of the event\n",
    "- The event type\n",
    "- The province in which the event occurred\n",
    "- The target group of the event\n",
    "- The minimum number of people killed during the event\n",
    "- The minimum number of people captured during the event\n",
    "- Whether someone was killed or not during the event\n",
    "- Whether someone was captured or not during the event\n",
    "- Whether the event was a so-called 'kill-capture raid'\n",
    "- Whether an airstrike was used during the event\n",
    "- Whether no shots were fired during the event\n",
    "- The minimum number of leaders killed during the event\n",
    "- The minimum number of leaders captured during the event\n",
    "\"\"\""
   ]
  },
  {
   "cell_type": "code",
   "execution_count": null,
   "metadata": {},
   "outputs": [],
   "source": [
    "import instructor\n",
    "import datetime\n",
    "from openai import OpenAI\n",
    "\n",
    "# patch the client to add `response_model` to the `create` method\n",
    "client = instructor.patch(OpenAI(), mode=instructor.Mode.MD_JSON)\n",
    "\n",
    "openai_resp = client.chat.completions.create(\n",
    "    model=\"gpt-3.5-turbo\",\n",
    "    messages=[\n",
    "        {\n",
    "            \"role\": \"user\",\n",
    "            \"content\": query,\n",
    "        },\n",
    "    ],\n",
    "    response_model=IsafEvent,\n",
    ")\n",
    "\n",
    "print(openai_resp)"
   ]
  },
  {
   "cell_type": "code",
   "execution_count": null,
   "metadata": {},
   "outputs": [],
   "source": [
    "# enables `response_model` in create call\n",
    "client = instructor.from_openai(\n",
    "    OpenAI(\n",
    "        base_url=\"http://localhost:11434/v1\",\n",
    "        api_key=\"ollama\",  # required, but unused\n",
    "    ),\n",
    "    mode=instructor.Mode.JSON,\n",
    ")\n",
    "\n",
    "mixtral_resp = client.chat.completions.create(\n",
    "    model=\"mixtral\",\n",
    "    messages=[\n",
    "        {\n",
    "            \"role\": \"user\",\n",
    "            \"content\": query,\n",
    "        }\n",
    "    ],\n",
    "    response_model=IsafEvent,\n",
    ")\n",
    "print(mixtral_resp)"
   ]
  },
  {
   "cell_type": "code",
   "execution_count": null,
   "metadata": {},
   "outputs": [],
   "source": []
  }
 ],
 "metadata": {
  "kernelspec": {
   "display_name": "isafpr",
   "language": "python",
   "name": "python3"
  },
  "language_info": {
   "codemirror_mode": {
    "name": "ipython",
    "version": 3
   },
   "file_extension": ".py",
   "mimetype": "text/x-python",
   "name": "python",
   "nbconvert_exporter": "python",
   "pygments_lexer": "ipython3",
   "version": "3.10.14"
  }
 },
 "nbformat": 4,
 "nbformat_minor": 2
}
