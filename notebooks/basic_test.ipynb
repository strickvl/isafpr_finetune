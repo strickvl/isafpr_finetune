{
 "cells": [
  {
   "cell_type": "markdown",
   "metadata": {},
   "source": [
    "We first need to take some samples and see how well GPT-4 does at extracting the data."
   ]
  },
  {
   "cell_type": "code",
   "execution_count": 20,
   "metadata": {},
   "outputs": [],
   "source": [
    "from rich import print"
   ]
  },
  {
   "cell_type": "code",
   "execution_count": 3,
   "metadata": {},
   "outputs": [
    {
     "name": "stderr",
     "output_type": "stream",
     "text": [
      "Downloading data: 100%|██████████| 4822/4822 [00:10<00:00, 456.45files/s]  \n",
      "Generating train split: 100%|██████████| 4822/4822 [00:02<00:00, 2232.76 examples/s]\n"
     ]
    },
    {
     "name": "stdout",
     "output_type": "stream",
     "text": [
      "                              name  eventrefnumber  \\\n",
      "0          Taliban Compound Struck  2009-11-CA-056   \n",
      "1   Militants Detained in Kandahar  2009-11-CA-056   \n",
      "2      Militants Detained in Khost  2009-12-CA–057   \n",
      "3     Militants Detained in Wardak  2009-12-CA–057   \n",
      "4  Insurgents Detained in Kandahar  2009-12-CA-058   \n",
      "\n",
      "                                                text  StartDate  eventtype  \\\n",
      "0  Dec. 2: Taliban Compound Struck\\n\\nNEWS RELEAS... 2009-12-01  airstrike   \n",
      "1  Militants Detained in Kandahar\\nNEWS RELEASE I... 2009-12-02  detention   \n",
      "2  Dec. 3: Militants Detained in Khwost\\nNEWS REL... 2009-12-02  detention   \n",
      "3  Dec. 3: Militants Detained in Wardak\\n\\n\\n\\nNE... 2009-12-03  detention   \n",
      "4  Dec. 4: Insurgents Detained in Kandahar\\nISAF ... 2009-12-04  detention   \n",
      "\n",
      "   province     citydistrict       village targetgroup commander  ...  \\\n",
      "0     Kunar     Dara-ye Noor                   Taliban            ...   \n",
      "1  Kandahar    Kandahar City                   Taliban            ...   \n",
      "2     Khost  Sabari district      Khatekah     Taliban            ...   \n",
      "3    Wardak       Sayyedabad    Jamad Khel     Taliban            ...   \n",
      "4  Kandahar        Arghandab  Nurayo Kariz     Taliban            ...   \n",
      "\n",
      "  airstrike noshotsfired dataprocessed flagged glossarymeta minleaderskilled  \\\n",
      "0      true        false          true   false        false                0   \n",
      "1     false         true          true   false        false                0   \n",
      "2     false         true          true   false        false                0   \n",
      "3     false         true          true   false        false                0   \n",
      "4     false         true          true   false        false                0   \n",
      "\n",
      "  minfacilitatorskilled minleaderscaptured minfacilitatorscaptured leaderq  \n",
      "0                     0                  0                       0   false  \n",
      "1                     0                  0                       0   false  \n",
      "2                     0                  0                       1   false  \n",
      "3                     0                  0                       0   false  \n",
      "4                     0                  0                       1   false  \n",
      "\n",
      "[5 rows x 28 columns]\n"
     ]
    }
   ],
   "source": [
    "# get data from datasets\n",
    "from datasets import load_dataset\n",
    "import pandas as pd\n",
    "\n",
    "# Load the dataset\n",
    "dataset = load_dataset(\"strickvl/isafpressreleases\", split=\"train\")\n",
    "\n",
    "# Convert the dataset to a pandas DataFrame\n",
    "df = pd.DataFrame(dataset)\n",
    "\n",
    "# Print the first few rows of the DataFrame\n",
    "print(df.head())"
   ]
  },
  {
   "cell_type": "code",
   "execution_count": 4,
   "metadata": {},
   "outputs": [
    {
     "data": {
      "text/plain": [
       "Index(['name', 'eventrefnumber', 'text', 'StartDate', 'eventtype', 'province',\n",
       "       'citydistrict', 'village', 'targetgroup', 'commander', 'position',\n",
       "       'minkilled', 'mincaptured', 'capturedcharacterisation',\n",
       "       'killedcharacterisation', 'killq', 'captureq', 'killcaptureraid',\n",
       "       'airstrike', 'noshotsfired', 'dataprocessed', 'flagged', 'glossarymeta',\n",
       "       'minleaderskilled', 'minfacilitatorskilled', 'minleaderscaptured',\n",
       "       'minfacilitatorscaptured', 'leaderq'],\n",
       "      dtype='object')"
      ]
     },
     "execution_count": 4,
     "metadata": {},
     "output_type": "execute_result"
    }
   ],
   "source": [
    "df.columns"
   ]
  },
  {
   "cell_type": "code",
   "execution_count": 5,
   "metadata": {},
   "outputs": [
    {
     "name": "stdout",
     "output_type": "stream",
     "text": [
      "['airstrike', 'detention', 'captureandkill', 'insurgentskilled', 'exchangeoffire', '', 'civiliancasualty', '2010-07-CA-124', 'insurgentskilled;civiliancasualty', 'airstrike;detention', 'detention;airstrike', 'civiliancasualty;airstrike', 'airstrike;civiliancasualty', 'insurgentskilled;detention', 'detention;insurgentskilled']\n"
     ]
    }
   ],
   "source": [
    "eventtype_options = df['eventtype'].unique().tolist()\n",
    "\n",
    "print(eventtype_options)"
   ]
  },
  {
   "cell_type": "code",
   "execution_count": 14,
   "metadata": {},
   "outputs": [],
   "source": [
    "from pydantic import BaseModel, Field\n",
    "from datetime import date\n",
    "from enum import Enum\n",
    "\n",
    "class EventType(str, Enum):\n",
    "    airstrike = \"airstrike\"\n",
    "    detention = \"detention\"\n",
    "    captureandkill = \"captureandkill\"\n",
    "    insurgentskilled = \"insurgentskilled\"\n",
    "    exchangeoffire = \"exchangeoffire\"\n",
    "    civiliancasualty = \"civiliancasualty\"\n",
    "\n",
    "class Province(str, Enum):\n",
    "    badakhshan = \"badakhshan\"\n",
    "    badghis = \"badghis\"\n",
    "    baghlan = \"baghlan\"\n",
    "    balkh = \"balkh\"\n",
    "    bamyan = \"bamyan\"\n",
    "    day_kundi = \"day_kundi\"\n",
    "    farah = \"farah\"\n",
    "    faryab = \"faryab\"\n",
    "    ghazni = \"ghazni\"\n",
    "    ghor = \"ghor\"\n",
    "    helmand = \"helmand\"\n",
    "    herat = \"herat\"\n",
    "    jawzjan = \"jawzjan\"\n",
    "    kabul = \"kabul\"\n",
    "    kandahar = \"kandahar\"\n",
    "    kapisa = \"kapisa\"\n",
    "    khost = \"khost\"\n",
    "    kunar = \"kunar\"\n",
    "    kunduz = \"kunduz\"\n",
    "    laghman = \"laghman\"\n",
    "    logar = \"logar\"\n",
    "    nangarhar = \"nangarhar\"\n",
    "    nimroz = \"nimroz\"\n",
    "    nuristan = \"nuristan\"\n",
    "    paktia = \"paktia\"\n",
    "    paktika = \"paktika\"\n",
    "    panjshir = \"panjshir\"\n",
    "    parwan = \"parwan\"\n",
    "    samangan = \"samangan\"\n",
    "    sar_e_pol = \"sar_e_pol\"\n",
    "    takhar = \"takhar\"\n",
    "    uruzgan = \"uruzgan\"\n",
    "    wardak = \"wardak\"\n",
    "    zabul = \"zabul\"\n",
    "\n",
    "class IsafEvent(BaseModel):\n",
    "    name: str = Field(description=\"A title or name for the event\")\n",
    "    start_date: date = Field(description=\"The start date of the event in YYYY-MM-DD format\")\n",
    "    end_date: date = Field(description=\"The end date of the event in YYYY-MM-DD format\")\n",
    "    event_type: EventType = Field(description=\"The event type\")\n",
    "    province: Province = Field(description=\"The province in which the event occurred\")\n",
    "    target_group: str = Field(description=\"The group that was targetted during the event.\")\n",
    "    min_killed: int = Field(description=\"The minimum number of people killed during the event\")\n",
    "    min_captured: int = Field(description=\"The minimum number of people captured during the event\")\n",
    "    killq: bool = Field(description=\"Whether someone was killed or not during the event\")\n",
    "    captureq: bool = Field(description=\"Whether someone was captured or not during the event\")\n",
    "    killcaptureraid: bool = Field(description=\"Whether the event was a so-called 'kill-capture raid'.\")\n",
    "    airstrike: bool = Field(description=\"Whether an airstrike was used during the event\")\n",
    "    noshotsfired: bool = Field(description=\"Whether no shots were fired during the event\")\n",
    "    min_leaders_killed: int = Field(description=\"The minimum number of leaders killed during the event\")\n",
    "    min_leaders_captured: int = Field(description=\"The minimum number of leaders captured during the event\")\n",
    "\n",
    "    class Config:\n",
    "        arbitrary_types_allowed = True\n"
   ]
  },
  {
   "cell_type": "code",
   "execution_count": 15,
   "metadata": {},
   "outputs": [
    {
     "data": {
      "text/plain": [
       "\"Dec. 2: Taliban Compound Struck\\n\\nNEWS RELEASE\\u2028ISAF Joint Command - Afghanistan\\u2028\\u20282009-11-CA-056\\u2028For Immediate Release\\u2028\\u2028KABUL, Afghanistan (Dec. 02) - International forces conducted an air strike against a Taliban commander in a remote area of eastern Afghanistan yesterday.\\u2028\\u2028The Taliban commander was the target of the precision strike in Kunar province's Dara Noor district, which occurred \\u2028in an open area away from civilian compounds or infrastructure. \\u2028Assessment of the strike continues.\""
      ]
     },
     "execution_count": 15,
     "metadata": {},
     "output_type": "execute_result"
    }
   ],
   "source": [
    "article_text = df['text'][0]\n",
    "article_text"
   ]
  },
  {
   "cell_type": "code",
   "execution_count": 16,
   "metadata": {},
   "outputs": [],
   "source": [
    "query = f\"\"\"\n",
    "The following is a press release issued by ISAF (formerly operating in Afghanistan):\n",
    "{article_text}\n",
    "\n",
    "Please extract the following information from the press release:\n",
    "- The name of the event\n",
    "- The start date of the event\n",
    "- The end date of the event\n",
    "- The event type\n",
    "- The province in which the event occurred\n",
    "- The target group of the event\n",
    "- The minimum number of people killed during the event\n",
    "- The minimum number of people captured during the event\n",
    "- Whether someone was killed or not during the event\n",
    "- Whether someone was captured or not during the event\n",
    "- Whether the event was a so-called 'kill-capture raid'\n",
    "- Whether an airstrike was used during the event\n",
    "- Whether no shots were fired during the event\n",
    "- The minimum number of leaders killed during the event\n",
    "- The minimum number of leaders captured during the event\n",
    "\"\"\""
   ]
  },
  {
   "cell_type": "code",
   "execution_count": 21,
   "metadata": {},
   "outputs": [
    {
     "data": {
      "text/html": [
       "<pre style=\"white-space:pre;overflow-x:auto;line-height:normal;font-family:Menlo,'DejaVu Sans Mono',consolas,'Courier New',monospace\"><span style=\"color: #800080; text-decoration-color: #800080; font-weight: bold\">IsafEvent</span><span style=\"font-weight: bold\">(</span>\n",
       "    <span style=\"color: #808000; text-decoration-color: #808000\">name</span>=<span style=\"color: #008000; text-decoration-color: #008000\">'Taliban Compound Struck'</span>,\n",
       "    <span style=\"color: #808000; text-decoration-color: #808000\">start_date</span>=<span style=\"color: #800080; text-decoration-color: #800080; font-weight: bold\">datetime</span><span style=\"color: #800080; text-decoration-color: #800080; font-weight: bold\">.date</span><span style=\"font-weight: bold\">(</span><span style=\"color: #008080; text-decoration-color: #008080; font-weight: bold\">2009</span>, <span style=\"color: #008080; text-decoration-color: #008080; font-weight: bold\">12</span>, <span style=\"color: #008080; text-decoration-color: #008080; font-weight: bold\">2</span><span style=\"font-weight: bold\">)</span>,\n",
       "    <span style=\"color: #808000; text-decoration-color: #808000\">end_date</span>=<span style=\"color: #800080; text-decoration-color: #800080; font-weight: bold\">datetime</span><span style=\"color: #800080; text-decoration-color: #800080; font-weight: bold\">.date</span><span style=\"font-weight: bold\">(</span><span style=\"color: #008080; text-decoration-color: #008080; font-weight: bold\">2009</span>, <span style=\"color: #008080; text-decoration-color: #008080; font-weight: bold\">12</span>, <span style=\"color: #008080; text-decoration-color: #008080; font-weight: bold\">2</span><span style=\"font-weight: bold\">)</span>,\n",
       "    <span style=\"color: #808000; text-decoration-color: #808000\">event_type</span>=<span style=\"font-weight: bold\">&lt;</span><span style=\"color: #ff00ff; text-decoration-color: #ff00ff; font-weight: bold\">EventType.airstrike:</span><span style=\"color: #000000; text-decoration-color: #000000\"> </span><span style=\"color: #008000; text-decoration-color: #008000\">'airstrike'</span><span style=\"color: #000000; text-decoration-color: #000000\">&gt;,</span>\n",
       "<span style=\"color: #000000; text-decoration-color: #000000\">    </span><span style=\"color: #808000; text-decoration-color: #808000\">province</span><span style=\"color: #000000; text-decoration-color: #000000\">=&lt;Province.kunar: </span><span style=\"color: #008000; text-decoration-color: #008000\">'kunar'</span><span style=\"font-weight: bold\">&gt;</span>,\n",
       "    <span style=\"color: #808000; text-decoration-color: #808000\">target_group</span>=<span style=\"color: #008000; text-decoration-color: #008000\">'Taliban commander'</span>,\n",
       "    <span style=\"color: #808000; text-decoration-color: #808000\">min_killed</span>=<span style=\"color: #008080; text-decoration-color: #008080; font-weight: bold\">0</span>,\n",
       "    <span style=\"color: #808000; text-decoration-color: #808000\">min_captured</span>=<span style=\"color: #008080; text-decoration-color: #008080; font-weight: bold\">0</span>,\n",
       "    <span style=\"color: #808000; text-decoration-color: #808000\">killq</span>=<span style=\"color: #ff0000; text-decoration-color: #ff0000; font-style: italic\">False</span>,\n",
       "    <span style=\"color: #808000; text-decoration-color: #808000\">captureq</span>=<span style=\"color: #ff0000; text-decoration-color: #ff0000; font-style: italic\">False</span>,\n",
       "    <span style=\"color: #808000; text-decoration-color: #808000\">killcaptureraid</span>=<span style=\"color: #ff0000; text-decoration-color: #ff0000; font-style: italic\">False</span>,\n",
       "    <span style=\"color: #808000; text-decoration-color: #808000\">airstrike</span>=<span style=\"color: #00ff00; text-decoration-color: #00ff00; font-style: italic\">True</span>,\n",
       "    <span style=\"color: #808000; text-decoration-color: #808000\">noshotsfired</span>=<span style=\"color: #ff0000; text-decoration-color: #ff0000; font-style: italic\">False</span>,\n",
       "    <span style=\"color: #808000; text-decoration-color: #808000\">min_leaders_killed</span>=<span style=\"color: #008080; text-decoration-color: #008080; font-weight: bold\">0</span>,\n",
       "    <span style=\"color: #808000; text-decoration-color: #808000\">min_leaders_captured</span>=<span style=\"color: #008080; text-decoration-color: #008080; font-weight: bold\">0</span>\n",
       "<span style=\"font-weight: bold\">)</span>\n",
       "</pre>\n"
      ],
      "text/plain": [
       "\u001b[1;35mIsafEvent\u001b[0m\u001b[1m(\u001b[0m\n",
       "    \u001b[33mname\u001b[0m=\u001b[32m'Taliban Compound Struck'\u001b[0m,\n",
       "    \u001b[33mstart_date\u001b[0m=\u001b[1;35mdatetime\u001b[0m\u001b[1;35m.date\u001b[0m\u001b[1m(\u001b[0m\u001b[1;36m2009\u001b[0m, \u001b[1;36m12\u001b[0m, \u001b[1;36m2\u001b[0m\u001b[1m)\u001b[0m,\n",
       "    \u001b[33mend_date\u001b[0m=\u001b[1;35mdatetime\u001b[0m\u001b[1;35m.date\u001b[0m\u001b[1m(\u001b[0m\u001b[1;36m2009\u001b[0m, \u001b[1;36m12\u001b[0m, \u001b[1;36m2\u001b[0m\u001b[1m)\u001b[0m,\n",
       "    \u001b[33mevent_type\u001b[0m=\u001b[1m<\u001b[0m\u001b[1;95mEventType.airstrike:\u001b[0m\u001b[39m \u001b[0m\u001b[32m'airstrike'\u001b[0m\u001b[39m>,\u001b[0m\n",
       "\u001b[39m    \u001b[0m\u001b[33mprovince\u001b[0m\u001b[39m=<Province.kunar: \u001b[0m\u001b[32m'kunar'\u001b[0m\u001b[1m>\u001b[0m,\n",
       "    \u001b[33mtarget_group\u001b[0m=\u001b[32m'Taliban commander'\u001b[0m,\n",
       "    \u001b[33mmin_killed\u001b[0m=\u001b[1;36m0\u001b[0m,\n",
       "    \u001b[33mmin_captured\u001b[0m=\u001b[1;36m0\u001b[0m,\n",
       "    \u001b[33mkillq\u001b[0m=\u001b[3;91mFalse\u001b[0m,\n",
       "    \u001b[33mcaptureq\u001b[0m=\u001b[3;91mFalse\u001b[0m,\n",
       "    \u001b[33mkillcaptureraid\u001b[0m=\u001b[3;91mFalse\u001b[0m,\n",
       "    \u001b[33mairstrike\u001b[0m=\u001b[3;92mTrue\u001b[0m,\n",
       "    \u001b[33mnoshotsfired\u001b[0m=\u001b[3;91mFalse\u001b[0m,\n",
       "    \u001b[33mmin_leaders_killed\u001b[0m=\u001b[1;36m0\u001b[0m,\n",
       "    \u001b[33mmin_leaders_captured\u001b[0m=\u001b[1;36m0\u001b[0m\n",
       "\u001b[1m)\u001b[0m\n"
      ]
     },
     "metadata": {},
     "output_type": "display_data"
    }
   ],
   "source": [
    "import instructor\n",
    "import datetime\n",
    "from openai import OpenAI\n",
    "\n",
    "# patch the client to add `response_model` to the `create` method\n",
    "client = instructor.patch(OpenAI(), mode=instructor.Mode.MD_JSON)\n",
    "\n",
    "openai_resp = client.chat.completions.create(\n",
    "    model=\"gpt-3.5-turbo\",\n",
    "    messages=[\n",
    "        {\n",
    "            \"role\": \"user\",\n",
    "            \"content\": query,\n",
    "        },\n",
    "    ],\n",
    "    response_model=IsafEvent,\n",
    ")\n",
    "\n",
    "print(openai_resp)"
   ]
  },
  {
   "cell_type": "code",
   "execution_count": 22,
   "metadata": {},
   "outputs": [
    {
     "data": {
      "text/html": [
       "<pre style=\"white-space:pre;overflow-x:auto;line-height:normal;font-family:Menlo,'DejaVu Sans Mono',consolas,'Courier New',monospace\"><span style=\"color: #800080; text-decoration-color: #800080; font-weight: bold\">IsafEvent</span><span style=\"font-weight: bold\">(</span>\n",
       "    <span style=\"color: #808000; text-decoration-color: #808000\">name</span>=<span style=\"color: #008000; text-decoration-color: #008000\">'Taliban Compound Struck'</span>,\n",
       "    <span style=\"color: #808000; text-decoration-color: #808000\">start_date</span>=<span style=\"color: #800080; text-decoration-color: #800080; font-weight: bold\">datetime</span><span style=\"color: #800080; text-decoration-color: #800080; font-weight: bold\">.date</span><span style=\"font-weight: bold\">(</span><span style=\"color: #008080; text-decoration-color: #008080; font-weight: bold\">2009</span>, <span style=\"color: #008080; text-decoration-color: #008080; font-weight: bold\">12</span>, <span style=\"color: #008080; text-decoration-color: #008080; font-weight: bold\">2</span><span style=\"font-weight: bold\">)</span>,\n",
       "    <span style=\"color: #808000; text-decoration-color: #808000\">end_date</span>=<span style=\"color: #800080; text-decoration-color: #800080; font-weight: bold\">datetime</span><span style=\"color: #800080; text-decoration-color: #800080; font-weight: bold\">.date</span><span style=\"font-weight: bold\">(</span><span style=\"color: #008080; text-decoration-color: #008080; font-weight: bold\">2009</span>, <span style=\"color: #008080; text-decoration-color: #008080; font-weight: bold\">12</span>, <span style=\"color: #008080; text-decoration-color: #008080; font-weight: bold\">2</span><span style=\"font-weight: bold\">)</span>,\n",
       "    <span style=\"color: #808000; text-decoration-color: #808000\">event_type</span>=<span style=\"font-weight: bold\">&lt;</span><span style=\"color: #ff00ff; text-decoration-color: #ff00ff; font-weight: bold\">EventType.airstrike:</span><span style=\"color: #000000; text-decoration-color: #000000\"> </span><span style=\"color: #008000; text-decoration-color: #008000\">'airstrike'</span><span style=\"color: #000000; text-decoration-color: #000000\">&gt;,</span>\n",
       "<span style=\"color: #000000; text-decoration-color: #000000\">    </span><span style=\"color: #808000; text-decoration-color: #808000\">province</span><span style=\"color: #000000; text-decoration-color: #000000\">=&lt;Province.kunar: </span><span style=\"color: #008000; text-decoration-color: #008000\">'kunar'</span><span style=\"font-weight: bold\">&gt;</span>,\n",
       "    <span style=\"color: #808000; text-decoration-color: #808000\">target_group</span>=<span style=\"color: #008000; text-decoration-color: #008000\">'Taliban'</span>,\n",
       "    <span style=\"color: #808000; text-decoration-color: #808000\">min_killed</span>=<span style=\"color: #008080; text-decoration-color: #008080; font-weight: bold\">1</span>,\n",
       "    <span style=\"color: #808000; text-decoration-color: #808000\">min_captured</span>=<span style=\"color: #008080; text-decoration-color: #008080; font-weight: bold\">0</span>,\n",
       "    <span style=\"color: #808000; text-decoration-color: #808000\">killq</span>=<span style=\"color: #00ff00; text-decoration-color: #00ff00; font-style: italic\">True</span>,\n",
       "    <span style=\"color: #808000; text-decoration-color: #808000\">captureq</span>=<span style=\"color: #ff0000; text-decoration-color: #ff0000; font-style: italic\">False</span>,\n",
       "    <span style=\"color: #808000; text-decoration-color: #808000\">killcaptureraid</span>=<span style=\"color: #ff0000; text-decoration-color: #ff0000; font-style: italic\">False</span>,\n",
       "    <span style=\"color: #808000; text-decoration-color: #808000\">airstrike</span>=<span style=\"color: #00ff00; text-decoration-color: #00ff00; font-style: italic\">True</span>,\n",
       "    <span style=\"color: #808000; text-decoration-color: #808000\">noshotsfired</span>=<span style=\"color: #ff0000; text-decoration-color: #ff0000; font-style: italic\">False</span>,\n",
       "    <span style=\"color: #808000; text-decoration-color: #808000\">min_leaders_killed</span>=<span style=\"color: #008080; text-decoration-color: #008080; font-weight: bold\">1</span>,\n",
       "    <span style=\"color: #808000; text-decoration-color: #808000\">min_leaders_captured</span>=<span style=\"color: #008080; text-decoration-color: #008080; font-weight: bold\">0</span>\n",
       "<span style=\"font-weight: bold\">)</span>\n",
       "</pre>\n"
      ],
      "text/plain": [
       "\u001b[1;35mIsafEvent\u001b[0m\u001b[1m(\u001b[0m\n",
       "    \u001b[33mname\u001b[0m=\u001b[32m'Taliban Compound Struck'\u001b[0m,\n",
       "    \u001b[33mstart_date\u001b[0m=\u001b[1;35mdatetime\u001b[0m\u001b[1;35m.date\u001b[0m\u001b[1m(\u001b[0m\u001b[1;36m2009\u001b[0m, \u001b[1;36m12\u001b[0m, \u001b[1;36m2\u001b[0m\u001b[1m)\u001b[0m,\n",
       "    \u001b[33mend_date\u001b[0m=\u001b[1;35mdatetime\u001b[0m\u001b[1;35m.date\u001b[0m\u001b[1m(\u001b[0m\u001b[1;36m2009\u001b[0m, \u001b[1;36m12\u001b[0m, \u001b[1;36m2\u001b[0m\u001b[1m)\u001b[0m,\n",
       "    \u001b[33mevent_type\u001b[0m=\u001b[1m<\u001b[0m\u001b[1;95mEventType.airstrike:\u001b[0m\u001b[39m \u001b[0m\u001b[32m'airstrike'\u001b[0m\u001b[39m>,\u001b[0m\n",
       "\u001b[39m    \u001b[0m\u001b[33mprovince\u001b[0m\u001b[39m=<Province.kunar: \u001b[0m\u001b[32m'kunar'\u001b[0m\u001b[1m>\u001b[0m,\n",
       "    \u001b[33mtarget_group\u001b[0m=\u001b[32m'Taliban'\u001b[0m,\n",
       "    \u001b[33mmin_killed\u001b[0m=\u001b[1;36m1\u001b[0m,\n",
       "    \u001b[33mmin_captured\u001b[0m=\u001b[1;36m0\u001b[0m,\n",
       "    \u001b[33mkillq\u001b[0m=\u001b[3;92mTrue\u001b[0m,\n",
       "    \u001b[33mcaptureq\u001b[0m=\u001b[3;91mFalse\u001b[0m,\n",
       "    \u001b[33mkillcaptureraid\u001b[0m=\u001b[3;91mFalse\u001b[0m,\n",
       "    \u001b[33mairstrike\u001b[0m=\u001b[3;92mTrue\u001b[0m,\n",
       "    \u001b[33mnoshotsfired\u001b[0m=\u001b[3;91mFalse\u001b[0m,\n",
       "    \u001b[33mmin_leaders_killed\u001b[0m=\u001b[1;36m1\u001b[0m,\n",
       "    \u001b[33mmin_leaders_captured\u001b[0m=\u001b[1;36m0\u001b[0m\n",
       "\u001b[1m)\u001b[0m\n"
      ]
     },
     "metadata": {},
     "output_type": "display_data"
    }
   ],
   "source": [
    "# enables `response_model` in create call\n",
    "client = instructor.from_openai(\n",
    "    OpenAI(\n",
    "        base_url=\"http://localhost:11434/v1\",\n",
    "        api_key=\"ollama\",  # required, but unused\n",
    "    ),\n",
    "    mode=instructor.Mode.JSON,\n",
    ")\n",
    "\n",
    "mixtral_resp = client.chat.completions.create(\n",
    "    model=\"mixtral\",\n",
    "    messages=[\n",
    "        {\n",
    "            \"role\": \"user\",\n",
    "            \"content\": query,\n",
    "        }\n",
    "    ],\n",
    "    response_model=IsafEvent,\n",
    ")\n",
    "print(mixtral_resp)"
   ]
  },
  {
   "cell_type": "code",
   "execution_count": null,
   "metadata": {},
   "outputs": [],
   "source": []
  }
 ],
 "metadata": {
  "kernelspec": {
   "display_name": "isafpr",
   "language": "python",
   "name": "python3"
  },
  "language_info": {
   "codemirror_mode": {
    "name": "ipython",
    "version": 3
   },
   "file_extension": ".py",
   "mimetype": "text/x-python",
   "name": "python",
   "nbconvert_exporter": "python",
   "pygments_lexer": "ipython3",
   "version": "3.10.14"
  }
 },
 "nbformat": 4,
 "nbformat_minor": 2
}
