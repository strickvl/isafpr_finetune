{
 "cells": [
  {
   "cell_type": "raw",
   "metadata": {
    "vscode": {
     "languageId": "raw"
    }
   },
   "source": [
    "---\n",
    "date: '2024-06-03'\n",
    "description: \"I evaluated the baseline performance of OpenAI's GPT-4-Turbo on the ISAF Press Release dataset.\"\n",
    "output-file: 2024-06-03-isafpr-evaluating-baseline.html\n",
    "title: \"Evaluating the Baseline Performance of GPT-4-Turbo for Structured Data Extraction\"\n",
    "image: 'images/baseline-evaluation-gpt4.png'\n",
    "author: Alex Strick van Linschoten\n",
    "categories:\n",
    "  - nlp\n",
    "  - afghanistan\n",
    "  - datalabelling\n",
    "  - llms\n",
    "  - miniproject\n",
    "  - evaluation\n",
    "include-before-body: '<script defer data-domain=\"mlops.systems\" src=\"https://plausible.io/js/script.js\"></script>'\n",
    "toc: true\n",
    "layout: post\n",
    "comments:\n",
    "    utterances:\n",
    "        repo: strickvl/mlops-dot-systems\n",
    "---"
   ]
  },
  {
   "cell_type": "markdown",
   "metadata": {},
   "source": [
    "In [the previous\n",
    "post](https://mlops.systems/posts/2024-06-02-isafpr-prompting-baseline.html) we\n",
    "looked at a single example where a prompt could help us extract structured data\n",
    "from some text. Here were were relying on the inbuilt capabilities of LLMs to\n",
    "'reason' over the text and the task. In this post we'll try to get a sense of\n",
    "the overall / aggregate performance of `gpt-4-turbo` on the ISAF Press Releases\n",
    "data extraction task.\n",
    "\n",
    "The first thing we need to do is to load and process the data. If you remember\n",
    "from last time, there were some fields that needed conversion so that we're\n",
    "comparing apples to apples when we get back our result from the LLM.\n",
    "\n",
    "## Loading and processing the data"
   ]
  },
  {
   "cell_type": "code",
   "execution_count": 26,
   "metadata": {},
   "outputs": [
    {
     "data": {
      "application/vnd.jupyter.widget-view+json": {
       "model_id": "a84aac5a6b1240f39c59e1783b82c8a7",
       "version_major": 2,
       "version_minor": 0
      },
      "text/plain": [
       "Resolving data files:   0%|          | 0/4823 [00:00<?, ?it/s]"
      ]
     },
     "metadata": {},
     "output_type": "display_data"
    }
   ],
   "source": [
    "# get data from datasets\n",
    "from datasets import load_dataset\n",
    "import pandas as pd\n",
    "from rich import print\n",
    "import tqdm as notebook_tqdm\n",
    "\n",
    "# Load the dataset\n",
    "dataset = load_dataset(\"strickvl/isafpressreleases\", split=\"train\")\n",
    "\n",
    "# Convert the dataset to a pandas DataFrame\n",
    "df = pd.DataFrame(dataset)"
   ]
  },
  {
   "cell_type": "markdown",
   "metadata": {},
   "source": [
    "I'll output the column names as a reference since we'll be using almost all of\n",
    "these in our evaluation."
   ]
  },
  {
   "cell_type": "code",
   "execution_count": 27,
   "metadata": {},
   "outputs": [
    {
     "data": {
      "text/plain": [
       "Index(['name', 'eventrefnumber', 'text', 'StartDate', 'eventtype', 'province',\n",
       "       'citydistrict', 'village', 'targetgroup', 'commander', 'position',\n",
       "       'minkilled', 'mincaptured', 'capturedcharacterisation',\n",
       "       'killedcharacterisation', 'killq', 'captureq', 'killcaptureraid',\n",
       "       'airstrike', 'noshotsfired', 'dataprocessed', 'flagged', 'glossarymeta',\n",
       "       'minleaderskilled', 'minfacilitatorskilled', 'minleaderscaptured',\n",
       "       'minfacilitatorscaptured', 'leaderq'],\n",
       "      dtype='object')"
      ]
     },
     "execution_count": 27,
     "metadata": {},
     "output_type": "execute_result"
    }
   ],
   "source": [
    "df.columns"
   ]
  },
  {
   "cell_type": "markdown",
   "metadata": {},
   "source": [
    "We set up the same objects to support the Pydantic `IsafEvent` model. This is\n",
    "the same as last time so I'll hide the code but you can see it by clicking the\n",
    "popout arrow."
   ]
  },
  {
   "cell_type": "code",
   "execution_count": 28,
   "metadata": {},
   "outputs": [],
   "source": [
    "# | code-fold: true\n",
    "from pydantic import BaseModel, Field\n",
    "from datetime import date\n",
    "from enum import Enum\n",
    "\n",
    "\n",
    "class EventType(str, Enum):\n",
    "    airstrike = \"airstrike\"\n",
    "    detention = \"detention\"\n",
    "    captureandkill = \"captureandkill\"\n",
    "    insurgentskilled = \"insurgentskilled\"\n",
    "    exchangeoffire = \"exchangeoffire\"\n",
    "    civiliancasualty = \"civiliancasualty\"\n",
    "\n",
    "\n",
    "class Province(str, Enum):\n",
    "    badakhshan = \"badakhshan\"\n",
    "    badghis = \"badghis\"\n",
    "    baghlan = \"baghlan\"\n",
    "    balkh = \"balkh\"\n",
    "    bamyan = \"bamyan\"\n",
    "    day_kundi = \"day_kundi\"\n",
    "    farah = \"farah\"\n",
    "    faryab = \"faryab\"\n",
    "    ghazni = \"ghazni\"\n",
    "    ghor = \"ghor\"\n",
    "    helmand = \"helmand\"\n",
    "    herat = \"herat\"\n",
    "    jawzjan = \"jawzjan\"\n",
    "    kabul = \"kabul\"\n",
    "    kandahar = \"kandahar\"\n",
    "    kapisa = \"kapisa\"\n",
    "    khost = \"khost\"\n",
    "    kunar = \"kunar\"\n",
    "    kunduz = \"kunduz\"\n",
    "    laghman = \"laghman\"\n",
    "    logar = \"logar\"\n",
    "    nangarhar = \"nangarhar\"\n",
    "    nimroz = \"nimroz\"\n",
    "    nuristan = \"nuristan\"\n",
    "    paktia = \"paktia\"\n",
    "    paktika = \"paktika\"\n",
    "    panjshir = \"panjshir\"\n",
    "    parwan = \"parwan\"\n",
    "    samangan = \"samangan\"\n",
    "    sar_e_pol = \"sar_e_pol\"\n",
    "    takhar = \"takhar\"\n",
    "    uruzgan = \"uruzgan\"\n",
    "    wardak = \"wardak\"\n",
    "    zabul = \"zabul\"\n",
    "\n",
    "\n",
    "class TargetGroup(str, Enum):\n",
    "    taliban = \"taliban\"\n",
    "    haqqani = \"haqqani\"\n",
    "    criminals = \"criminals\"\n",
    "    aq = \"aq\"\n",
    "    hig = \"hig\"\n",
    "    let = \"let\"\n",
    "    imu = \"imu\"\n",
    "    judq = \"judq\"\n",
    "    iju = \"iju\"\n",
    "    hik = \"hik\"\n",
    "    ttp = \"ttp\"\n",
    "    other = \"other\""
   ]
  },
  {
   "cell_type": "markdown",
   "metadata": {},
   "source": [
    "Our `IsafEvent` is what we're trying to get to. We want to turn an unstructured\n",
    "piece of text (a press release) into the structured format you see below."
   ]
  },
  {
   "cell_type": "code",
   "execution_count": 29,
   "metadata": {},
   "outputs": [],
   "source": [
    "from typing import Set\n",
    "\n",
    "\n",
    "class IsafEvent(BaseModel):\n",
    "    name: str = Field(\n",
    "        description=\"A title or name for the event which summarises the event as a headline\"\n",
    "    )\n",
    "    start_date: date = Field(\n",
    "        description=\"The start date of the event in YYYY-MM-DD format\"\n",
    "    )\n",
    "    event_type: Set[EventType] = Field(\n",
    "        description=\"The event type. Can be multiple types.\"\n",
    "    )\n",
    "    province: Set[Province] = Field(\n",
    "        description=\"The province in which the event occurred. Can be multiple provinces.\"\n",
    "    )\n",
    "    target_group: Set[TargetGroup] = Field(\n",
    "        description=\"The group that was targetted during the event. Can be multiple groups.\"\n",
    "    )\n",
    "    min_killed: int = Field(\n",
    "        description=\"The minimum number of people killed during the event\"\n",
    "    )\n",
    "    min_captured: int = Field(\n",
    "        description=\"The minimum number of people captured during the event\"\n",
    "    )\n",
    "    killq: bool = Field(\n",
    "        description=\"Whether someone was killed or not during the event\"\n",
    "    )\n",
    "    captureq: bool = Field(\n",
    "        description=\"Whether someone was captured or not during the event\"\n",
    "    )\n",
    "    killcaptureraid: bool = Field(\n",
    "        description=\"Whether the event was a so-called 'kill-capture raid'.\"\n",
    "    )\n",
    "    airstrike: bool = Field(\n",
    "        description=\"Whether an airstrike was used during the event\"\n",
    "    )\n",
    "    noshotsfired: bool = Field(\n",
    "        description=\"Whether no shots were fired during the event\"\n",
    "    )\n",
    "    min_leaders_killed: int = Field(\n",
    "        description=\"The minimum number of leaders killed during the event\"\n",
    "    )\n",
    "    min_leaders_captured: int = Field(\n",
    "        description=\"The minimum number of leaders captured during the event\"\n",
    "    )\n",
    "\n",
    "    class Config:\n",
    "        arbitrary_types_allowed = True"
   ]
  },
  {
   "cell_type": "markdown",
   "metadata": {},
   "source": [
    "Again we can take a look at a single example to understand the task and to\n",
    "construct our first evaluation of this single example. The article looks like this:"
   ]
  },
  {
   "cell_type": "code",
   "execution_count": 51,
   "metadata": {},
   "outputs": [
    {
     "data": {
      "text/html": [
       "<pre style=\"white-space:pre;overflow-x:auto;line-height:normal;font-family:Menlo,'DejaVu Sans Mono',consolas,'Courier New',monospace\">Dec. <span style=\"color: #008080; text-decoration-color: #008080; font-weight: bold\">11</span>: Haqqani Facilitator Detained in Khowst; Security Discussed in Farah\n",
       "NEWS RELEASE ISAF Joint Command - Afghanistan   <span style=\"color: #008080; text-decoration-color: #008080; font-weight: bold\">2009</span>-<span style=\"color: #008080; text-decoration-color: #008080; font-weight: bold\">12</span>-CA-<span style=\"color: #008080; text-decoration-color: #008080; font-weight: bold\">065</span> For Immediate Release  KABUL, Afghanistan <span style=\"font-weight: bold\">(</span>Dec. <span style=\"color: #008080; text-decoration-color: #008080; font-weight: bold\">11</span><span style=\"font-weight: bold\">)</span> - An\n",
       "Afghan-international security force detained a couple of militants in Khowst province today, one of whom was a \n",
       "sought-after Haqqani facilitator.  The facilitator is responsible for the shipment and distribution of weapons to \n",
       "other militant elements in the area.\n",
       " The joint security force searched a compound near the village of Badal Kalay in the Nader Shakhot district where \n",
       "intelligence sources indicated the facilitator was located.  The facilitator identified himself and surrendered \n",
       "without incident.  No shots were fired and no one was injured.\n",
       "</pre>\n"
      ],
      "text/plain": [
       "Dec. \u001b[1;36m11\u001b[0m: Haqqani Facilitator Detained in Khowst; Security Discussed in Farah\n",
       "NEWS RELEASE ISAF Joint Command - Afghanistan   \u001b[1;36m2009\u001b[0m-\u001b[1;36m12\u001b[0m-CA-\u001b[1;36m065\u001b[0m For Immediate Release  KABUL, Afghanistan \u001b[1m(\u001b[0mDec. \u001b[1;36m11\u001b[0m\u001b[1m)\u001b[0m - An\n",
       "Afghan-international security force detained a couple of militants in Khowst province today, one of whom was a \n",
       "sought-after Haqqani facilitator.  The facilitator is responsible for the shipment and distribution of weapons to \n",
       "other militant elements in the area.\n",
       " The joint security force searched a compound near the village of Badal Kalay in the Nader Shakhot district where \n",
       "intelligence sources indicated the facilitator was located.  The facilitator identified himself and surrendered \n",
       "without incident.  No shots were fired and no one was injured.\n"
      ]
     },
     "metadata": {},
     "output_type": "display_data"
    }
   ],
   "source": [
    "article_id = 15\n",
    "article_text = df[\"text\"][article_id]\n",
    "print(article_text)"
   ]
  },
  {
   "cell_type": "markdown",
   "metadata": {},
   "source": [
    "And our prompt looks like this:"
   ]
  },
  {
   "cell_type": "code",
   "execution_count": 52,
   "metadata": {},
   "outputs": [],
   "source": [
    "query = f\"\"\"\n",
    "The following is a press release issued by ISAF (formerly operating in Afghanistan):\n",
    "{article_text}\n",
    "\n",
    "Please extract the following information from the press release:\n",
    "- The name of the event (summarising the event / text as a headline)\n",
    "- The start date of the event\n",
    "- The event type(s)\n",
    "- The province(s) in which the event occurred\n",
    "- The target group(s) of the event\n",
    "- The minimum number of people killed during the event\n",
    "- The minimum number of people captured during the event\n",
    "- Whether someone was killed or not during the event\n",
    "- Whether someone was captured or not during the event\n",
    "- Whether the event was a so-called 'kill-capture raid'\n",
    "- Whether an airstrike was used during the event\n",
    "- Whether no shots were fired during the event\n",
    "- The minimum number of leaders killed during the event\n",
    "- The minimum number of leaders captured during the event\n",
    "\n",
    "Annotation notes:\n",
    "- A 'faciliator' is not a leader.\n",
    "- If a press release states that 'insurgents' were detained without further details, assign a minimum number of two detained. Interpret 'a couple' as two. Interpret 'several' as at least three, even though it may sometimes refer to seven or eight. Classify the terms 'a few', 'some', 'a group', 'a small group', and 'multiple' as denoting at least three, even if they sometimes refer to larger numbers. Choose the smaller number if no other information is available in the press release to come up with a minimally acceptable figure. Interpret 'numerous' and 'a handful' as at least four, and 'a large number' as at least five.\n",
    "\"\"\""
   ]
  },
  {
   "cell_type": "markdown",
   "metadata": {},
   "source": [
    "Since we're going to be doing a lot of LLM calls I took a moment to refactor the\n",
    "code to make it less verbose. Click through to see the full code for the\n",
    "`query_llm` but basically it's just a wrapper around OpenAI, Anthropic and\n",
    "Ollama models and we route to one or the other of those depending on what model\n",
    "you say you want to use."
   ]
  },
  {
   "cell_type": "code",
   "execution_count": 53,
   "metadata": {},
   "outputs": [],
   "source": [
    "# | code-fold: true\n",
    "import instructor\n",
    "from anthropic import Anthropic\n",
    "from openai import OpenAI\n",
    "\n",
    "\n",
    "def query_llm(message: str, model: str, response_model: BaseModel) -> str:\n",
    "    if model in [\"gpt-4\", \"gpt-4-turbo-preview\", \"gpt-4-turbo\"]:\n",
    "        client = instructor.patch(OpenAI(), mode=instructor.Mode.JSON)\n",
    "\n",
    "        response = client.chat.completions.create(\n",
    "            model=model,\n",
    "            messages=[\n",
    "                {\n",
    "                    \"role\": \"user\",\n",
    "                    \"content\": message,\n",
    "                },\n",
    "            ],\n",
    "            response_model=response_model,\n",
    "            max_retries=3,\n",
    "        )\n",
    "    elif model in [\"claude-3-opus-20240229\", \"claude-3-opus-20240229-preview\"]:\n",
    "        client = instructor.from_anthropic(Anthropic())\n",
    "\n",
    "        # note that client.chat.completions.create will also work\n",
    "        response = client.messages.create(\n",
    "            model=model,\n",
    "            messages=[\n",
    "                {\n",
    "                    \"role\": \"user\",\n",
    "                    \"content\": message,\n",
    "                },\n",
    "            ],\n",
    "            max_tokens=4096,\n",
    "            response_model=response_model,\n",
    "            max_retries=3,\n",
    "        )\n",
    "    elif model in [\"mistral\", \"mixtral\", \"llama-3\", \"gemma\", \"gemma:2b\"]:\n",
    "        client = instructor.from_openai(\n",
    "            OpenAI(\n",
    "                base_url=\"http://localhost:11434/v1\",\n",
    "                api_key=\"ollama\",  # required, but unused\n",
    "            ),\n",
    "            mode=instructor.Mode.JSON,\n",
    "        )\n",
    "\n",
    "        response = client.chat.completions.create(\n",
    "            model=model,\n",
    "            messages=[\n",
    "                {\n",
    "                    \"role\": \"user\",\n",
    "                    \"content\": message,\n",
    "                }\n",
    "            ],\n",
    "            response_model=response_model,\n",
    "        )\n",
    "    return response"
   ]
  },
  {
   "cell_type": "markdown",
   "metadata": {},
   "source": [
    "And here are the responses for `gpt-4-turbo` and `claude-3-opus-20240229`."
   ]
  },
  {
   "cell_type": "code",
   "execution_count": 54,
   "metadata": {},
   "outputs": [
    {
     "data": {
      "text/html": [
       "<pre style=\"white-space:pre;overflow-x:auto;line-height:normal;font-family:Menlo,'DejaVu Sans Mono',consolas,'Courier New',monospace\"><span style=\"color: #800080; text-decoration-color: #800080; font-weight: bold\">IsafEvent</span><span style=\"font-weight: bold\">(</span>\n",
       "    <span style=\"color: #808000; text-decoration-color: #808000\">name</span>=<span style=\"color: #008000; text-decoration-color: #008000\">'Haqqani Facilitator Detained in Khowst'</span>,\n",
       "    <span style=\"color: #808000; text-decoration-color: #808000\">start_date</span>=<span style=\"color: #800080; text-decoration-color: #800080; font-weight: bold\">datetime</span><span style=\"color: #800080; text-decoration-color: #800080; font-weight: bold\">.date</span><span style=\"font-weight: bold\">(</span><span style=\"color: #008080; text-decoration-color: #008080; font-weight: bold\">2009</span>, <span style=\"color: #008080; text-decoration-color: #008080; font-weight: bold\">12</span>, <span style=\"color: #008080; text-decoration-color: #008080; font-weight: bold\">11</span><span style=\"font-weight: bold\">)</span>,\n",
       "    <span style=\"color: #808000; text-decoration-color: #808000\">event_type</span>=<span style=\"font-weight: bold\">{&lt;</span><span style=\"color: #ff00ff; text-decoration-color: #ff00ff; font-weight: bold\">EventType.detention:</span><span style=\"color: #000000; text-decoration-color: #000000\"> </span><span style=\"color: #008000; text-decoration-color: #008000\">'detention'</span><span style=\"color: #000000; text-decoration-color: #000000\">&gt;</span><span style=\"color: #000000; text-decoration-color: #000000; font-weight: bold\">}</span><span style=\"color: #000000; text-decoration-color: #000000\">,</span>\n",
       "<span style=\"color: #000000; text-decoration-color: #000000\">    </span><span style=\"color: #808000; text-decoration-color: #808000\">province</span><span style=\"color: #000000; text-decoration-color: #000000\">=</span><span style=\"color: #000000; text-decoration-color: #000000; font-weight: bold\">{</span><span style=\"color: #000000; text-decoration-color: #000000\">&lt;Province.khost: </span><span style=\"color: #008000; text-decoration-color: #008000\">'khost'</span><span style=\"color: #000000; text-decoration-color: #000000\">&gt;</span><span style=\"color: #000000; text-decoration-color: #000000; font-weight: bold\">}</span><span style=\"color: #000000; text-decoration-color: #000000\">,</span>\n",
       "<span style=\"color: #000000; text-decoration-color: #000000\">    </span><span style=\"color: #808000; text-decoration-color: #808000\">target_group</span><span style=\"color: #000000; text-decoration-color: #000000\">=</span><span style=\"color: #000000; text-decoration-color: #000000; font-weight: bold\">{</span><span style=\"color: #000000; text-decoration-color: #000000\">&lt;TargetGroup.haqqani: </span><span style=\"color: #008000; text-decoration-color: #008000\">'haqqani'</span><span style=\"font-weight: bold\">&gt;}</span>,\n",
       "    <span style=\"color: #808000; text-decoration-color: #808000\">min_killed</span>=<span style=\"color: #008080; text-decoration-color: #008080; font-weight: bold\">0</span>,\n",
       "    <span style=\"color: #808000; text-decoration-color: #808000\">min_captured</span>=<span style=\"color: #008080; text-decoration-color: #008080; font-weight: bold\">2</span>,\n",
       "    <span style=\"color: #808000; text-decoration-color: #808000\">killq</span>=<span style=\"color: #ff0000; text-decoration-color: #ff0000; font-style: italic\">False</span>,\n",
       "    <span style=\"color: #808000; text-decoration-color: #808000\">captureq</span>=<span style=\"color: #00ff00; text-decoration-color: #00ff00; font-style: italic\">True</span>,\n",
       "    <span style=\"color: #808000; text-decoration-color: #808000\">killcaptureraid</span>=<span style=\"color: #ff0000; text-decoration-color: #ff0000; font-style: italic\">False</span>,\n",
       "    <span style=\"color: #808000; text-decoration-color: #808000\">airstrike</span>=<span style=\"color: #ff0000; text-decoration-color: #ff0000; font-style: italic\">False</span>,\n",
       "    <span style=\"color: #808000; text-decoration-color: #808000\">noshotsfired</span>=<span style=\"color: #00ff00; text-decoration-color: #00ff00; font-style: italic\">True</span>,\n",
       "    <span style=\"color: #808000; text-decoration-color: #808000\">min_leaders_killed</span>=<span style=\"color: #008080; text-decoration-color: #008080; font-weight: bold\">0</span>,\n",
       "    <span style=\"color: #808000; text-decoration-color: #808000\">min_leaders_captured</span>=<span style=\"color: #008080; text-decoration-color: #008080; font-weight: bold\">0</span>\n",
       "<span style=\"font-weight: bold\">)</span>\n",
       "</pre>\n"
      ],
      "text/plain": [
       "\u001b[1;35mIsafEvent\u001b[0m\u001b[1m(\u001b[0m\n",
       "    \u001b[33mname\u001b[0m=\u001b[32m'Haqqani Facilitator Detained in Khowst'\u001b[0m,\n",
       "    \u001b[33mstart_date\u001b[0m=\u001b[1;35mdatetime\u001b[0m\u001b[1;35m.date\u001b[0m\u001b[1m(\u001b[0m\u001b[1;36m2009\u001b[0m, \u001b[1;36m12\u001b[0m, \u001b[1;36m11\u001b[0m\u001b[1m)\u001b[0m,\n",
       "    \u001b[33mevent_type\u001b[0m=\u001b[1m{\u001b[0m\u001b[1m<\u001b[0m\u001b[1;95mEventType.detention:\u001b[0m\u001b[39m \u001b[0m\u001b[32m'detention'\u001b[0m\u001b[39m>\u001b[0m\u001b[1;39m}\u001b[0m\u001b[39m,\u001b[0m\n",
       "\u001b[39m    \u001b[0m\u001b[33mprovince\u001b[0m\u001b[39m=\u001b[0m\u001b[1;39m{\u001b[0m\u001b[39m<Province.khost: \u001b[0m\u001b[32m'khost'\u001b[0m\u001b[39m>\u001b[0m\u001b[1;39m}\u001b[0m\u001b[39m,\u001b[0m\n",
       "\u001b[39m    \u001b[0m\u001b[33mtarget_group\u001b[0m\u001b[39m=\u001b[0m\u001b[1;39m{\u001b[0m\u001b[39m<TargetGroup.haqqani: \u001b[0m\u001b[32m'haqqani'\u001b[0m\u001b[1m>\u001b[0m\u001b[1m}\u001b[0m,\n",
       "    \u001b[33mmin_killed\u001b[0m=\u001b[1;36m0\u001b[0m,\n",
       "    \u001b[33mmin_captured\u001b[0m=\u001b[1;36m2\u001b[0m,\n",
       "    \u001b[33mkillq\u001b[0m=\u001b[3;91mFalse\u001b[0m,\n",
       "    \u001b[33mcaptureq\u001b[0m=\u001b[3;92mTrue\u001b[0m,\n",
       "    \u001b[33mkillcaptureraid\u001b[0m=\u001b[3;91mFalse\u001b[0m,\n",
       "    \u001b[33mairstrike\u001b[0m=\u001b[3;91mFalse\u001b[0m,\n",
       "    \u001b[33mnoshotsfired\u001b[0m=\u001b[3;92mTrue\u001b[0m,\n",
       "    \u001b[33mmin_leaders_killed\u001b[0m=\u001b[1;36m0\u001b[0m,\n",
       "    \u001b[33mmin_leaders_captured\u001b[0m=\u001b[1;36m0\u001b[0m\n",
       "\u001b[1m)\u001b[0m\n"
      ]
     },
     "metadata": {},
     "output_type": "display_data"
    }
   ],
   "source": [
    "openai_response = query_llm(query, \"gpt-4-turbo\", IsafEvent)\n",
    "print(openai_response)"
   ]
  },
  {
   "cell_type": "code",
   "execution_count": 55,
   "metadata": {},
   "outputs": [
    {
     "data": {
      "text/html": [
       "<pre style=\"white-space:pre;overflow-x:auto;line-height:normal;font-family:Menlo,'DejaVu Sans Mono',consolas,'Courier New',monospace\"><span style=\"color: #800080; text-decoration-color: #800080; font-weight: bold\">IsafEvent</span><span style=\"font-weight: bold\">(</span>\n",
       "    <span style=\"color: #808000; text-decoration-color: #808000\">name</span>=<span style=\"color: #008000; text-decoration-color: #008000\">'Haqqani Facilitator Detained in Khowst'</span>,\n",
       "    <span style=\"color: #808000; text-decoration-color: #808000\">start_date</span>=<span style=\"color: #800080; text-decoration-color: #800080; font-weight: bold\">datetime</span><span style=\"color: #800080; text-decoration-color: #800080; font-weight: bold\">.date</span><span style=\"font-weight: bold\">(</span><span style=\"color: #008080; text-decoration-color: #008080; font-weight: bold\">2009</span>, <span style=\"color: #008080; text-decoration-color: #008080; font-weight: bold\">12</span>, <span style=\"color: #008080; text-decoration-color: #008080; font-weight: bold\">11</span><span style=\"font-weight: bold\">)</span>,\n",
       "    <span style=\"color: #808000; text-decoration-color: #808000\">event_type</span>=<span style=\"font-weight: bold\">{&lt;</span><span style=\"color: #ff00ff; text-decoration-color: #ff00ff; font-weight: bold\">EventType.detention:</span><span style=\"color: #000000; text-decoration-color: #000000\"> </span><span style=\"color: #008000; text-decoration-color: #008000\">'detention'</span><span style=\"color: #000000; text-decoration-color: #000000\">&gt;</span><span style=\"color: #000000; text-decoration-color: #000000; font-weight: bold\">}</span><span style=\"color: #000000; text-decoration-color: #000000\">,</span>\n",
       "<span style=\"color: #000000; text-decoration-color: #000000\">    </span><span style=\"color: #808000; text-decoration-color: #808000\">province</span><span style=\"color: #000000; text-decoration-color: #000000\">=</span><span style=\"color: #000000; text-decoration-color: #000000; font-weight: bold\">{</span><span style=\"color: #000000; text-decoration-color: #000000\">&lt;Province.khost: </span><span style=\"color: #008000; text-decoration-color: #008000\">'khost'</span><span style=\"color: #000000; text-decoration-color: #000000\">&gt;</span><span style=\"color: #000000; text-decoration-color: #000000; font-weight: bold\">}</span><span style=\"color: #000000; text-decoration-color: #000000\">,</span>\n",
       "<span style=\"color: #000000; text-decoration-color: #000000\">    </span><span style=\"color: #808000; text-decoration-color: #808000\">target_group</span><span style=\"color: #000000; text-decoration-color: #000000\">=</span><span style=\"color: #000000; text-decoration-color: #000000; font-weight: bold\">{</span><span style=\"color: #000000; text-decoration-color: #000000\">&lt;TargetGroup.haqqani: </span><span style=\"color: #008000; text-decoration-color: #008000\">'haqqani'</span><span style=\"font-weight: bold\">&gt;}</span>,\n",
       "    <span style=\"color: #808000; text-decoration-color: #808000\">min_killed</span>=<span style=\"color: #008080; text-decoration-color: #008080; font-weight: bold\">0</span>,\n",
       "    <span style=\"color: #808000; text-decoration-color: #808000\">min_captured</span>=<span style=\"color: #008080; text-decoration-color: #008080; font-weight: bold\">2</span>,\n",
       "    <span style=\"color: #808000; text-decoration-color: #808000\">killq</span>=<span style=\"color: #ff0000; text-decoration-color: #ff0000; font-style: italic\">False</span>,\n",
       "    <span style=\"color: #808000; text-decoration-color: #808000\">captureq</span>=<span style=\"color: #00ff00; text-decoration-color: #00ff00; font-style: italic\">True</span>,\n",
       "    <span style=\"color: #808000; text-decoration-color: #808000\">killcaptureraid</span>=<span style=\"color: #ff0000; text-decoration-color: #ff0000; font-style: italic\">False</span>,\n",
       "    <span style=\"color: #808000; text-decoration-color: #808000\">airstrike</span>=<span style=\"color: #ff0000; text-decoration-color: #ff0000; font-style: italic\">False</span>,\n",
       "    <span style=\"color: #808000; text-decoration-color: #808000\">noshotsfired</span>=<span style=\"color: #00ff00; text-decoration-color: #00ff00; font-style: italic\">True</span>,\n",
       "    <span style=\"color: #808000; text-decoration-color: #808000\">min_leaders_killed</span>=<span style=\"color: #008080; text-decoration-color: #008080; font-weight: bold\">0</span>,\n",
       "    <span style=\"color: #808000; text-decoration-color: #808000\">min_leaders_captured</span>=<span style=\"color: #008080; text-decoration-color: #008080; font-weight: bold\">0</span>\n",
       "<span style=\"font-weight: bold\">)</span>\n",
       "</pre>\n"
      ],
      "text/plain": [
       "\u001b[1;35mIsafEvent\u001b[0m\u001b[1m(\u001b[0m\n",
       "    \u001b[33mname\u001b[0m=\u001b[32m'Haqqani Facilitator Detained in Khowst'\u001b[0m,\n",
       "    \u001b[33mstart_date\u001b[0m=\u001b[1;35mdatetime\u001b[0m\u001b[1;35m.date\u001b[0m\u001b[1m(\u001b[0m\u001b[1;36m2009\u001b[0m, \u001b[1;36m12\u001b[0m, \u001b[1;36m11\u001b[0m\u001b[1m)\u001b[0m,\n",
       "    \u001b[33mevent_type\u001b[0m=\u001b[1m{\u001b[0m\u001b[1m<\u001b[0m\u001b[1;95mEventType.detention:\u001b[0m\u001b[39m \u001b[0m\u001b[32m'detention'\u001b[0m\u001b[39m>\u001b[0m\u001b[1;39m}\u001b[0m\u001b[39m,\u001b[0m\n",
       "\u001b[39m    \u001b[0m\u001b[33mprovince\u001b[0m\u001b[39m=\u001b[0m\u001b[1;39m{\u001b[0m\u001b[39m<Province.khost: \u001b[0m\u001b[32m'khost'\u001b[0m\u001b[39m>\u001b[0m\u001b[1;39m}\u001b[0m\u001b[39m,\u001b[0m\n",
       "\u001b[39m    \u001b[0m\u001b[33mtarget_group\u001b[0m\u001b[39m=\u001b[0m\u001b[1;39m{\u001b[0m\u001b[39m<TargetGroup.haqqani: \u001b[0m\u001b[32m'haqqani'\u001b[0m\u001b[1m>\u001b[0m\u001b[1m}\u001b[0m,\n",
       "    \u001b[33mmin_killed\u001b[0m=\u001b[1;36m0\u001b[0m,\n",
       "    \u001b[33mmin_captured\u001b[0m=\u001b[1;36m2\u001b[0m,\n",
       "    \u001b[33mkillq\u001b[0m=\u001b[3;91mFalse\u001b[0m,\n",
       "    \u001b[33mcaptureq\u001b[0m=\u001b[3;92mTrue\u001b[0m,\n",
       "    \u001b[33mkillcaptureraid\u001b[0m=\u001b[3;91mFalse\u001b[0m,\n",
       "    \u001b[33mairstrike\u001b[0m=\u001b[3;91mFalse\u001b[0m,\n",
       "    \u001b[33mnoshotsfired\u001b[0m=\u001b[3;92mTrue\u001b[0m,\n",
       "    \u001b[33mmin_leaders_killed\u001b[0m=\u001b[1;36m0\u001b[0m,\n",
       "    \u001b[33mmin_leaders_captured\u001b[0m=\u001b[1;36m0\u001b[0m\n",
       "\u001b[1m)\u001b[0m\n"
      ]
     },
     "metadata": {},
     "output_type": "display_data"
    }
   ],
   "source": [
    "claude_response = query_llm(query, \"claude-3-opus-20240229\", IsafEvent)\n",
    "print(claude_response)"
   ]
  },
  {
   "cell_type": "markdown",
   "metadata": {},
   "source": [
    "Unfortunately I was unable to evaluate a local model for this task as I couldn't\n",
    "get a response back. I just got a Pydantic validation error, suggesting to me\n",
    "that maybe we're hitting the context length limits of those local models with all the extra metadata in the JSON schema that we're passing in\n",
    "via `instructor`. At any rate for now it's the first immediate validation of the\n",
    "idea to finetune the model if we're already hitting the limits of raw prompting\n",
    "for those models."
   ]
  },
  {
   "cell_type": "markdown",
   "metadata": {},
   "source": [
    "## Evaluating the results"
   ]
  },
  {
   "cell_type": "markdown",
   "metadata": {},
   "source": [
    "We'll want some kind of object to store our evaluation results and you can see\n",
    "all the fields I selected below. For fields where we can say 'true' or 'false'\n",
    "then I just did that, but for fields with multiple options then I thought a\n",
    "`float` value from 0 to 1 representing how 'correct' the options were would be\n",
    "the best option.\n",
    "\n",
    "For fields with numeric values (i.e. number of killed individuals etc) then I\n",
    "generally created two fields: one was just a boolean field for whether it was\n",
    "correct and then another which was the distance between the annotated value and\n",
    "the value we predicted."
   ]
  },
  {
   "cell_type": "code",
   "execution_count": 56,
   "metadata": {},
   "outputs": [],
   "source": [
    "class EvalResult(BaseModel):\n",
    "    start_date_correct: bool = Field(\n",
    "        description=\"Whether the start date of the event is correct\"\n",
    "    )\n",
    "    event_type_score: float = Field(\n",
    "        description=\"The score between 0 and 1 for the event type of the event\"\n",
    "    )\n",
    "    province_score: float = Field(\n",
    "        description=\"The score between 0 and 1 for the province of the event\"\n",
    "    )\n",
    "    target_group_score: float = Field(\n",
    "        description=\"The score between 0 and 1 for the target group of the event\"\n",
    "    )\n",
    "    min_killed_correct: bool = Field(\n",
    "        description=\"Whether the minimum number of people killed during the event is correct\"\n",
    "    )\n",
    "    min_killed_distance: int = Field(\n",
    "        description=\"The distance between the minimum number of people killed during the event and the annotated number of people killed during the event\"\n",
    "    )\n",
    "    min_captured_correct: bool = Field(\n",
    "        description=\"Whether the minimum number of people captured during the event is correct\"\n",
    "    )\n",
    "    min_captured_distance: int = Field(\n",
    "        description=\"The distance between the minimum number of people captured during the event and the annotated number of people captured during the event\"\n",
    "    )\n",
    "    killq_correct: bool = Field(description=\"Whether the 'killq' field is correct\")\n",
    "    captureq_correct: bool = Field(\n",
    "        description=\"Whether the 'captureq' field is correct\"\n",
    "    )\n",
    "    killcaptureraid_correct: bool = Field(\n",
    "        description=\"Whether the 'killcaptureraid' field is correct\"\n",
    "    )\n",
    "    airstrike_correct: bool = Field(\n",
    "        description=\"Whether the 'airstrike' field is correct\"\n",
    "    )\n",
    "    noshotsfired_correct: bool = Field(\n",
    "        description=\"Whether the 'noshotsfired' field is correct\"\n",
    "    )\n",
    "    min_leaders_killed_correct: bool = Field(\n",
    "        description=\"Whether the minimum number of leaders killed during the event is correct\"\n",
    "    )\n",
    "    min_leaders_killed_distance: int = Field(\n",
    "        description=\"The distance between the minimum number of leaders killed during the event and the annotated number of leaders killed during the event\"\n",
    "    )\n",
    "    min_leaders_captured_correct: bool = Field(\n",
    "        description=\"Whether the minimum number of leaders captured during the event is correct\"\n",
    "    )\n",
    "    min_leaders_captured_distance: int = Field(\n",
    "        description=\"The distance between the minimum number of leaders captured during the event and the annotated number of leaders captured during the event\"\n",
    "    )"
   ]
  },
  {
   "cell_type": "markdown",
   "metadata": {},
   "source": [
    "I then coded up some methods that would calculate the score for each of the\n",
    "fields. Once again, there's a decent amount of code here so I'll fold it away\n",
    "and you can unfold the code if you want to take a look."
   ]
  },
  {
   "cell_type": "code",
   "execution_count": 57,
   "metadata": {},
   "outputs": [],
   "source": [
    "# | code-fold: true\n",
    "def start_date_correct(start_date: date, correct_date: date) -> bool:\n",
    "    return start_date == correct_date.date()\n",
    "\n",
    "\n",
    "def event_type_score(event_type: Set[EventType], correct_event_types: str) -> float:\n",
    "    # Convert the correct event types string to a set of EventType enum values\n",
    "    correct_event_types_set = set(EventType(t) for t in correct_event_types.split(\";\"))\n",
    "\n",
    "    # Calculate the number of correct predictions\n",
    "    correct_predictions = len(event_type.intersection(correct_event_types_set))\n",
    "\n",
    "    # Calculate the total number of correct event types\n",
    "    total_correct_types = len(correct_event_types_set)\n",
    "\n",
    "    # Calculate the accuracy percentage\n",
    "    if total_correct_types > 0:\n",
    "        accuracy = correct_predictions / total_correct_types\n",
    "    else:\n",
    "        accuracy = 0.0\n",
    "\n",
    "    return accuracy\n",
    "\n",
    "\n",
    "def province_score(province: Set[Province], correct_province: str) -> float:\n",
    "    # Convert the correct province string to a set of Province enum values\n",
    "    correct_province_set = set()\n",
    "    invalid_provinces = set()\n",
    "    for p in correct_province.split(\";\"):\n",
    "        try:\n",
    "            correct_province_set.add(Province(p.lower()))\n",
    "        except ValueError:\n",
    "            invalid_provinces.add(p.lower())\n",
    "\n",
    "    # Calculate the number of correct predictions\n",
    "    correct_predictions = len(province.intersection(correct_province_set))\n",
    "\n",
    "    # Calculate the total number of provinces\n",
    "    total_provinces = len(correct_province_set) + len(invalid_provinces)\n",
    "\n",
    "    # Calculate the accuracy percentage\n",
    "    if total_provinces > 0:\n",
    "        accuracy = correct_predictions / total_provinces\n",
    "    else:\n",
    "        accuracy = 0.0\n",
    "\n",
    "    return accuracy\n",
    "\n",
    "\n",
    "def target_group_score(\n",
    "    target_group: Set[TargetGroup], correct_target_group: str\n",
    ") -> float:\n",
    "    # Handle the case where correct_target_group is an empty string\n",
    "    if correct_target_group.strip() == \"\":\n",
    "        correct_target_group_set = set()\n",
    "    else:\n",
    "        # Convert the correct target group string to a set of TargetGroup enum values\n",
    "        correct_target_group_set = set(\n",
    "            TargetGroup(t.lower()) for t in correct_target_group.split(\";\")\n",
    "        )\n",
    "\n",
    "    # Calculate the number of correct predictions\n",
    "    correct_predictions = len(target_group.intersection(correct_target_group_set))\n",
    "\n",
    "    # Calculate the total number of correct target groups\n",
    "    total_correct_target_groups = len(correct_target_group_set)\n",
    "\n",
    "    # Calculate the accuracy percentage\n",
    "    if total_correct_target_groups > 0:\n",
    "        accuracy = correct_predictions / total_correct_target_groups\n",
    "    else:\n",
    "        accuracy = 0.0\n",
    "\n",
    "    return accuracy\n",
    "\n",
    "\n",
    "def min_killed_correct(min_killed: int, correct_min_killed: str) -> bool:\n",
    "    return min_killed == int(correct_min_killed)\n",
    "\n",
    "\n",
    "def min_killed_distance(min_killed: int, correct_min_killed: str) -> int:\n",
    "    return abs(min_killed - int(correct_min_killed))\n",
    "\n",
    "\n",
    "def min_captured_correct(min_captured: int, correct_min_captured: str) -> bool:\n",
    "    return min_captured == int(correct_min_captured)\n",
    "\n",
    "\n",
    "def min_captured_distance(min_captured: int, correct_min_captured: str) -> int:\n",
    "    return abs(min_captured - int(correct_min_captured))\n",
    "\n",
    "\n",
    "def killq_correct(killq: bool, correct_killq: str) -> bool:\n",
    "    return killq == (correct_killq == \"true\")\n",
    "\n",
    "\n",
    "def captureq_correct(captureq: bool, correct_captureq: str) -> bool:\n",
    "    return captureq == (correct_captureq == \"true\")\n",
    "\n",
    "\n",
    "def killcaptureraid_correct(\n",
    "    killcaptureraid: bool, correct_killcaptureraid: str\n",
    ") -> bool:\n",
    "    return killcaptureraid == (correct_killcaptureraid == \"true\")\n",
    "\n",
    "\n",
    "def airstrike_correct(airstrike: bool, correct_airstrike: str) -> bool:\n",
    "    return airstrike == (correct_airstrike == \"true\")\n",
    "\n",
    "\n",
    "def noshotsfired_correct(noshotsfired: bool, correct_noshotsfired: str) -> bool:\n",
    "    return noshotsfired == (correct_noshotsfired == \"true\")\n",
    "\n",
    "\n",
    "def min_leaders_killed_correct(\n",
    "    min_leaders_killed: int, correct_min_leaders_killed: str\n",
    ") -> bool:\n",
    "    return min_leaders_killed == int(correct_min_leaders_killed)\n",
    "\n",
    "\n",
    "def min_leaders_killed_distance(\n",
    "    min_leaders_killed: int, correct_min_leaders_killed: str\n",
    ") -> int:\n",
    "    return abs(min_leaders_killed - int(correct_min_leaders_killed))\n",
    "\n",
    "\n",
    "def min_leaders_captured_correct(\n",
    "    min_leaders_captured: int, correct_min_leaders_captured: str\n",
    ") -> bool:\n",
    "    return min_leaders_captured == int(correct_min_leaders_captured)\n",
    "\n",
    "\n",
    "def min_leaders_captured_distance(\n",
    "    min_leaders_captured: int, correct_min_leaders_captured: str\n",
    ") -> int:\n",
    "    return abs(min_leaders_captured - int(correct_min_leaders_captured))"
   ]
  },
  {
   "cell_type": "markdown",
   "metadata": {},
   "source": [
    "I then wrote a function which could generate one of these `EvalResult` objects\n",
    "given a response from an LLM, the original dataframe (with the ground truth\n",
    "annotations) and the article id of the row.\n",
    "\n",
    "You can see how Claude 3 Opus and GPT-4 Turbo performed on our single article below:"
   ]
  },
  {
   "cell_type": "code",
   "execution_count": 58,
   "metadata": {},
   "outputs": [
    {
     "data": {
      "text/html": [
       "<pre style=\"white-space:pre;overflow-x:auto;line-height:normal;font-family:Menlo,'DejaVu Sans Mono',consolas,'Courier New',monospace\">Claude <span style=\"color: #008080; text-decoration-color: #008080; font-weight: bold\">3</span> Opus Scores\n",
       "</pre>\n"
      ],
      "text/plain": [
       "Claude \u001b[1;36m3\u001b[0m Opus Scores\n"
      ]
     },
     "metadata": {},
     "output_type": "display_data"
    },
    {
     "data": {
      "text/html": [
       "<pre style=\"white-space:pre;overflow-x:auto;line-height:normal;font-family:Menlo,'DejaVu Sans Mono',consolas,'Courier New',monospace\"><span style=\"color: #800080; text-decoration-color: #800080; font-weight: bold\">EvalResult</span><span style=\"font-weight: bold\">(</span>\n",
       "    <span style=\"color: #808000; text-decoration-color: #808000\">start_date_correct</span>=<span style=\"color: #00ff00; text-decoration-color: #00ff00; font-style: italic\">True</span>,\n",
       "    <span style=\"color: #808000; text-decoration-color: #808000\">event_type_score</span>=<span style=\"color: #008080; text-decoration-color: #008080; font-weight: bold\">1.0</span>,\n",
       "    <span style=\"color: #808000; text-decoration-color: #808000\">province_score</span>=<span style=\"color: #008080; text-decoration-color: #008080; font-weight: bold\">1.0</span>,\n",
       "    <span style=\"color: #808000; text-decoration-color: #808000\">target_group_score</span>=<span style=\"color: #008080; text-decoration-color: #008080; font-weight: bold\">1.0</span>,\n",
       "    <span style=\"color: #808000; text-decoration-color: #808000\">min_killed_correct</span>=<span style=\"color: #00ff00; text-decoration-color: #00ff00; font-style: italic\">True</span>,\n",
       "    <span style=\"color: #808000; text-decoration-color: #808000\">min_killed_distance</span>=<span style=\"color: #008080; text-decoration-color: #008080; font-weight: bold\">0</span>,\n",
       "    <span style=\"color: #808000; text-decoration-color: #808000\">min_captured_correct</span>=<span style=\"color: #00ff00; text-decoration-color: #00ff00; font-style: italic\">True</span>,\n",
       "    <span style=\"color: #808000; text-decoration-color: #808000\">min_captured_distance</span>=<span style=\"color: #008080; text-decoration-color: #008080; font-weight: bold\">0</span>,\n",
       "    <span style=\"color: #808000; text-decoration-color: #808000\">killq_correct</span>=<span style=\"color: #00ff00; text-decoration-color: #00ff00; font-style: italic\">True</span>,\n",
       "    <span style=\"color: #808000; text-decoration-color: #808000\">captureq_correct</span>=<span style=\"color: #00ff00; text-decoration-color: #00ff00; font-style: italic\">True</span>,\n",
       "    <span style=\"color: #808000; text-decoration-color: #808000\">killcaptureraid_correct</span>=<span style=\"color: #ff0000; text-decoration-color: #ff0000; font-style: italic\">False</span>,\n",
       "    <span style=\"color: #808000; text-decoration-color: #808000\">airstrike_correct</span>=<span style=\"color: #00ff00; text-decoration-color: #00ff00; font-style: italic\">True</span>,\n",
       "    <span style=\"color: #808000; text-decoration-color: #808000\">noshotsfired_correct</span>=<span style=\"color: #00ff00; text-decoration-color: #00ff00; font-style: italic\">True</span>,\n",
       "    <span style=\"color: #808000; text-decoration-color: #808000\">min_leaders_killed_correct</span>=<span style=\"color: #00ff00; text-decoration-color: #00ff00; font-style: italic\">True</span>,\n",
       "    <span style=\"color: #808000; text-decoration-color: #808000\">min_leaders_killed_distance</span>=<span style=\"color: #008080; text-decoration-color: #008080; font-weight: bold\">0</span>,\n",
       "    <span style=\"color: #808000; text-decoration-color: #808000\">min_leaders_captured_correct</span>=<span style=\"color: #00ff00; text-decoration-color: #00ff00; font-style: italic\">True</span>,\n",
       "    <span style=\"color: #808000; text-decoration-color: #808000\">min_leaders_captured_distance</span>=<span style=\"color: #008080; text-decoration-color: #008080; font-weight: bold\">0</span>\n",
       "<span style=\"font-weight: bold\">)</span>\n",
       "</pre>\n"
      ],
      "text/plain": [
       "\u001b[1;35mEvalResult\u001b[0m\u001b[1m(\u001b[0m\n",
       "    \u001b[33mstart_date_correct\u001b[0m=\u001b[3;92mTrue\u001b[0m,\n",
       "    \u001b[33mevent_type_score\u001b[0m=\u001b[1;36m1\u001b[0m\u001b[1;36m.0\u001b[0m,\n",
       "    \u001b[33mprovince_score\u001b[0m=\u001b[1;36m1\u001b[0m\u001b[1;36m.0\u001b[0m,\n",
       "    \u001b[33mtarget_group_score\u001b[0m=\u001b[1;36m1\u001b[0m\u001b[1;36m.0\u001b[0m,\n",
       "    \u001b[33mmin_killed_correct\u001b[0m=\u001b[3;92mTrue\u001b[0m,\n",
       "    \u001b[33mmin_killed_distance\u001b[0m=\u001b[1;36m0\u001b[0m,\n",
       "    \u001b[33mmin_captured_correct\u001b[0m=\u001b[3;92mTrue\u001b[0m,\n",
       "    \u001b[33mmin_captured_distance\u001b[0m=\u001b[1;36m0\u001b[0m,\n",
       "    \u001b[33mkillq_correct\u001b[0m=\u001b[3;92mTrue\u001b[0m,\n",
       "    \u001b[33mcaptureq_correct\u001b[0m=\u001b[3;92mTrue\u001b[0m,\n",
       "    \u001b[33mkillcaptureraid_correct\u001b[0m=\u001b[3;91mFalse\u001b[0m,\n",
       "    \u001b[33mairstrike_correct\u001b[0m=\u001b[3;92mTrue\u001b[0m,\n",
       "    \u001b[33mnoshotsfired_correct\u001b[0m=\u001b[3;92mTrue\u001b[0m,\n",
       "    \u001b[33mmin_leaders_killed_correct\u001b[0m=\u001b[3;92mTrue\u001b[0m,\n",
       "    \u001b[33mmin_leaders_killed_distance\u001b[0m=\u001b[1;36m0\u001b[0m,\n",
       "    \u001b[33mmin_leaders_captured_correct\u001b[0m=\u001b[3;92mTrue\u001b[0m,\n",
       "    \u001b[33mmin_leaders_captured_distance\u001b[0m=\u001b[1;36m0\u001b[0m\n",
       "\u001b[1m)\u001b[0m\n"
      ]
     },
     "metadata": {},
     "output_type": "display_data"
    },
    {
     "data": {
      "text/html": [
       "<pre style=\"white-space:pre;overflow-x:auto;line-height:normal;font-family:Menlo,'DejaVu Sans Mono',consolas,'Courier New',monospace\">GPT-<span style=\"color: #008080; text-decoration-color: #008080; font-weight: bold\">4</span> Turbo Scores\n",
       "</pre>\n"
      ],
      "text/plain": [
       "GPT-\u001b[1;36m4\u001b[0m Turbo Scores\n"
      ]
     },
     "metadata": {},
     "output_type": "display_data"
    },
    {
     "data": {
      "text/html": [
       "<pre style=\"white-space:pre;overflow-x:auto;line-height:normal;font-family:Menlo,'DejaVu Sans Mono',consolas,'Courier New',monospace\"><span style=\"color: #800080; text-decoration-color: #800080; font-weight: bold\">EvalResult</span><span style=\"font-weight: bold\">(</span>\n",
       "    <span style=\"color: #808000; text-decoration-color: #808000\">start_date_correct</span>=<span style=\"color: #00ff00; text-decoration-color: #00ff00; font-style: italic\">True</span>,\n",
       "    <span style=\"color: #808000; text-decoration-color: #808000\">event_type_score</span>=<span style=\"color: #008080; text-decoration-color: #008080; font-weight: bold\">1.0</span>,\n",
       "    <span style=\"color: #808000; text-decoration-color: #808000\">province_score</span>=<span style=\"color: #008080; text-decoration-color: #008080; font-weight: bold\">1.0</span>,\n",
       "    <span style=\"color: #808000; text-decoration-color: #808000\">target_group_score</span>=<span style=\"color: #008080; text-decoration-color: #008080; font-weight: bold\">1.0</span>,\n",
       "    <span style=\"color: #808000; text-decoration-color: #808000\">min_killed_correct</span>=<span style=\"color: #00ff00; text-decoration-color: #00ff00; font-style: italic\">True</span>,\n",
       "    <span style=\"color: #808000; text-decoration-color: #808000\">min_killed_distance</span>=<span style=\"color: #008080; text-decoration-color: #008080; font-weight: bold\">0</span>,\n",
       "    <span style=\"color: #808000; text-decoration-color: #808000\">min_captured_correct</span>=<span style=\"color: #00ff00; text-decoration-color: #00ff00; font-style: italic\">True</span>,\n",
       "    <span style=\"color: #808000; text-decoration-color: #808000\">min_captured_distance</span>=<span style=\"color: #008080; text-decoration-color: #008080; font-weight: bold\">0</span>,\n",
       "    <span style=\"color: #808000; text-decoration-color: #808000\">killq_correct</span>=<span style=\"color: #00ff00; text-decoration-color: #00ff00; font-style: italic\">True</span>,\n",
       "    <span style=\"color: #808000; text-decoration-color: #808000\">captureq_correct</span>=<span style=\"color: #00ff00; text-decoration-color: #00ff00; font-style: italic\">True</span>,\n",
       "    <span style=\"color: #808000; text-decoration-color: #808000\">killcaptureraid_correct</span>=<span style=\"color: #ff0000; text-decoration-color: #ff0000; font-style: italic\">False</span>,\n",
       "    <span style=\"color: #808000; text-decoration-color: #808000\">airstrike_correct</span>=<span style=\"color: #00ff00; text-decoration-color: #00ff00; font-style: italic\">True</span>,\n",
       "    <span style=\"color: #808000; text-decoration-color: #808000\">noshotsfired_correct</span>=<span style=\"color: #00ff00; text-decoration-color: #00ff00; font-style: italic\">True</span>,\n",
       "    <span style=\"color: #808000; text-decoration-color: #808000\">min_leaders_killed_correct</span>=<span style=\"color: #00ff00; text-decoration-color: #00ff00; font-style: italic\">True</span>,\n",
       "    <span style=\"color: #808000; text-decoration-color: #808000\">min_leaders_killed_distance</span>=<span style=\"color: #008080; text-decoration-color: #008080; font-weight: bold\">0</span>,\n",
       "    <span style=\"color: #808000; text-decoration-color: #808000\">min_leaders_captured_correct</span>=<span style=\"color: #00ff00; text-decoration-color: #00ff00; font-style: italic\">True</span>,\n",
       "    <span style=\"color: #808000; text-decoration-color: #808000\">min_leaders_captured_distance</span>=<span style=\"color: #008080; text-decoration-color: #008080; font-weight: bold\">0</span>\n",
       "<span style=\"font-weight: bold\">)</span>\n",
       "</pre>\n"
      ],
      "text/plain": [
       "\u001b[1;35mEvalResult\u001b[0m\u001b[1m(\u001b[0m\n",
       "    \u001b[33mstart_date_correct\u001b[0m=\u001b[3;92mTrue\u001b[0m,\n",
       "    \u001b[33mevent_type_score\u001b[0m=\u001b[1;36m1\u001b[0m\u001b[1;36m.0\u001b[0m,\n",
       "    \u001b[33mprovince_score\u001b[0m=\u001b[1;36m1\u001b[0m\u001b[1;36m.0\u001b[0m,\n",
       "    \u001b[33mtarget_group_score\u001b[0m=\u001b[1;36m1\u001b[0m\u001b[1;36m.0\u001b[0m,\n",
       "    \u001b[33mmin_killed_correct\u001b[0m=\u001b[3;92mTrue\u001b[0m,\n",
       "    \u001b[33mmin_killed_distance\u001b[0m=\u001b[1;36m0\u001b[0m,\n",
       "    \u001b[33mmin_captured_correct\u001b[0m=\u001b[3;92mTrue\u001b[0m,\n",
       "    \u001b[33mmin_captured_distance\u001b[0m=\u001b[1;36m0\u001b[0m,\n",
       "    \u001b[33mkillq_correct\u001b[0m=\u001b[3;92mTrue\u001b[0m,\n",
       "    \u001b[33mcaptureq_correct\u001b[0m=\u001b[3;92mTrue\u001b[0m,\n",
       "    \u001b[33mkillcaptureraid_correct\u001b[0m=\u001b[3;91mFalse\u001b[0m,\n",
       "    \u001b[33mairstrike_correct\u001b[0m=\u001b[3;92mTrue\u001b[0m,\n",
       "    \u001b[33mnoshotsfired_correct\u001b[0m=\u001b[3;92mTrue\u001b[0m,\n",
       "    \u001b[33mmin_leaders_killed_correct\u001b[0m=\u001b[3;92mTrue\u001b[0m,\n",
       "    \u001b[33mmin_leaders_killed_distance\u001b[0m=\u001b[1;36m0\u001b[0m,\n",
       "    \u001b[33mmin_leaders_captured_correct\u001b[0m=\u001b[3;92mTrue\u001b[0m,\n",
       "    \u001b[33mmin_leaders_captured_distance\u001b[0m=\u001b[1;36m0\u001b[0m\n",
       "\u001b[1m)\u001b[0m\n"
      ]
     },
     "metadata": {},
     "output_type": "display_data"
    }
   ],
   "source": [
    "def evaluate_llm_response(\n",
    "    response: IsafEvent, df: pd.DataFrame, article_id: int\n",
    ") -> EvalResult:\n",
    "    return EvalResult(\n",
    "        start_date_correct=start_date_correct(\n",
    "            response.start_date, df[\"StartDate\"][article_id]\n",
    "        ),\n",
    "        event_type_score=event_type_score(\n",
    "            response.event_type, df[\"eventtype\"][article_id]\n",
    "        ),\n",
    "        province_score=province_score(response.province, df[\"province\"][article_id]),\n",
    "        target_group_score=target_group_score(\n",
    "            response.target_group, df[\"targetgroup\"][article_id]\n",
    "        ),\n",
    "        min_killed_correct=min_killed_correct(\n",
    "            response.min_killed, df[\"minkilled\"][article_id]\n",
    "        ),\n",
    "        min_killed_distance=min_killed_distance(\n",
    "            response.min_killed, df[\"minkilled\"][article_id]\n",
    "        ),\n",
    "        min_captured_correct=min_captured_correct(\n",
    "            response.min_captured, df[\"mincaptured\"][article_id]\n",
    "        ),\n",
    "        min_captured_distance=min_captured_distance(\n",
    "            response.min_captured, df[\"mincaptured\"][article_id]\n",
    "        ),\n",
    "        killq_correct=killq_correct(response.killq, df[\"killq\"][article_id]),\n",
    "        captureq_correct=captureq_correct(\n",
    "            response.captureq, df[\"captureq\"][article_id]\n",
    "        ),\n",
    "        killcaptureraid_correct=killcaptureraid_correct(\n",
    "            response.killcaptureraid, df[\"killcaptureraid\"][article_id]\n",
    "        ),\n",
    "        airstrike_correct=airstrike_correct(\n",
    "            response.airstrike, df[\"airstrike\"][article_id]\n",
    "        ),\n",
    "        noshotsfired_correct=noshotsfired_correct(\n",
    "            response.noshotsfired, df[\"noshotsfired\"][article_id]\n",
    "        ),\n",
    "        min_leaders_killed_correct=min_leaders_killed_correct(\n",
    "            response.min_leaders_killed, df[\"minleaderskilled\"][article_id]\n",
    "        ),\n",
    "        min_leaders_killed_distance=min_leaders_killed_distance(\n",
    "            response.min_leaders_killed, df[\"minleaderskilled\"][article_id]\n",
    "        ),\n",
    "        min_leaders_captured_correct=min_leaders_captured_correct(\n",
    "            response.min_leaders_captured, df[\"minleaderscaptured\"][article_id]\n",
    "        ),\n",
    "        min_leaders_captured_distance=min_leaders_captured_distance(\n",
    "            response.min_leaders_captured, df[\"minleaderscaptured\"][article_id]\n",
    "        ),\n",
    "    )\n",
    "\n",
    "\n",
    "print(\"Claude 3 Opus Scores\")\n",
    "print(evaluate_llm_response(claude_response, df, article_id))\n",
    "print(\"GPT-4 Turbo Scores\")\n",
    "print(evaluate_llm_response(openai_response, df, article_id))"
   ]
  },
  {
   "cell_type": "markdown",
   "metadata": {},
   "source": [
    "At first glance it looks like our models performed pretty well. Both got\n",
    "the `killcaptureraid` status of the article wrong, but otherwise almost perfect\n",
    "across the board.\n",
    "\n",
    "Doing this one by one is tedious, of course, and really what we want is an\n",
    "evaluation across a random slice of our articles. So let's do that next.\n",
    "\n",
    "## Evaluating in aggregate"
   ]
  },
  {
   "cell_type": "markdown",
   "metadata": {},
   "source": [
    "Here we'll shuffle our dataframe to take a random sample of our articles, then\n",
    "we'll iterate over 100 of our rows to get the generated responses for GPT-4.\n",
    "We'll also time how long it takes to execute the cell so as to have some kind of\n",
    "benchmark for how long the inference takes. We can use that later on to try to\n",
    "beat this baseline."
   ]
  },
  {
   "cell_type": "code",
   "execution_count": 40,
   "metadata": {},
   "outputs": [
    {
     "name": "stdout",
     "output_type": "stream",
     "text": [
      "CPU times: user 2.53 s, sys: 34.4 ms, total: 2.57 s\n",
      "Wall time: 10min 4s\n"
     ]
    }
   ],
   "source": [
    "%%time\n",
    "\n",
    "# Shuffle the DataFrame\n",
    "shuffled_df = df.sample(frac=1, random_state=42)\n",
    "\n",
    "openai_responses = {}\n",
    "\n",
    "# Iterate over the first 5 rows of the shuffled DataFrame\n",
    "for index, row in shuffled_df.head(100).iterrows():\n",
    "    openai_responses[index] = query_llm(row[\"text\"], \"gpt-4-turbo\", IsafEvent)"
   ]
  },
  {
   "cell_type": "markdown",
   "metadata": {},
   "source": [
    "As you can see, this took a total of 10 minutes to run so on average this was\n",
    "around 6 seconds per article. Some articles will be longer than others, of\n",
    "course, so perhaps the aggregate '10 minutes per 100 articles' is a better metric.\n",
    "\n",
    "We now have our results in memory in the `openai_responses` dictionary. We can\n",
    "now calculate the scores for the results and plot them."
   ]
  },
  {
   "cell_type": "code",
   "execution_count": 49,
   "metadata": {},
   "outputs": [],
   "source": [
    "from typing import List\n",
    "import matplotlib.pyplot as plt\n",
    "\n",
    "\n",
    "def calculate_scores(eval_results: List[EvalResult]) -> dict:\n",
    "    scores = {}\n",
    "    total_count = len(eval_results)\n",
    "\n",
    "    for attr in EvalResult.__fields__:\n",
    "        if attr.endswith(\"_score\"):\n",
    "            scores[attr] = (\n",
    "                sum(getattr(result, attr) for result in eval_results) / total_count\n",
    "            )\n",
    "        elif attr.endswith(\"_correct\"):\n",
    "            scores[attr] = (\n",
    "                sum(getattr(result, attr) for result in eval_results) / total_count\n",
    "            )\n",
    "        elif attr.endswith(\"_distance\"):\n",
    "            if attr == \"min_captured_distance\":\n",
    "                capped_values = [\n",
    "                    min(max(getattr(result, attr), 0), 1) for result in eval_results\n",
    "                ]\n",
    "                scores[attr] = 1 - (sum(capped_values) / total_count)\n",
    "            else:\n",
    "                scores[attr] = 1 - (\n",
    "                    sum(getattr(result, attr) for result in eval_results) / total_count\n",
    "                )\n",
    "\n",
    "    return scores\n",
    "\n",
    "\n",
    "def plot_scores(scores: dict):\n",
    "    attributes = list(scores.keys())\n",
    "    values = [score * 100 for score in scores.values()]  # Convert scores to percentages\n",
    "\n",
    "    fig, ax = plt.subplots(figsize=(10, 8))  # Adjust the figure size\n",
    "\n",
    "    ax.barh(attributes, values)\n",
    "    ax.set_xlim(0, 100)  # Set x-axis range from 0 to 100\n",
    "    ax.set_xlabel(\"Score (%)\")\n",
    "    ax.set_ylabel(\"Attribute\")\n",
    "    ax.set_title(\"GPT-4 Turbo Evaluation Scores\")\n",
    "\n",
    "    for i, v in enumerate(values):\n",
    "        ax.text(v + 1, i, f\"{v:.2f}%\", va=\"center\")  # Add percentage symbol to labels\n",
    "\n",
    "    # Adjust the left margin to remove extra white space\n",
    "    plt.subplots_adjust(left=0.2)\n",
    "\n",
    "    plt.show()"
   ]
  },
  {
   "cell_type": "code",
   "execution_count": 50,
   "metadata": {},
   "outputs": [
    {
     "data": {
      "image/png": "[encoded data removed]",
      "text/plain": [
       "<Figure size 1000x800 with 1 Axes>"
      ]
     },
     "metadata": {},
     "output_type": "display_data"
    }
   ],
   "source": [
    "eval_results = []\n",
    "for article_id, response in openai_responses.items():\n",
    "    eval_results.append(evaluate_llm_response(response, df, article_id))\n",
    "scores = calculate_scores(eval_results)\n",
    "plot_scores(scores)"
   ]
  },
  {
   "cell_type": "markdown",
   "metadata": {},
   "source": [
    "This gives us a nice overview of how a mostly-unoptimised approach that just\n",
    "pairs prompting with `instructor` (i.e. passing in the JSON schema for our\n",
    "expected results) performs on our data. Some scores are pretty good,\n",
    "particularly where it's just a boolean we're getting back. For others involving\n",
    "numbers (i.e. numbers of killed or captured) we have much lower scores.\n",
    "\n",
    "The lowest performing score is the check as to whether the text describes a\n",
    "`killcaptureraid`. Our prompt doesn't really give much explanation or context as\n",
    "to how we determined this in the original dataset, so maybe an example or two in\n",
    "the prompt would help there.\n",
    "\n",
    "So overall, `gpt-4-turbo` performs moderately well, but this wouldn't be\n",
    "acceptable for the purposes of the report that I wrote. The assumption there was\n",
    "that the data was labelled more or less perfectly since I used that data to make\n",
    "accusations and claims about the international military presence in Afghanistan.\n",
    "It simply wouldn't be good enough to say that we 'mostly' got the right numbers\n",
    "when extracting the data from the text. We needed a really high accuracy across\n",
    "the board.\n",
    "\n",
    "If I was doing this properly the obvious next step would be to try to split up\n",
    "the task into discrete / focused parts as I mentioned in [the previous\n",
    "post](https://mlops.systems/posts/2024-06-02-isafpr-prompting-baseline.html).\n",
    "That way we could let the model take multiple shots at the problem and have less\n",
    "to handle overall in any one reading. I might return to that at a later stage\n",
    "because that might be the way forward with our finetuning work as well (to get\n",
    "best in class results).\n",
    "\n",
    "For now, though, the next step is to prepare our data\n",
    "for finetuning and then to actually run the finetuning. My preference is to\n",
    "select a base model which I can train on my local machine, but since we do have\n",
    "lots of credits with a variety of cloud providers I'll try to run my finetuning\n",
    "on more powerful machines in the cloud as well.\n"
   ]
  },
  {
   "cell_type": "markdown",
   "metadata": {},
   "source": []
  }
 ],
 "metadata": {
  "kernelspec": {
   "display_name": "isafpr",
   "language": "python",
   "name": "python3"
  },
  "language_info": {
   "codemirror_mode": {
    "name": "ipython",
    "version": 3
   },
   "file_extension": ".py",
   "mimetype": "text/x-python",
   "name": "python",
   "nbconvert_exporter": "python",
   "pygments_lexer": "ipython3",
   "version": "3.10.14"
  }
 },
 "nbformat": 4,
 "nbformat_minor": 2
}
